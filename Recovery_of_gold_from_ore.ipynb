{
 "cells": [
  {
   "cell_type": "markdown",
   "metadata": {
    "toc": true
   },
   "source": [
    "<h1>Содержание<span class=\"tocSkip\"></span></h1>\n",
    "<div class=\"toc\"><ul class=\"toc-item\"><li><span><a href=\"#Подготовка-данных\" data-toc-modified-id=\"Подготовка-данных-1\"><span class=\"toc-item-num\">1&nbsp;&nbsp;</span>Подготовка данных</a></span><ul class=\"toc-item\"><li><span><a href=\"#Загрузка-и-изучение-данных\" data-toc-modified-id=\"Загрузка-и-изучение-данных-1.1\"><span class=\"toc-item-num\">1.1&nbsp;&nbsp;</span>Загрузка и изучение данных</a></span></li><li><span><a href=\"#Расчет-эффективности-обогащения-для-обучающих-данных\" data-toc-modified-id=\"Расчет-эффективности-обогащения-для-обучающих-данных-1.2\"><span class=\"toc-item-num\">1.2&nbsp;&nbsp;</span>Расчет эффективности обогащения для обучающих данных</a></span></li><li><span><a href=\"#Анализ-признаков-в-тестовой-выборке\" data-toc-modified-id=\"Анализ-признаков-в-тестовой-выборке-1.3\"><span class=\"toc-item-num\">1.3&nbsp;&nbsp;</span>Анализ признаков в тестовой выборке</a></span></li><li><span><a href=\"#Предобработка-данных\" data-toc-modified-id=\"Предобработка-данных-1.4\"><span class=\"toc-item-num\">1.4&nbsp;&nbsp;</span>Предобработка данных</a></span><ul class=\"toc-item\"><li><span><a href=\"#Обработка-пропусков\" data-toc-modified-id=\"Обработка-пропусков-1.4.1\"><span class=\"toc-item-num\">1.4.1&nbsp;&nbsp;</span>Обработка пропусков</a></span><ul class=\"toc-item\"><li><span><a href=\"#Обучающая-выборка\" data-toc-modified-id=\"Обучающая-выборка-1.4.1.1\"><span class=\"toc-item-num\">1.4.1.1&nbsp;&nbsp;</span>Обучающая выборка</a></span></li><li><span><a href=\"#Тестовая-выборка\" data-toc-modified-id=\"Тестовая-выборка-1.4.1.2\"><span class=\"toc-item-num\">1.4.1.2&nbsp;&nbsp;</span>Тестовая выборка</a></span></li><li><span><a href=\"#Общие-данные\" data-toc-modified-id=\"Общие-данные-1.4.1.3\"><span class=\"toc-item-num\">1.4.1.3&nbsp;&nbsp;</span>Общие данные</a></span></li></ul></li><li><span><a href=\"#Работа-с-типами-данных\" data-toc-modified-id=\"Работа-с-типами-данных-1.4.2\"><span class=\"toc-item-num\">1.4.2&nbsp;&nbsp;</span>Работа с типами данных</a></span></li></ul></li><li><span><a href=\"#Замена-индексов\" data-toc-modified-id=\"Замена-индексов-1.5\"><span class=\"toc-item-num\">1.5&nbsp;&nbsp;</span>Замена индексов</a></span></li></ul></li><li><span><a href=\"#Анализ-данных\" data-toc-modified-id=\"Анализ-данных-2\"><span class=\"toc-item-num\">2&nbsp;&nbsp;</span>Анализ данных</a></span><ul class=\"toc-item\"><li><span><a href=\"#Изменение-концентрации-металлов-на-разных-этапах-очистки\" data-toc-modified-id=\"Изменение-концентрации-металлов-на-разных-этапах-очистки-2.1\"><span class=\"toc-item-num\">2.1&nbsp;&nbsp;</span>Изменение концентрации металлов на разных этапах очистки</a></span></li><li><span><a href=\"#Распределение-гранул-сырья-по-размерам\" data-toc-modified-id=\"Распределение-гранул-сырья-по-размерам-2.2\"><span class=\"toc-item-num\">2.2&nbsp;&nbsp;</span>Распределение гранул сырья по размерам</a></span></li><li><span><a href=\"#Исследование-суммарной-концентрации-веществ-на-разных-стадиях\" data-toc-modified-id=\"Исследование-суммарной-концентрации-веществ-на-разных-стадиях-2.3\"><span class=\"toc-item-num\">2.3&nbsp;&nbsp;</span>Исследование суммарной концентрации веществ на разных стадиях</a></span></li><li><span><a href=\"#Выводы\" data-toc-modified-id=\"Выводы-2.4\"><span class=\"toc-item-num\">2.4&nbsp;&nbsp;</span>Выводы</a></span></li></ul></li><li><span><a href=\"#Модель\" data-toc-modified-id=\"Модель-3\"><span class=\"toc-item-num\">3&nbsp;&nbsp;</span>Модель</a></span><ul class=\"toc-item\"><li><span><a href=\"#Метрика-качетсва-sMAPE\" data-toc-modified-id=\"Метрика-качетсва-sMAPE-3.1\"><span class=\"toc-item-num\">3.1&nbsp;&nbsp;</span>Метрика качетсва sMAPE</a></span></li><li><span><a href=\"#Подготовка-признаков\" data-toc-modified-id=\"Подготовка-признаков-3.2\"><span class=\"toc-item-num\">3.2&nbsp;&nbsp;</span>Подготовка признаков</a></span></li><li><span><a href=\"#Построение-модели-для-эффективности-после-флотации\" data-toc-modified-id=\"Построение-модели-для-эффективности-после-флотации-3.3\"><span class=\"toc-item-num\">3.3&nbsp;&nbsp;</span>Построение модели для эффективности после флотации</a></span><ul class=\"toc-item\"><li><span><a href=\"#Модель-решающего-дерева\" data-toc-modified-id=\"Модель-решающего-дерева-3.3.1\"><span class=\"toc-item-num\">3.3.1&nbsp;&nbsp;</span>Модель решающего дерева</a></span></li><li><span><a href=\"#Модель-случайного-леса\" data-toc-modified-id=\"Модель-случайного-леса-3.3.2\"><span class=\"toc-item-num\">3.3.2&nbsp;&nbsp;</span>Модель случайного леса</a></span></li><li><span><a href=\"#Модель-линейной-регрессии\" data-toc-modified-id=\"Модель-линейной-регрессии-3.3.3\"><span class=\"toc-item-num\">3.3.3&nbsp;&nbsp;</span>Модель линейной регрессии</a></span></li></ul></li><li><span><a href=\"#Построение-модели-для-финальной-эффективности\" data-toc-modified-id=\"Построение-модели-для-финальной-эффективности-3.4\"><span class=\"toc-item-num\">3.4&nbsp;&nbsp;</span>Построение модели для финальной эффективности</a></span><ul class=\"toc-item\"><li><span><a href=\"#Модель-решающего-дерева\" data-toc-modified-id=\"Модель-решающего-дерева-3.4.1\"><span class=\"toc-item-num\">3.4.1&nbsp;&nbsp;</span>Модель решающего дерева</a></span></li><li><span><a href=\"#Модель-случайного-леса\" data-toc-modified-id=\"Модель-случайного-леса-3.4.2\"><span class=\"toc-item-num\">3.4.2&nbsp;&nbsp;</span>Модель случайного леса</a></span></li><li><span><a href=\"#Модель-линейной-регрессии\" data-toc-modified-id=\"Модель-линейной-регрессии-3.4.3\"><span class=\"toc-item-num\">3.4.3&nbsp;&nbsp;</span>Модель линейной регрессии</a></span></li></ul></li><li><span><a href=\"#Проверка-на-тестовой-выборке\" data-toc-modified-id=\"Проверка-на-тестовой-выборке-3.5\"><span class=\"toc-item-num\">3.5&nbsp;&nbsp;</span>Проверка на тестовой выборке</a></span><ul class=\"toc-item\"><li><span><a href=\"#Для-эффективности-после-флотации\" data-toc-modified-id=\"Для-эффективности-после-флотации-3.5.1\"><span class=\"toc-item-num\">3.5.1&nbsp;&nbsp;</span>Для эффективности после флотации</a></span></li><li><span><a href=\"#Для-финальной-эффективности\" data-toc-modified-id=\"Для-финальной-эффективности-3.5.2\"><span class=\"toc-item-num\">3.5.2&nbsp;&nbsp;</span>Для финальной эффективности</a></span></li></ul></li><li><span><a href=\"#Выводы\" data-toc-modified-id=\"Выводы-3.6\"><span class=\"toc-item-num\">3.6&nbsp;&nbsp;</span>Выводы</a></span></li></ul></li><li><span><a href=\"#Чек-лист-готовности-проекта\" data-toc-modified-id=\"Чек-лист-готовности-проекта-4\"><span class=\"toc-item-num\">4&nbsp;&nbsp;</span>Чек-лист готовности проекта</a></span></li></ul></div>"
   ]
  },
  {
   "cell_type": "markdown",
   "metadata": {},
   "source": [
    "# Восстановление золота из руды"
   ]
  },
  {
   "cell_type": "markdown",
   "metadata": {},
   "source": [
    "В рамках проекта необходимо построить модель для задачи ргерессии.\n",
    "\n",
    "Нужно подготовить прототип модели машинного обучения для «Цифры». Компания разрабатывает решения для эффективной работы промышленных предприятий.\n",
    "\n",
    "Модель должна предсказать коэффициент восстановления золота из золотосодержащей руды. Для построения модели используются данные с параметрами добычи и очистки. \n",
    "\n",
    "Модель поможет оптимизировать производство, чтобы не запускать предприятие с убыточными характеристиками.\n",
    "\n",
    "Этапы решения задачи:\n",
    "\n",
    "1. Подготовка данных;\n",
    "2. Исследовательский анализ данных;\n",
    "3. Построение и обучение модели."
   ]
  },
  {
   "cell_type": "markdown",
   "metadata": {},
   "source": [
    "## Подготовка данных"
   ]
  },
  {
   "cell_type": "markdown",
   "metadata": {},
   "source": [
    "### Загрузка и изучение данных"
   ]
  },
  {
   "cell_type": "markdown",
   "metadata": {},
   "source": [
    "Импортирт библиотек:"
   ]
  },
  {
   "cell_type": "code",
   "execution_count": 145,
   "metadata": {},
   "outputs": [],
   "source": [
    "import pandas as pd\n",
    "import matplotlib.pyplot as plt\n",
    "\n",
    "from sklearn.dummy import DummyRegressor\n",
    "from sklearn.ensemble import RandomForestRegressor\n",
    "from sklearn.linear_model import LinearRegression\n",
    "from sklearn.metrics import mean_absolute_error\n",
    "from sklearn.model_selection import cross_val_predict\n",
    "from sklearn.preprocessing import StandardScaler\n",
    "from sklearn.tree import DecisionTreeRegressor\n",
    "\n",
    "from tqdm import tqdm\n",
    "\n",
    "from itertools import product"
   ]
  },
  {
   "cell_type": "markdown",
   "metadata": {},
   "source": [
    "Чтение файлов:"
   ]
  },
  {
   "cell_type": "code",
   "execution_count": 82,
   "metadata": {},
   "outputs": [],
   "source": [
    "data_train = pd.read_csv('/datasets/gold_recovery_train_new.csv')\n",
    "data_test = pd.read_csv('/datasets/gold_recovery_test_new.csv')\n",
    "data = pd.read_csv('/datasets/gold_recovery_full_new.csv')"
   ]
  },
  {
   "cell_type": "markdown",
   "metadata": {},
   "source": [
    "Выведем основную информацию о данных методом `info()`."
   ]
  },
  {
   "cell_type": "code",
   "execution_count": 83,
   "metadata": {
    "collapsed": true
   },
   "outputs": [
    {
     "name": "stdout",
     "output_type": "stream",
     "text": [
      "<class 'pandas.core.frame.DataFrame'>\n",
      "RangeIndex: 19439 entries, 0 to 19438\n",
      "Data columns (total 87 columns):\n",
      " #   Column                                              Non-Null Count  Dtype  \n",
      "---  ------                                              --------------  -----  \n",
      " 0   date                                                19439 non-null  object \n",
      " 1   final.output.concentrate_ag                         19438 non-null  float64\n",
      " 2   final.output.concentrate_pb                         19438 non-null  float64\n",
      " 3   final.output.concentrate_sol                        19228 non-null  float64\n",
      " 4   final.output.concentrate_au                         19439 non-null  float64\n",
      " 5   final.output.recovery                               19439 non-null  float64\n",
      " 6   final.output.tail_ag                                19438 non-null  float64\n",
      " 7   final.output.tail_pb                                19338 non-null  float64\n",
      " 8   final.output.tail_sol                               19433 non-null  float64\n",
      " 9   final.output.tail_au                                19439 non-null  float64\n",
      " 10  primary_cleaner.input.sulfate                       19415 non-null  float64\n",
      " 11  primary_cleaner.input.depressant                    19402 non-null  float64\n",
      " 12  primary_cleaner.input.feed_size                     19439 non-null  float64\n",
      " 13  primary_cleaner.input.xanthate                      19335 non-null  float64\n",
      " 14  primary_cleaner.output.concentrate_ag               19439 non-null  float64\n",
      " 15  primary_cleaner.output.concentrate_pb               19323 non-null  float64\n",
      " 16  primary_cleaner.output.concentrate_sol              19069 non-null  float64\n",
      " 17  primary_cleaner.output.concentrate_au               19439 non-null  float64\n",
      " 18  primary_cleaner.output.tail_ag                      19435 non-null  float64\n",
      " 19  primary_cleaner.output.tail_pb                      19418 non-null  float64\n",
      " 20  primary_cleaner.output.tail_sol                     19377 non-null  float64\n",
      " 21  primary_cleaner.output.tail_au                      19439 non-null  float64\n",
      " 22  primary_cleaner.state.floatbank8_a_air              19435 non-null  float64\n",
      " 23  primary_cleaner.state.floatbank8_a_level            19438 non-null  float64\n",
      " 24  primary_cleaner.state.floatbank8_b_air              19435 non-null  float64\n",
      " 25  primary_cleaner.state.floatbank8_b_level            19438 non-null  float64\n",
      " 26  primary_cleaner.state.floatbank8_c_air              19437 non-null  float64\n",
      " 27  primary_cleaner.state.floatbank8_c_level            19438 non-null  float64\n",
      " 28  primary_cleaner.state.floatbank8_d_air              19436 non-null  float64\n",
      " 29  primary_cleaner.state.floatbank8_d_level            19438 non-null  float64\n",
      " 30  rougher.calculation.sulfate_to_au_concentrate       19437 non-null  float64\n",
      " 31  rougher.calculation.floatbank10_sulfate_to_au_feed  19437 non-null  float64\n",
      " 32  rougher.calculation.floatbank11_sulfate_to_au_feed  19437 non-null  float64\n",
      " 33  rougher.calculation.au_pb_ratio                     19439 non-null  float64\n",
      " 34  rougher.input.feed_ag                               19439 non-null  float64\n",
      " 35  rougher.input.feed_pb                               19339 non-null  float64\n",
      " 36  rougher.input.feed_rate                             19428 non-null  float64\n",
      " 37  rougher.input.feed_size                             19294 non-null  float64\n",
      " 38  rougher.input.feed_sol                              19340 non-null  float64\n",
      " 39  rougher.input.feed_au                               19439 non-null  float64\n",
      " 40  rougher.input.floatbank10_sulfate                   19405 non-null  float64\n",
      " 41  rougher.input.floatbank10_xanthate                  19431 non-null  float64\n",
      " 42  rougher.input.floatbank11_sulfate                   19395 non-null  float64\n",
      " 43  rougher.input.floatbank11_xanthate                  18986 non-null  float64\n",
      " 44  rougher.output.concentrate_ag                       19439 non-null  float64\n",
      " 45  rougher.output.concentrate_pb                       19439 non-null  float64\n",
      " 46  rougher.output.concentrate_sol                      19416 non-null  float64\n",
      " 47  rougher.output.concentrate_au                       19439 non-null  float64\n",
      " 48  rougher.output.recovery                             19439 non-null  float64\n",
      " 49  rougher.output.tail_ag                              19438 non-null  float64\n",
      " 50  rougher.output.tail_pb                              19439 non-null  float64\n",
      " 51  rougher.output.tail_sol                             19439 non-null  float64\n",
      " 52  rougher.output.tail_au                              19439 non-null  float64\n",
      " 53  rougher.state.floatbank10_a_air                     19438 non-null  float64\n",
      " 54  rougher.state.floatbank10_a_level                   19438 non-null  float64\n",
      " 55  rougher.state.floatbank10_b_air                     19438 non-null  float64\n",
      " 56  rougher.state.floatbank10_b_level                   19438 non-null  float64\n",
      " 57  rougher.state.floatbank10_c_air                     19438 non-null  float64\n",
      " 58  rougher.state.floatbank10_c_level                   19438 non-null  float64\n",
      " 59  rougher.state.floatbank10_d_air                     19439 non-null  float64\n",
      " 60  rougher.state.floatbank10_d_level                   19439 non-null  float64\n",
      " 61  rougher.state.floatbank10_e_air                     19003 non-null  float64\n",
      " 62  rougher.state.floatbank10_e_level                   19439 non-null  float64\n",
      " 63  rougher.state.floatbank10_f_air                     19439 non-null  float64\n",
      " 64  rougher.state.floatbank10_f_level                   19439 non-null  float64\n",
      " 65  secondary_cleaner.output.tail_ag                    19437 non-null  float64\n",
      " 66  secondary_cleaner.output.tail_pb                    19427 non-null  float64\n",
      " 67  secondary_cleaner.output.tail_sol                   17691 non-null  float64\n",
      " 68  secondary_cleaner.output.tail_au                    19439 non-null  float64\n",
      " 69  secondary_cleaner.state.floatbank2_a_air            19219 non-null  float64\n",
      " 70  secondary_cleaner.state.floatbank2_a_level          19438 non-null  float64\n",
      " 71  secondary_cleaner.state.floatbank2_b_air            19416 non-null  float64\n",
      " 72  secondary_cleaner.state.floatbank2_b_level          19438 non-null  float64\n",
      " 73  secondary_cleaner.state.floatbank3_a_air            19426 non-null  float64\n",
      " 74  secondary_cleaner.state.floatbank3_a_level          19438 non-null  float64\n",
      " 75  secondary_cleaner.state.floatbank3_b_air            19438 non-null  float64\n",
      " 76  secondary_cleaner.state.floatbank3_b_level          19438 non-null  float64\n",
      " 77  secondary_cleaner.state.floatbank4_a_air            19433 non-null  float64\n",
      " 78  secondary_cleaner.state.floatbank4_a_level          19438 non-null  float64\n",
      " 79  secondary_cleaner.state.floatbank4_b_air            19438 non-null  float64\n",
      " 80  secondary_cleaner.state.floatbank4_b_level          19438 non-null  float64\n",
      " 81  secondary_cleaner.state.floatbank5_a_air            19438 non-null  float64\n",
      " 82  secondary_cleaner.state.floatbank5_a_level          19438 non-null  float64\n",
      " 83  secondary_cleaner.state.floatbank5_b_air            19438 non-null  float64\n",
      " 84  secondary_cleaner.state.floatbank5_b_level          19438 non-null  float64\n",
      " 85  secondary_cleaner.state.floatbank6_a_air            19437 non-null  float64\n",
      " 86  secondary_cleaner.state.floatbank6_a_level          19438 non-null  float64\n",
      "dtypes: float64(86), object(1)\n",
      "memory usage: 12.9+ MB\n"
     ]
    }
   ],
   "source": [
    "data.info()"
   ]
  },
  {
   "cell_type": "markdown",
   "metadata": {},
   "source": [
    "В таблице 19 439 строк, 87 столбцов. Есть пропуски. Типы данных соответствуют содержимому всех столбцов, кроме столбца `'date'`, его нужно привести к типу `datetime`."
   ]
  },
  {
   "cell_type": "code",
   "execution_count": 84,
   "metadata": {
    "collapsed": true
   },
   "outputs": [
    {
     "data": {
      "text/html": [
       "<div>\n",
       "<style scoped>\n",
       "    .dataframe tbody tr th:only-of-type {\n",
       "        vertical-align: middle;\n",
       "    }\n",
       "\n",
       "    .dataframe tbody tr th {\n",
       "        vertical-align: top;\n",
       "    }\n",
       "\n",
       "    .dataframe thead th {\n",
       "        text-align: right;\n",
       "    }\n",
       "</style>\n",
       "<table border=\"1\" class=\"dataframe\">\n",
       "  <thead>\n",
       "    <tr style=\"text-align: right;\">\n",
       "      <th></th>\n",
       "      <th>date</th>\n",
       "      <th>final.output.concentrate_ag</th>\n",
       "      <th>final.output.concentrate_pb</th>\n",
       "      <th>final.output.concentrate_sol</th>\n",
       "      <th>final.output.concentrate_au</th>\n",
       "      <th>final.output.recovery</th>\n",
       "      <th>final.output.tail_ag</th>\n",
       "      <th>final.output.tail_pb</th>\n",
       "      <th>final.output.tail_sol</th>\n",
       "      <th>final.output.tail_au</th>\n",
       "      <th>...</th>\n",
       "      <th>secondary_cleaner.state.floatbank4_a_air</th>\n",
       "      <th>secondary_cleaner.state.floatbank4_a_level</th>\n",
       "      <th>secondary_cleaner.state.floatbank4_b_air</th>\n",
       "      <th>secondary_cleaner.state.floatbank4_b_level</th>\n",
       "      <th>secondary_cleaner.state.floatbank5_a_air</th>\n",
       "      <th>secondary_cleaner.state.floatbank5_a_level</th>\n",
       "      <th>secondary_cleaner.state.floatbank5_b_air</th>\n",
       "      <th>secondary_cleaner.state.floatbank5_b_level</th>\n",
       "      <th>secondary_cleaner.state.floatbank6_a_air</th>\n",
       "      <th>secondary_cleaner.state.floatbank6_a_level</th>\n",
       "    </tr>\n",
       "  </thead>\n",
       "  <tbody>\n",
       "    <tr>\n",
       "      <th>0</th>\n",
       "      <td>2016-01-15 00:00:00</td>\n",
       "      <td>6.055403</td>\n",
       "      <td>9.889648</td>\n",
       "      <td>5.507324</td>\n",
       "      <td>42.192020</td>\n",
       "      <td>70.541216</td>\n",
       "      <td>10.411962</td>\n",
       "      <td>0.895447</td>\n",
       "      <td>16.904297</td>\n",
       "      <td>2.143149</td>\n",
       "      <td>...</td>\n",
       "      <td>14.016835</td>\n",
       "      <td>-502.488007</td>\n",
       "      <td>12.099931</td>\n",
       "      <td>-504.715942</td>\n",
       "      <td>9.925633</td>\n",
       "      <td>-498.310211</td>\n",
       "      <td>8.079666</td>\n",
       "      <td>-500.470978</td>\n",
       "      <td>14.151341</td>\n",
       "      <td>-605.841980</td>\n",
       "    </tr>\n",
       "    <tr>\n",
       "      <th>1</th>\n",
       "      <td>2016-01-15 01:00:00</td>\n",
       "      <td>6.029369</td>\n",
       "      <td>9.968944</td>\n",
       "      <td>5.257781</td>\n",
       "      <td>42.701629</td>\n",
       "      <td>69.266198</td>\n",
       "      <td>10.462676</td>\n",
       "      <td>0.927452</td>\n",
       "      <td>16.634514</td>\n",
       "      <td>2.224930</td>\n",
       "      <td>...</td>\n",
       "      <td>13.992281</td>\n",
       "      <td>-505.503262</td>\n",
       "      <td>11.950531</td>\n",
       "      <td>-501.331529</td>\n",
       "      <td>10.039245</td>\n",
       "      <td>-500.169983</td>\n",
       "      <td>7.984757</td>\n",
       "      <td>-500.582168</td>\n",
       "      <td>13.998353</td>\n",
       "      <td>-599.787184</td>\n",
       "    </tr>\n",
       "    <tr>\n",
       "      <th>2</th>\n",
       "      <td>2016-01-15 02:00:00</td>\n",
       "      <td>6.055926</td>\n",
       "      <td>10.213995</td>\n",
       "      <td>5.383759</td>\n",
       "      <td>42.657501</td>\n",
       "      <td>68.116445</td>\n",
       "      <td>10.507046</td>\n",
       "      <td>0.953716</td>\n",
       "      <td>16.208849</td>\n",
       "      <td>2.257889</td>\n",
       "      <td>...</td>\n",
       "      <td>14.015015</td>\n",
       "      <td>-502.520901</td>\n",
       "      <td>11.912783</td>\n",
       "      <td>-501.133383</td>\n",
       "      <td>10.070913</td>\n",
       "      <td>-500.129135</td>\n",
       "      <td>8.013877</td>\n",
       "      <td>-500.517572</td>\n",
       "      <td>14.028663</td>\n",
       "      <td>-601.427363</td>\n",
       "    </tr>\n",
       "    <tr>\n",
       "      <th>3</th>\n",
       "      <td>2016-01-15 03:00:00</td>\n",
       "      <td>6.047977</td>\n",
       "      <td>9.977019</td>\n",
       "      <td>4.858634</td>\n",
       "      <td>42.689819</td>\n",
       "      <td>68.347543</td>\n",
       "      <td>10.422762</td>\n",
       "      <td>0.883763</td>\n",
       "      <td>16.532835</td>\n",
       "      <td>2.146849</td>\n",
       "      <td>...</td>\n",
       "      <td>14.036510</td>\n",
       "      <td>-500.857308</td>\n",
       "      <td>11.999550</td>\n",
       "      <td>-501.193686</td>\n",
       "      <td>9.970366</td>\n",
       "      <td>-499.201640</td>\n",
       "      <td>7.977324</td>\n",
       "      <td>-500.255908</td>\n",
       "      <td>14.005551</td>\n",
       "      <td>-599.996129</td>\n",
       "    </tr>\n",
       "    <tr>\n",
       "      <th>4</th>\n",
       "      <td>2016-01-15 04:00:00</td>\n",
       "      <td>6.148599</td>\n",
       "      <td>10.142511</td>\n",
       "      <td>4.939416</td>\n",
       "      <td>42.774141</td>\n",
       "      <td>66.927016</td>\n",
       "      <td>10.360302</td>\n",
       "      <td>0.792826</td>\n",
       "      <td>16.525686</td>\n",
       "      <td>2.055292</td>\n",
       "      <td>...</td>\n",
       "      <td>14.027298</td>\n",
       "      <td>-499.838632</td>\n",
       "      <td>11.953070</td>\n",
       "      <td>-501.053894</td>\n",
       "      <td>9.925709</td>\n",
       "      <td>-501.686727</td>\n",
       "      <td>7.894242</td>\n",
       "      <td>-500.356035</td>\n",
       "      <td>13.996647</td>\n",
       "      <td>-601.496691</td>\n",
       "    </tr>\n",
       "  </tbody>\n",
       "</table>\n",
       "<p>5 rows × 87 columns</p>\n",
       "</div>"
      ],
      "text/plain": [
       "                  date  final.output.concentrate_ag  \\\n",
       "0  2016-01-15 00:00:00                     6.055403   \n",
       "1  2016-01-15 01:00:00                     6.029369   \n",
       "2  2016-01-15 02:00:00                     6.055926   \n",
       "3  2016-01-15 03:00:00                     6.047977   \n",
       "4  2016-01-15 04:00:00                     6.148599   \n",
       "\n",
       "   final.output.concentrate_pb  final.output.concentrate_sol  \\\n",
       "0                     9.889648                      5.507324   \n",
       "1                     9.968944                      5.257781   \n",
       "2                    10.213995                      5.383759   \n",
       "3                     9.977019                      4.858634   \n",
       "4                    10.142511                      4.939416   \n",
       "\n",
       "   final.output.concentrate_au  final.output.recovery  final.output.tail_ag  \\\n",
       "0                    42.192020              70.541216             10.411962   \n",
       "1                    42.701629              69.266198             10.462676   \n",
       "2                    42.657501              68.116445             10.507046   \n",
       "3                    42.689819              68.347543             10.422762   \n",
       "4                    42.774141              66.927016             10.360302   \n",
       "\n",
       "   final.output.tail_pb  final.output.tail_sol  final.output.tail_au  ...  \\\n",
       "0              0.895447              16.904297              2.143149  ...   \n",
       "1              0.927452              16.634514              2.224930  ...   \n",
       "2              0.953716              16.208849              2.257889  ...   \n",
       "3              0.883763              16.532835              2.146849  ...   \n",
       "4              0.792826              16.525686              2.055292  ...   \n",
       "\n",
       "   secondary_cleaner.state.floatbank4_a_air  \\\n",
       "0                                 14.016835   \n",
       "1                                 13.992281   \n",
       "2                                 14.015015   \n",
       "3                                 14.036510   \n",
       "4                                 14.027298   \n",
       "\n",
       "   secondary_cleaner.state.floatbank4_a_level  \\\n",
       "0                                 -502.488007   \n",
       "1                                 -505.503262   \n",
       "2                                 -502.520901   \n",
       "3                                 -500.857308   \n",
       "4                                 -499.838632   \n",
       "\n",
       "   secondary_cleaner.state.floatbank4_b_air  \\\n",
       "0                                 12.099931   \n",
       "1                                 11.950531   \n",
       "2                                 11.912783   \n",
       "3                                 11.999550   \n",
       "4                                 11.953070   \n",
       "\n",
       "   secondary_cleaner.state.floatbank4_b_level  \\\n",
       "0                                 -504.715942   \n",
       "1                                 -501.331529   \n",
       "2                                 -501.133383   \n",
       "3                                 -501.193686   \n",
       "4                                 -501.053894   \n",
       "\n",
       "   secondary_cleaner.state.floatbank5_a_air  \\\n",
       "0                                  9.925633   \n",
       "1                                 10.039245   \n",
       "2                                 10.070913   \n",
       "3                                  9.970366   \n",
       "4                                  9.925709   \n",
       "\n",
       "   secondary_cleaner.state.floatbank5_a_level  \\\n",
       "0                                 -498.310211   \n",
       "1                                 -500.169983   \n",
       "2                                 -500.129135   \n",
       "3                                 -499.201640   \n",
       "4                                 -501.686727   \n",
       "\n",
       "   secondary_cleaner.state.floatbank5_b_air  \\\n",
       "0                                  8.079666   \n",
       "1                                  7.984757   \n",
       "2                                  8.013877   \n",
       "3                                  7.977324   \n",
       "4                                  7.894242   \n",
       "\n",
       "   secondary_cleaner.state.floatbank5_b_level  \\\n",
       "0                                 -500.470978   \n",
       "1                                 -500.582168   \n",
       "2                                 -500.517572   \n",
       "3                                 -500.255908   \n",
       "4                                 -500.356035   \n",
       "\n",
       "   secondary_cleaner.state.floatbank6_a_air  \\\n",
       "0                                 14.151341   \n",
       "1                                 13.998353   \n",
       "2                                 14.028663   \n",
       "3                                 14.005551   \n",
       "4                                 13.996647   \n",
       "\n",
       "   secondary_cleaner.state.floatbank6_a_level  \n",
       "0                                 -605.841980  \n",
       "1                                 -599.787184  \n",
       "2                                 -601.427363  \n",
       "3                                 -599.996129  \n",
       "4                                 -601.496691  \n",
       "\n",
       "[5 rows x 87 columns]"
      ]
     },
     "execution_count": 84,
     "metadata": {},
     "output_type": "execute_result"
    }
   ],
   "source": [
    "data.head()"
   ]
  },
  {
   "cell_type": "code",
   "execution_count": 85,
   "metadata": {
    "collapsed": true
   },
   "outputs": [
    {
     "name": "stdout",
     "output_type": "stream",
     "text": [
      "<class 'pandas.core.frame.DataFrame'>\n",
      "RangeIndex: 14149 entries, 0 to 14148\n",
      "Data columns (total 87 columns):\n",
      " #   Column                                              Non-Null Count  Dtype  \n",
      "---  ------                                              --------------  -----  \n",
      " 0   date                                                14149 non-null  object \n",
      " 1   final.output.concentrate_ag                         14148 non-null  float64\n",
      " 2   final.output.concentrate_pb                         14148 non-null  float64\n",
      " 3   final.output.concentrate_sol                        13938 non-null  float64\n",
      " 4   final.output.concentrate_au                         14149 non-null  float64\n",
      " 5   final.output.recovery                               14149 non-null  float64\n",
      " 6   final.output.tail_ag                                14149 non-null  float64\n",
      " 7   final.output.tail_pb                                14049 non-null  float64\n",
      " 8   final.output.tail_sol                               14144 non-null  float64\n",
      " 9   final.output.tail_au                                14149 non-null  float64\n",
      " 10  primary_cleaner.input.sulfate                       14129 non-null  float64\n",
      " 11  primary_cleaner.input.depressant                    14117 non-null  float64\n",
      " 12  primary_cleaner.input.feed_size                     14149 non-null  float64\n",
      " 13  primary_cleaner.input.xanthate                      14049 non-null  float64\n",
      " 14  primary_cleaner.output.concentrate_ag               14149 non-null  float64\n",
      " 15  primary_cleaner.output.concentrate_pb               14063 non-null  float64\n",
      " 16  primary_cleaner.output.concentrate_sol              13863 non-null  float64\n",
      " 17  primary_cleaner.output.concentrate_au               14149 non-null  float64\n",
      " 18  primary_cleaner.output.tail_ag                      14148 non-null  float64\n",
      " 19  primary_cleaner.output.tail_pb                      14134 non-null  float64\n",
      " 20  primary_cleaner.output.tail_sol                     14103 non-null  float64\n",
      " 21  primary_cleaner.output.tail_au                      14149 non-null  float64\n",
      " 22  primary_cleaner.state.floatbank8_a_air              14145 non-null  float64\n",
      " 23  primary_cleaner.state.floatbank8_a_level            14148 non-null  float64\n",
      " 24  primary_cleaner.state.floatbank8_b_air              14145 non-null  float64\n",
      " 25  primary_cleaner.state.floatbank8_b_level            14148 non-null  float64\n",
      " 26  primary_cleaner.state.floatbank8_c_air              14147 non-null  float64\n",
      " 27  primary_cleaner.state.floatbank8_c_level            14148 non-null  float64\n",
      " 28  primary_cleaner.state.floatbank8_d_air              14146 non-null  float64\n",
      " 29  primary_cleaner.state.floatbank8_d_level            14148 non-null  float64\n",
      " 30  rougher.calculation.sulfate_to_au_concentrate       14148 non-null  float64\n",
      " 31  rougher.calculation.floatbank10_sulfate_to_au_feed  14148 non-null  float64\n",
      " 32  rougher.calculation.floatbank11_sulfate_to_au_feed  14148 non-null  float64\n",
      " 33  rougher.calculation.au_pb_ratio                     14149 non-null  float64\n",
      " 34  rougher.input.feed_ag                               14149 non-null  float64\n",
      " 35  rougher.input.feed_pb                               14049 non-null  float64\n",
      " 36  rougher.input.feed_rate                             14141 non-null  float64\n",
      " 37  rougher.input.feed_size                             14005 non-null  float64\n",
      " 38  rougher.input.feed_sol                              14071 non-null  float64\n",
      " 39  rougher.input.feed_au                               14149 non-null  float64\n",
      " 40  rougher.input.floatbank10_sulfate                   14120 non-null  float64\n",
      " 41  rougher.input.floatbank10_xanthate                  14141 non-null  float64\n",
      " 42  rougher.input.floatbank11_sulfate                   14113 non-null  float64\n",
      " 43  rougher.input.floatbank11_xanthate                  13721 non-null  float64\n",
      " 44  rougher.output.concentrate_ag                       14149 non-null  float64\n",
      " 45  rougher.output.concentrate_pb                       14149 non-null  float64\n",
      " 46  rougher.output.concentrate_sol                      14127 non-null  float64\n",
      " 47  rougher.output.concentrate_au                       14149 non-null  float64\n",
      " 48  rougher.output.recovery                             14149 non-null  float64\n",
      " 49  rougher.output.tail_ag                              14148 non-null  float64\n",
      " 50  rougher.output.tail_pb                              14149 non-null  float64\n",
      " 51  rougher.output.tail_sol                             14149 non-null  float64\n",
      " 52  rougher.output.tail_au                              14149 non-null  float64\n",
      " 53  rougher.state.floatbank10_a_air                     14148 non-null  float64\n",
      " 54  rougher.state.floatbank10_a_level                   14148 non-null  float64\n",
      " 55  rougher.state.floatbank10_b_air                     14148 non-null  float64\n",
      " 56  rougher.state.floatbank10_b_level                   14148 non-null  float64\n",
      " 57  rougher.state.floatbank10_c_air                     14148 non-null  float64\n",
      " 58  rougher.state.floatbank10_c_level                   14148 non-null  float64\n",
      " 59  rougher.state.floatbank10_d_air                     14149 non-null  float64\n",
      " 60  rougher.state.floatbank10_d_level                   14149 non-null  float64\n",
      " 61  rougher.state.floatbank10_e_air                     13713 non-null  float64\n",
      " 62  rougher.state.floatbank10_e_level                   14149 non-null  float64\n",
      " 63  rougher.state.floatbank10_f_air                     14149 non-null  float64\n",
      " 64  rougher.state.floatbank10_f_level                   14149 non-null  float64\n",
      " 65  secondary_cleaner.output.tail_ag                    14147 non-null  float64\n",
      " 66  secondary_cleaner.output.tail_pb                    14139 non-null  float64\n",
      " 67  secondary_cleaner.output.tail_sol                   12544 non-null  float64\n",
      " 68  secondary_cleaner.output.tail_au                    14149 non-null  float64\n",
      " 69  secondary_cleaner.state.floatbank2_a_air            13932 non-null  float64\n",
      " 70  secondary_cleaner.state.floatbank2_a_level          14148 non-null  float64\n",
      " 71  secondary_cleaner.state.floatbank2_b_air            14128 non-null  float64\n",
      " 72  secondary_cleaner.state.floatbank2_b_level          14148 non-null  float64\n",
      " 73  secondary_cleaner.state.floatbank3_a_air            14145 non-null  float64\n",
      " 74  secondary_cleaner.state.floatbank3_a_level          14148 non-null  float64\n",
      " 75  secondary_cleaner.state.floatbank3_b_air            14148 non-null  float64\n",
      " 76  secondary_cleaner.state.floatbank3_b_level          14148 non-null  float64\n",
      " 77  secondary_cleaner.state.floatbank4_a_air            14143 non-null  float64\n",
      " 78  secondary_cleaner.state.floatbank4_a_level          14148 non-null  float64\n",
      " 79  secondary_cleaner.state.floatbank4_b_air            14148 non-null  float64\n",
      " 80  secondary_cleaner.state.floatbank4_b_level          14148 non-null  float64\n",
      " 81  secondary_cleaner.state.floatbank5_a_air            14148 non-null  float64\n",
      " 82  secondary_cleaner.state.floatbank5_a_level          14148 non-null  float64\n",
      " 83  secondary_cleaner.state.floatbank5_b_air            14148 non-null  float64\n",
      " 84  secondary_cleaner.state.floatbank5_b_level          14148 non-null  float64\n",
      " 85  secondary_cleaner.state.floatbank6_a_air            14147 non-null  float64\n",
      " 86  secondary_cleaner.state.floatbank6_a_level          14148 non-null  float64\n",
      "dtypes: float64(86), object(1)\n",
      "memory usage: 9.4+ MB\n"
     ]
    }
   ],
   "source": [
    "data_train.info()"
   ]
  },
  {
   "cell_type": "markdown",
   "metadata": {},
   "source": [
    "В таблице 14 149 строк, 87 столбцов. Есть пропуски. Типы данных соответствуют содержимому всех столбцов, кроме столбца `'date'`, его нужно привести к типу `datetime`."
   ]
  },
  {
   "cell_type": "code",
   "execution_count": 86,
   "metadata": {
    "collapsed": true
   },
   "outputs": [
    {
     "name": "stdout",
     "output_type": "stream",
     "text": [
      "<class 'pandas.core.frame.DataFrame'>\n",
      "RangeIndex: 5290 entries, 0 to 5289\n",
      "Data columns (total 53 columns):\n",
      " #   Column                                      Non-Null Count  Dtype  \n",
      "---  ------                                      --------------  -----  \n",
      " 0   date                                        5290 non-null   object \n",
      " 1   primary_cleaner.input.sulfate               5286 non-null   float64\n",
      " 2   primary_cleaner.input.depressant            5285 non-null   float64\n",
      " 3   primary_cleaner.input.feed_size             5290 non-null   float64\n",
      " 4   primary_cleaner.input.xanthate              5286 non-null   float64\n",
      " 5   primary_cleaner.state.floatbank8_a_air      5290 non-null   float64\n",
      " 6   primary_cleaner.state.floatbank8_a_level    5290 non-null   float64\n",
      " 7   primary_cleaner.state.floatbank8_b_air      5290 non-null   float64\n",
      " 8   primary_cleaner.state.floatbank8_b_level    5290 non-null   float64\n",
      " 9   primary_cleaner.state.floatbank8_c_air      5290 non-null   float64\n",
      " 10  primary_cleaner.state.floatbank8_c_level    5290 non-null   float64\n",
      " 11  primary_cleaner.state.floatbank8_d_air      5290 non-null   float64\n",
      " 12  primary_cleaner.state.floatbank8_d_level    5290 non-null   float64\n",
      " 13  rougher.input.feed_ag                       5290 non-null   float64\n",
      " 14  rougher.input.feed_pb                       5290 non-null   float64\n",
      " 15  rougher.input.feed_rate                     5287 non-null   float64\n",
      " 16  rougher.input.feed_size                     5289 non-null   float64\n",
      " 17  rougher.input.feed_sol                      5269 non-null   float64\n",
      " 18  rougher.input.feed_au                       5290 non-null   float64\n",
      " 19  rougher.input.floatbank10_sulfate           5285 non-null   float64\n",
      " 20  rougher.input.floatbank10_xanthate          5290 non-null   float64\n",
      " 21  rougher.input.floatbank11_sulfate           5282 non-null   float64\n",
      " 22  rougher.input.floatbank11_xanthate          5265 non-null   float64\n",
      " 23  rougher.state.floatbank10_a_air             5290 non-null   float64\n",
      " 24  rougher.state.floatbank10_a_level           5290 non-null   float64\n",
      " 25  rougher.state.floatbank10_b_air             5290 non-null   float64\n",
      " 26  rougher.state.floatbank10_b_level           5290 non-null   float64\n",
      " 27  rougher.state.floatbank10_c_air             5290 non-null   float64\n",
      " 28  rougher.state.floatbank10_c_level           5290 non-null   float64\n",
      " 29  rougher.state.floatbank10_d_air             5290 non-null   float64\n",
      " 30  rougher.state.floatbank10_d_level           5290 non-null   float64\n",
      " 31  rougher.state.floatbank10_e_air             5290 non-null   float64\n",
      " 32  rougher.state.floatbank10_e_level           5290 non-null   float64\n",
      " 33  rougher.state.floatbank10_f_air             5290 non-null   float64\n",
      " 34  rougher.state.floatbank10_f_level           5290 non-null   float64\n",
      " 35  secondary_cleaner.state.floatbank2_a_air    5287 non-null   float64\n",
      " 36  secondary_cleaner.state.floatbank2_a_level  5290 non-null   float64\n",
      " 37  secondary_cleaner.state.floatbank2_b_air    5288 non-null   float64\n",
      " 38  secondary_cleaner.state.floatbank2_b_level  5290 non-null   float64\n",
      " 39  secondary_cleaner.state.floatbank3_a_air    5281 non-null   float64\n",
      " 40  secondary_cleaner.state.floatbank3_a_level  5290 non-null   float64\n",
      " 41  secondary_cleaner.state.floatbank3_b_air    5290 non-null   float64\n",
      " 42  secondary_cleaner.state.floatbank3_b_level  5290 non-null   float64\n",
      " 43  secondary_cleaner.state.floatbank4_a_air    5290 non-null   float64\n",
      " 44  secondary_cleaner.state.floatbank4_a_level  5290 non-null   float64\n",
      " 45  secondary_cleaner.state.floatbank4_b_air    5290 non-null   float64\n",
      " 46  secondary_cleaner.state.floatbank4_b_level  5290 non-null   float64\n",
      " 47  secondary_cleaner.state.floatbank5_a_air    5290 non-null   float64\n",
      " 48  secondary_cleaner.state.floatbank5_a_level  5290 non-null   float64\n",
      " 49  secondary_cleaner.state.floatbank5_b_air    5290 non-null   float64\n",
      " 50  secondary_cleaner.state.floatbank5_b_level  5290 non-null   float64\n",
      " 51  secondary_cleaner.state.floatbank6_a_air    5290 non-null   float64\n",
      " 52  secondary_cleaner.state.floatbank6_a_level  5290 non-null   float64\n",
      "dtypes: float64(52), object(1)\n",
      "memory usage: 2.1+ MB\n"
     ]
    }
   ],
   "source": [
    "data_test.info()"
   ]
  },
  {
   "cell_type": "markdown",
   "metadata": {},
   "source": [
    "В таблице 5 290 строк, 53 столбца. Есть пропуски. Типы данных соответствуют содержимому всех столбцов, кроме столбца `'date'`, его нужно привести к типу `datetime`."
   ]
  },
  {
   "cell_type": "markdown",
   "metadata": {},
   "source": [
    "Проверим данные на наличие дубликатов."
   ]
  },
  {
   "cell_type": "code",
   "execution_count": 87,
   "metadata": {},
   "outputs": [
    {
     "data": {
      "text/plain": [
       "0"
      ]
     },
     "execution_count": 87,
     "metadata": {},
     "output_type": "execute_result"
    }
   ],
   "source": [
    "data.duplicated().sum()"
   ]
  },
  {
   "cell_type": "code",
   "execution_count": 88,
   "metadata": {},
   "outputs": [
    {
     "data": {
      "text/plain": [
       "0"
      ]
     },
     "execution_count": 88,
     "metadata": {},
     "output_type": "execute_result"
    }
   ],
   "source": [
    "data_train.duplicated().sum()"
   ]
  },
  {
   "cell_type": "code",
   "execution_count": 89,
   "metadata": {
    "scrolled": true
   },
   "outputs": [
    {
     "data": {
      "text/plain": [
       "0"
      ]
     },
     "execution_count": 89,
     "metadata": {},
     "output_type": "execute_result"
    }
   ],
   "source": [
    "data_test.duplicated().sum()"
   ]
  },
  {
   "cell_type": "markdown",
   "metadata": {},
   "source": [
    "Дубликатов нет."
   ]
  },
  {
   "cell_type": "markdown",
   "metadata": {},
   "source": [
    "В каждой таблице есть пропуски, типы данных соответствуют содержимому всех столбцов, кроме столбца `'date'`, его нужно привести к типу `datetime`. Дубликатов в датафреймах нет."
   ]
  },
  {
   "cell_type": "markdown",
   "metadata": {},
   "source": [
    "### Расчет эффективности обогащения для обучающих данных\n",
    "\n",
    "Убедимся, что эффективность обогащения рассчитана правильно. По формуле вычислим её на обучающей выборке и запишем в переменную `recovery`."
   ]
  },
  {
   "cell_type": "code",
   "execution_count": 90,
   "metadata": {},
   "outputs": [],
   "source": [
    "recovery = (data_train['rougher.output.concentrate_au'] * \n",
    "            (data_train['rougher.input.feed_au'] - data_train['rougher.output.tail_au']) / \n",
    "            (data_train['rougher.input.feed_au'] * \n",
    "             (data_train['rougher.output.concentrate_au'] - data_train['rougher.output.tail_au']))) * 100"
   ]
  },
  {
   "cell_type": "markdown",
   "metadata": {},
   "source": [
    "Найдем MAE между рассчитанной эффективностью и значением признака `'rougher.output.recovery'`."
   ]
  },
  {
   "cell_type": "code",
   "execution_count": 91,
   "metadata": {
    "scrolled": true
   },
   "outputs": [
    {
     "data": {
      "text/plain": [
       "9.73512347450521e-15"
      ]
     },
     "execution_count": 91,
     "metadata": {},
     "output_type": "execute_result"
    }
   ],
   "source": [
    "mean_absolute_error(recovery,data_train['rougher.output.recovery'])"
   ]
  },
  {
   "cell_type": "markdown",
   "metadata": {},
   "source": [
    "Для сравнения найдем среднее значение в столбце `'rougher.output.recovery'`."
   ]
  },
  {
   "cell_type": "code",
   "execution_count": 92,
   "metadata": {},
   "outputs": [
    {
     "data": {
      "text/plain": [
       "82.70450164550293"
      ]
     },
     "execution_count": 92,
     "metadata": {},
     "output_type": "execute_result"
    }
   ],
   "source": [
    "data_train['rougher.output.recovery'].mean()"
   ]
  },
  {
   "cell_type": "markdown",
   "metadata": {},
   "source": [
    "MAE почти равно нулю и значительно меньше среднего, значит, в датафрейме эффективность рассчитана правильно."
   ]
  },
  {
   "cell_type": "markdown",
   "metadata": {},
   "source": [
    "### Анализ признаков в тестовой выборке\n",
    "\n",
    "Выведем список признаков, которых нет в тестовой выборке."
   ]
  },
  {
   "cell_type": "code",
   "execution_count": 93,
   "metadata": {
    "collapsed": true
   },
   "outputs": [
    {
     "data": {
      "text/plain": [
       "['final.output.concentrate_ag',\n",
       " 'final.output.concentrate_pb',\n",
       " 'final.output.concentrate_sol',\n",
       " 'final.output.concentrate_au',\n",
       " 'final.output.recovery',\n",
       " 'final.output.tail_ag',\n",
       " 'final.output.tail_pb',\n",
       " 'final.output.tail_sol',\n",
       " 'final.output.tail_au',\n",
       " 'primary_cleaner.output.concentrate_ag',\n",
       " 'primary_cleaner.output.concentrate_pb',\n",
       " 'primary_cleaner.output.concentrate_sol',\n",
       " 'primary_cleaner.output.concentrate_au',\n",
       " 'primary_cleaner.output.tail_ag',\n",
       " 'primary_cleaner.output.tail_pb',\n",
       " 'primary_cleaner.output.tail_sol',\n",
       " 'primary_cleaner.output.tail_au',\n",
       " 'rougher.calculation.sulfate_to_au_concentrate',\n",
       " 'rougher.calculation.floatbank10_sulfate_to_au_feed',\n",
       " 'rougher.calculation.floatbank11_sulfate_to_au_feed',\n",
       " 'rougher.calculation.au_pb_ratio',\n",
       " 'rougher.output.concentrate_ag',\n",
       " 'rougher.output.concentrate_pb',\n",
       " 'rougher.output.concentrate_sol',\n",
       " 'rougher.output.concentrate_au',\n",
       " 'rougher.output.recovery',\n",
       " 'rougher.output.tail_ag',\n",
       " 'rougher.output.tail_pb',\n",
       " 'rougher.output.tail_sol',\n",
       " 'rougher.output.tail_au',\n",
       " 'secondary_cleaner.output.tail_ag',\n",
       " 'secondary_cleaner.output.tail_pb',\n",
       " 'secondary_cleaner.output.tail_sol',\n",
       " 'secondary_cleaner.output.tail_au']"
      ]
     },
     "execution_count": 93,
     "metadata": {},
     "output_type": "execute_result"
    }
   ],
   "source": [
    "data.drop(columns=data_test.columns.to_list()).columns.to_list()"
   ]
  },
  {
   "cell_type": "markdown",
   "metadata": {},
   "source": [
    "Из тестовой выборки удалены все параметры продукта после каждого этапа процесса (`'output'`), расчетные характеристики и целевые признаки.\n",
    "\n",
    "Параметры продукта неизвестны до начала процесса, поэтому не могут являться признаками для предсказания. Кроме того, на их основе рассчитываются целевые признаки. \n",
    "\n",
    "Расчетные характеристики, к которым относятся `'rougher.calculation.sulfate_to_au_concentrate'`, `'rougher.calculation.floatbank10_sulfate_to_au_feed'`, `'rougher.calculation.floatbank11_sulfate_to_au_feed'`, `'rougher.calculation.au_pb_ratio'`, скорее всего, связаны с параметрами продукта или другими признаками. В последнем случае будет сильная корреляционная связь."
   ]
  },
  {
   "cell_type": "markdown",
   "metadata": {},
   "source": [
    "### Предобработка данных"
   ]
  },
  {
   "cell_type": "markdown",
   "metadata": {},
   "source": [
    "В каждой таблице есть пропуски, типы данных соответствуют содержимому всех столбцов, кроме столбца `'date'`, его нужно привести к типу `datetime`. Для удобства работы с данными заменим индексы во всех датафреймах на значения в столбце `'date'`. Дубликатов в датафреймах нет."
   ]
  },
  {
   "cell_type": "markdown",
   "metadata": {},
   "source": [
    "#### Обработка пропусков"
   ]
  },
  {
   "cell_type": "markdown",
   "metadata": {},
   "source": [
    "Рассмотрим каждый из датафреймов: с обучающей выборкой, тестовой и общими данными."
   ]
  },
  {
   "cell_type": "markdown",
   "metadata": {},
   "source": [
    "##### Обучающая выборка"
   ]
  },
  {
   "cell_type": "markdown",
   "metadata": {},
   "source": [
    "Найдем количество объектов с пропусками в обучающей выборке."
   ]
  },
  {
   "cell_type": "code",
   "execution_count": 94,
   "metadata": {
    "scrolled": true
   },
   "outputs": [
    {
     "data": {
      "text/plain": [
       "3132"
      ]
     },
     "execution_count": 94,
     "metadata": {},
     "output_type": "execute_result"
    }
   ],
   "source": [
    "data_train.shape[0] - data_train.dropna().shape[0]"
   ]
  },
  {
   "cell_type": "markdown",
   "metadata": {},
   "source": [
    "Пропусков достаточно много, все удалять не стоит.\n",
    "\n",
    "Выведем количество столбцов в обучающей выборке, в которых есть пропуски."
   ]
  },
  {
   "cell_type": "code",
   "execution_count": 95,
   "metadata": {},
   "outputs": [
    {
     "data": {
      "text/plain": [
       "62"
      ]
     },
     "execution_count": 95,
     "metadata": {},
     "output_type": "execute_result"
    }
   ],
   "source": [
    "len(data_train.drop(columns=data_train.dropna(axis='columns').columns).columns.to_list())"
   ]
  },
  {
   "cell_type": "markdown",
   "metadata": {},
   "source": [
    "Рассматривать все столбцы не будем, так как их слишком много. Найдем столбцы с наибольшим количеством пропусков."
   ]
  },
  {
   "cell_type": "code",
   "execution_count": 96,
   "metadata": {},
   "outputs": [
    {
     "data": {
      "text/plain": [
       "secondary_cleaner.output.tail_sol           0.113436\n",
       "rougher.state.floatbank10_e_air             0.030815\n",
       "rougher.input.floatbank11_xanthate          0.030249\n",
       "primary_cleaner.output.concentrate_sol      0.020213\n",
       "secondary_cleaner.state.floatbank2_a_air    0.015337\n",
       "dtype: float64"
      ]
     },
     "execution_count": 96,
     "metadata": {},
     "output_type": "execute_result"
    }
   ],
   "source": [
    "data_train.isna().mean().sort_values(ascending = False).head(5)"
   ]
  },
  {
   "cell_type": "markdown",
   "metadata": {},
   "source": [
    "Наибольшее количество пропусков в столбце с долей примесей в отвальных хвостах после вторичной очистки. Проверим, есть ли у этого столбца с каким-нибудь другим достаточно сильная линейная связь."
   ]
  },
  {
   "cell_type": "code",
   "execution_count": 97,
   "metadata": {},
   "outputs": [
    {
     "data": {
      "text/plain": [
       "secondary_cleaner.output.tail_sol             1.000000\n",
       "final.output.tail_sol                         0.423839\n",
       "primary_cleaner.output.tail_sol               0.423210\n",
       "rougher.output.tail_ag                        0.409817\n",
       "secondary_cleaner.state.floatbank2_a_level    0.397745\n",
       "                                                ...   \n",
       "rougher.state.floatbank10_a_air              -0.277183\n",
       "rougher.input.feed_size                      -0.284811\n",
       "secondary_cleaner.output.tail_pb             -0.300929\n",
       "secondary_cleaner.state.floatbank4_a_air     -0.381151\n",
       "rougher.state.floatbank10_a_level            -0.603873\n",
       "Name: secondary_cleaner.output.tail_sol, Length: 86, dtype: float64"
      ]
     },
     "execution_count": 97,
     "metadata": {},
     "output_type": "execute_result"
    }
   ],
   "source": [
    "data_train.corr()['secondary_cleaner.output.tail_sol'].sort_values(ascending=False)"
   ]
  },
  {
   "cell_type": "markdown",
   "metadata": {},
   "source": [
    "Наибольший коэффициент корреляции со столбцом `'rougher.state.floatbank10_a_level'`. Он равен -0,60, значит, есть заметная линейная связь. Заменим пропуски на произведение обратной величины в столбце `'rougher.state.floatbank10_a_level'` на отношение средних в двух рассматриваемых столбцах."
   ]
  },
  {
   "cell_type": "code",
   "execution_count": 98,
   "metadata": {},
   "outputs": [],
   "source": [
    "data_train['secondary_cleaner.output.tail_sol'] = data_train['secondary_cleaner.output.tail_sol'].fillna(\n",
    "    data_train['secondary_cleaner.output.tail_sol'].mean() /\n",
    "    data_train['rougher.state.floatbank10_a_level'].mean() /\n",
    "    data_train['rougher.state.floatbank10_a_level'])"
   ]
  },
  {
   "cell_type": "markdown",
   "metadata": {},
   "source": [
    "Проверим, как изменился коэффициент корреляции."
   ]
  },
  {
   "cell_type": "code",
   "execution_count": 99,
   "metadata": {},
   "outputs": [
    {
     "data": {
      "text/plain": [
       "secondary_cleaner.output.tail_sol    1.000000\n",
       "rougher.state.floatbank10_a_level    0.634251\n",
       "Name: secondary_cleaner.output.tail_sol, dtype: float64"
      ]
     },
     "execution_count": 99,
     "metadata": {},
     "output_type": "execute_result"
    }
   ],
   "source": [
    "data_train.corr()['secondary_cleaner.output.tail_sol'].abs().sort_values(ascending=False).head(2)"
   ]
  },
  {
   "cell_type": "markdown",
   "metadata": {},
   "source": [
    "Модуль коэффициента корреляции увеличился, значит, замена пропусков проведена корректно.\n",
    "\n",
    "Найдем количество объектов с пропусками."
   ]
  },
  {
   "cell_type": "code",
   "execution_count": 100,
   "metadata": {},
   "outputs": [
    {
     "data": {
      "text/plain": [
       "1904"
      ]
     },
     "execution_count": 100,
     "metadata": {},
     "output_type": "execute_result"
    }
   ],
   "source": [
    "data_train.shape[0] - data_train.dropna().shape[0]"
   ]
  },
  {
   "cell_type": "markdown",
   "metadata": {},
   "source": [
    "Пропусков слишком много. Аналогично проверим столбец `'rougher.state.floatbank10_e_air'`."
   ]
  },
  {
   "cell_type": "code",
   "execution_count": 101,
   "metadata": {},
   "outputs": [
    {
     "data": {
      "text/plain": [
       "rougher.state.floatbank10_e_air      1.000000\n",
       "rougher.state.floatbank10_f_air      0.940696\n",
       "rougher.state.floatbank10_d_air      0.884600\n",
       "rougher.state.floatbank10_b_air      0.830794\n",
       "rougher.state.floatbank10_c_air      0.779243\n",
       "                                       ...   \n",
       "rougher.input.feed_pb               -0.342893\n",
       "rougher.state.floatbank10_a_level   -0.373261\n",
       "final.output.tail_pb                -0.382226\n",
       "primary_cleaner.output.tail_ag      -0.383175\n",
       "primary_cleaner.output.tail_pb      -0.423327\n",
       "Name: rougher.state.floatbank10_e_air, Length: 86, dtype: float64"
      ]
     },
     "execution_count": 101,
     "metadata": {},
     "output_type": "execute_result"
    }
   ],
   "source": [
    "data_train.corr()['rougher.state.floatbank10_e_air'].sort_values(ascending=False)"
   ]
  },
  {
   "cell_type": "markdown",
   "metadata": {},
   "source": [
    "Наибольший коэффициент корреляции со столбцом `'rougher.state.floatbank10_f_air'`. Он равен 0,94, значит, есть очень высокая линейная связь. Заменим пропуски на произведение значений в столбце `'rougher.state.floatbank10_f_air'` на отношение средних в двух рассматриваемых столбцах."
   ]
  },
  {
   "cell_type": "code",
   "execution_count": 102,
   "metadata": {},
   "outputs": [],
   "source": [
    "data_train['rougher.state.floatbank10_e_air'] = data_train['rougher.state.floatbank10_e_air'].fillna(\n",
    "    data_train['rougher.state.floatbank10_e_air'].mean() /\n",
    "    data_train['rougher.state.floatbank10_f_air'].mean() *\n",
    "    data_train['rougher.state.floatbank10_f_air'])"
   ]
  },
  {
   "cell_type": "markdown",
   "metadata": {},
   "source": [
    "Проверим, как изменился коэффициент корреляции."
   ]
  },
  {
   "cell_type": "code",
   "execution_count": 103,
   "metadata": {},
   "outputs": [
    {
     "data": {
      "text/plain": [
       "rougher.state.floatbank10_e_air    1.000000\n",
       "rougher.state.floatbank10_f_air    0.942871\n",
       "Name: rougher.state.floatbank10_e_air, dtype: float64"
      ]
     },
     "execution_count": 103,
     "metadata": {},
     "output_type": "execute_result"
    }
   ],
   "source": [
    "data_train.corr()['rougher.state.floatbank10_e_air'].sort_values(ascending=False).head(2)"
   ]
  },
  {
   "cell_type": "markdown",
   "metadata": {},
   "source": [
    "Коэффициент корреляции увеличился, значит, замена пропусков проведена корректно.\n",
    "\n",
    "Аналогично проверим столбец `'rougher.input.floatbank11_xanthate'`."
   ]
  },
  {
   "cell_type": "code",
   "execution_count": 104,
   "metadata": {},
   "outputs": [
    {
     "data": {
      "text/plain": [
       "rougher.input.floatbank11_xanthate            1.000000\n",
       "rougher.input.floatbank10_xanthate            0.940049\n",
       "rougher.input.feed_rate                       0.591576\n",
       "primary_cleaner.input.xanthate                0.379290\n",
       "primary_cleaner.input.depressant              0.368112\n",
       "                                                ...   \n",
       "secondary_cleaner.state.floatbank4_b_level   -0.377521\n",
       "rougher.state.floatbank10_b_level            -0.377847\n",
       "rougher.state.floatbank10_e_level            -0.382014\n",
       "rougher.state.floatbank10_f_level            -0.383439\n",
       "rougher.state.floatbank10_c_level            -0.385352\n",
       "Name: rougher.input.floatbank11_xanthate, Length: 86, dtype: float64"
      ]
     },
     "execution_count": 104,
     "metadata": {},
     "output_type": "execute_result"
    }
   ],
   "source": [
    "data_train.corr()['rougher.input.floatbank11_xanthate'].sort_values(ascending=False)"
   ]
  },
  {
   "cell_type": "markdown",
   "metadata": {},
   "source": [
    "Наибольший коэффициент корреляции со столбцом `'rougher.input.floatbank10_xanthate'`. Он равен 0,94, значит, есть очень высокая линейная связь. Заменим пропуски, аналогично используя линейную связь."
   ]
  },
  {
   "cell_type": "code",
   "execution_count": 105,
   "metadata": {},
   "outputs": [],
   "source": [
    "data_train['rougher.input.floatbank11_xanthate'] = data_train['rougher.input.floatbank11_xanthate'].fillna(\n",
    "    data_train['rougher.input.floatbank11_xanthate'].mean() /\n",
    "    data_train['rougher.input.floatbank10_xanthate'].mean() *\n",
    "    data_train['rougher.input.floatbank10_xanthate'])"
   ]
  },
  {
   "cell_type": "code",
   "execution_count": 106,
   "metadata": {},
   "outputs": [
    {
     "data": {
      "text/plain": [
       "rougher.input.floatbank11_xanthate    1.000000\n",
       "rougher.input.floatbank10_xanthate    0.943876\n",
       "Name: rougher.input.floatbank11_xanthate, dtype: float64"
      ]
     },
     "execution_count": 106,
     "metadata": {},
     "output_type": "execute_result"
    }
   ],
   "source": [
    "data_train.corr()['rougher.input.floatbank11_xanthate'].sort_values(ascending=False).head(2)"
   ]
  },
  {
   "cell_type": "markdown",
   "metadata": {},
   "source": [
    "Проверим количество объектов с пропусками."
   ]
  },
  {
   "cell_type": "code",
   "execution_count": 107,
   "metadata": {},
   "outputs": [
    {
     "data": {
      "text/plain": [
       "1144"
      ]
     },
     "execution_count": 107,
     "metadata": {},
     "output_type": "execute_result"
    }
   ],
   "source": [
    "data_train.shape[0] - data_train.dropna().shape[0]"
   ]
  },
  {
   "cell_type": "markdown",
   "metadata": {},
   "source": [
    "Объекты с пропусками составляют менее 10 %, поэтому их можно удалить."
   ]
  },
  {
   "cell_type": "code",
   "execution_count": 108,
   "metadata": {},
   "outputs": [],
   "source": [
    "data_train = data_train.dropna()"
   ]
  },
  {
   "cell_type": "markdown",
   "metadata": {},
   "source": [
    "Проверим размер обучающей выборки."
   ]
  },
  {
   "cell_type": "code",
   "execution_count": 109,
   "metadata": {},
   "outputs": [
    {
     "data": {
      "text/plain": [
       "(13005, 87)"
      ]
     },
     "execution_count": 109,
     "metadata": {},
     "output_type": "execute_result"
    }
   ],
   "source": [
    "data_train.shape"
   ]
  },
  {
   "cell_type": "markdown",
   "metadata": {},
   "source": [
    "##### Тестовая выборка"
   ]
  },
  {
   "cell_type": "markdown",
   "metadata": {},
   "source": [
    "Найдем количество объектов с пропусками в тестовой выборке."
   ]
  },
  {
   "cell_type": "code",
   "execution_count": 110,
   "metadata": {},
   "outputs": [
    {
     "data": {
      "text/plain": [
       "61"
      ]
     },
     "execution_count": 110,
     "metadata": {},
     "output_type": "execute_result"
    }
   ],
   "source": [
    "data_test.shape[0] - data_test.dropna().shape[0]"
   ]
  },
  {
   "cell_type": "markdown",
   "metadata": {},
   "source": [
    "Выведем общее количество объектов в тестовой выборке."
   ]
  },
  {
   "cell_type": "code",
   "execution_count": 111,
   "metadata": {},
   "outputs": [
    {
     "data": {
      "text/plain": [
       "5290"
      ]
     },
     "execution_count": 111,
     "metadata": {},
     "output_type": "execute_result"
    }
   ],
   "source": [
    "data_test.shape[0]"
   ]
  },
  {
   "cell_type": "markdown",
   "metadata": {},
   "source": [
    "Объектов с пропусками очень мало по сравнению с их общим количеством, поэтому эти строки можно удалить."
   ]
  },
  {
   "cell_type": "code",
   "execution_count": 112,
   "metadata": {},
   "outputs": [],
   "source": [
    "data_test = data_test.dropna()"
   ]
  },
  {
   "cell_type": "markdown",
   "metadata": {},
   "source": [
    "Проверим размер тестовой выборки."
   ]
  },
  {
   "cell_type": "code",
   "execution_count": 113,
   "metadata": {},
   "outputs": [
    {
     "data": {
      "text/plain": [
       "(5229, 53)"
      ]
     },
     "execution_count": 113,
     "metadata": {},
     "output_type": "execute_result"
    }
   ],
   "source": [
    "data_test.shape"
   ]
  },
  {
   "cell_type": "markdown",
   "metadata": {},
   "source": [
    "##### Общие данные"
   ]
  },
  {
   "cell_type": "markdown",
   "metadata": {},
   "source": [
    "Найдем количество объектов с пропусками в общих данных."
   ]
  },
  {
   "cell_type": "code",
   "execution_count": 114,
   "metadata": {},
   "outputs": [
    {
     "data": {
      "text/plain": [
       "3345"
      ]
     },
     "execution_count": 114,
     "metadata": {},
     "output_type": "execute_result"
    }
   ],
   "source": [
    "data.shape[0] - data.dropna().shape[0]"
   ]
  },
  {
   "cell_type": "markdown",
   "metadata": {},
   "source": [
    "Количество столбцов, в которых есть пропуски."
   ]
  },
  {
   "cell_type": "code",
   "execution_count": 115,
   "metadata": {},
   "outputs": [
    {
     "data": {
      "text/plain": [
       "63"
      ]
     },
     "execution_count": 115,
     "metadata": {},
     "output_type": "execute_result"
    }
   ],
   "source": [
    "len(data.drop(columns=data.dropna(axis='columns').columns).columns.to_list())"
   ]
  },
  {
   "cell_type": "markdown",
   "metadata": {},
   "source": [
    "Пропусков  достаточно много, удалять их не стоит. Пропуски в общей таблице `'data'` можно оставить, так как она будет использоваться только для исследования данных."
   ]
  },
  {
   "cell_type": "markdown",
   "metadata": {},
   "source": [
    "#### Работа с типами данных"
   ]
  },
  {
   "cell_type": "markdown",
   "metadata": {},
   "source": [
    "В столбце `'date'` указаны дата и время, поэтому нужно привести содержимое ячеек к типу `datetime` методом `to_datetime()`. Выведем ячейку из этого столбца для определения формата записи."
   ]
  },
  {
   "cell_type": "code",
   "execution_count": 116,
   "metadata": {},
   "outputs": [
    {
     "data": {
      "text/plain": [
       "0    2016-01-15 00:00:00\n",
       "Name: date, dtype: object"
      ]
     },
     "execution_count": 116,
     "metadata": {},
     "output_type": "execute_result"
    }
   ],
   "source": [
    "data['date'].head(1)"
   ]
  },
  {
   "cell_type": "markdown",
   "metadata": {},
   "source": [
    "Дата и время указаны в формате `'год'-'месяц'-'день' 'часы':'минуты':'секунды'`. "
   ]
  },
  {
   "cell_type": "code",
   "execution_count": 117,
   "metadata": {},
   "outputs": [],
   "source": [
    "data['date'] = pd.to_datetime(data['date'],format='%Y-%m-%d %H:%M:%S')"
   ]
  },
  {
   "cell_type": "markdown",
   "metadata": {},
   "source": [
    "Проверим корректность."
   ]
  },
  {
   "cell_type": "code",
   "execution_count": 118,
   "metadata": {},
   "outputs": [
    {
     "data": {
      "text/plain": [
       "0   2016-01-15 00:00:00\n",
       "1   2016-01-15 01:00:00\n",
       "2   2016-01-15 02:00:00\n",
       "3   2016-01-15 03:00:00\n",
       "4   2016-01-15 04:00:00\n",
       "Name: date, dtype: datetime64[ns]"
      ]
     },
     "execution_count": 118,
     "metadata": {},
     "output_type": "execute_result"
    }
   ],
   "source": [
    "data['date'].head()"
   ]
  },
  {
   "cell_type": "markdown",
   "metadata": {},
   "source": [
    "Аналогично обработаем обучающую и тестовую выборки."
   ]
  },
  {
   "cell_type": "code",
   "execution_count": 119,
   "metadata": {},
   "outputs": [],
   "source": [
    "data_train['date'] = pd.to_datetime(data_train['date'],format='%Y-%m-%d %H:%M:%S')\n",
    "data_test['date'] = pd.to_datetime(data_test['date'],format='%Y-%m-%d %H:%M:%S')"
   ]
  },
  {
   "cell_type": "markdown",
   "metadata": {},
   "source": [
    "### Замена индексов"
   ]
  },
  {
   "cell_type": "markdown",
   "metadata": {},
   "source": [
    "Для удобства работы с данными заменим индексы во всех датафреймах на столбец `'date'`."
   ]
  },
  {
   "cell_type": "code",
   "execution_count": 120,
   "metadata": {},
   "outputs": [],
   "source": [
    "data.set_index('date',inplace=True)\n",
    "data_train.set_index('date',inplace=True)\n",
    "data_test.set_index('date',inplace=True)"
   ]
  },
  {
   "cell_type": "markdown",
   "metadata": {},
   "source": [
    "## Анализ данных"
   ]
  },
  {
   "cell_type": "markdown",
   "metadata": {},
   "source": [
    "### Изменение концентрации металлов на разных этапах очистки"
   ]
  },
  {
   "cell_type": "markdown",
   "metadata": {},
   "source": [
    "Чтобы исследовать, как меняется концентрация металлов (Au, Ag, Pb) на различных этапах очистки, изучим данные из полного датасета `data`. Построим столбчатые диаграммы для каждого металла, которые будут отображать средние значения концентраций в исходном сырье, после флотации, первичной очистки и в конце всего процесса.\n",
    "\n",
    "Напишем цикл по металлам, в котором будем записывать в переменную `s` срез столбцов с концентрациями соответствующего металла на каждом этапе очистки. Для каждого металлла будем строить столбчатую диаграмму по средним концентрациям на каждом этапе. Также будем выводить таблицу со средними, минимальными и максимальными значениями концентраций и гистограммы распределения концентраций на каждом этапе."
   ]
  },
  {
   "cell_type": "code",
   "execution_count": 121,
   "metadata": {
    "scrolled": false
   },
   "outputs": [
    {
     "data": {
      "image/png": "[encoded data removed]",
      "text/plain": [
       "<Figure size 432x288 with 1 Axes>"
      ]
     },
     "metadata": {
      "needs_background": "light"
     },
     "output_type": "display_data"
    },
    {
     "data": {
      "text/html": [
       "<div>\n",
       "<style scoped>\n",
       "    .dataframe tbody tr th:only-of-type {\n",
       "        vertical-align: middle;\n",
       "    }\n",
       "\n",
       "    .dataframe tbody tr th {\n",
       "        vertical-align: top;\n",
       "    }\n",
       "\n",
       "    .dataframe thead th {\n",
       "        text-align: right;\n",
       "    }\n",
       "</style>\n",
       "<table border=\"1\" class=\"dataframe\">\n",
       "  <thead>\n",
       "    <tr style=\"text-align: right;\">\n",
       "      <th></th>\n",
       "      <th>mean</th>\n",
       "      <th>min</th>\n",
       "      <th>max</th>\n",
       "    </tr>\n",
       "  </thead>\n",
       "  <tbody>\n",
       "    <tr>\n",
       "      <th>Сырье</th>\n",
       "      <td>8.266097</td>\n",
       "      <td>0.01</td>\n",
       "      <td>13.731330</td>\n",
       "    </tr>\n",
       "    <tr>\n",
       "      <th>Флотация</th>\n",
       "      <td>19.772000</td>\n",
       "      <td>0.00</td>\n",
       "      <td>28.824507</td>\n",
       "    </tr>\n",
       "    <tr>\n",
       "      <th>1 очистка</th>\n",
       "      <td>32.119400</td>\n",
       "      <td>0.00</td>\n",
       "      <td>45.933934</td>\n",
       "    </tr>\n",
       "    <tr>\n",
       "      <th>2 очистка</th>\n",
       "      <td>44.076513</td>\n",
       "      <td>0.00</td>\n",
       "      <td>52.756638</td>\n",
       "    </tr>\n",
       "  </tbody>\n",
       "</table>\n",
       "</div>"
      ],
      "text/plain": [
       "                mean   min        max\n",
       "Сырье       8.266097  0.01  13.731330\n",
       "Флотация   19.772000  0.00  28.824507\n",
       "1 очистка  32.119400  0.00  45.933934\n",
       "2 очистка  44.076513  0.00  52.756638"
      ]
     },
     "metadata": {},
     "output_type": "display_data"
    },
    {
     "data": {
      "image/png": "[encoded data removed]",
      "text/plain": [
       "<Figure size 720x432 with 4 Axes>"
      ]
     },
     "metadata": {
      "needs_background": "light"
     },
     "output_type": "display_data"
    },
    {
     "data": {
      "image/png": "[encoded data removed]",
      "text/plain": [
       "<Figure size 432x288 with 1 Axes>"
      ]
     },
     "metadata": {
      "needs_background": "light"
     },
     "output_type": "display_data"
    },
    {
     "data": {
      "text/html": [
       "<div>\n",
       "<style scoped>\n",
       "    .dataframe tbody tr th:only-of-type {\n",
       "        vertical-align: middle;\n",
       "    }\n",
       "\n",
       "    .dataframe tbody tr th {\n",
       "        vertical-align: top;\n",
       "    }\n",
       "\n",
       "    .dataframe thead th {\n",
       "        text-align: right;\n",
       "    }\n",
       "</style>\n",
       "<table border=\"1\" class=\"dataframe\">\n",
       "  <thead>\n",
       "    <tr style=\"text-align: right;\">\n",
       "      <th></th>\n",
       "      <th>mean</th>\n",
       "      <th>min</th>\n",
       "      <th>max</th>\n",
       "    </tr>\n",
       "  </thead>\n",
       "  <tbody>\n",
       "    <tr>\n",
       "      <th>Сырье</th>\n",
       "      <td>8.794927</td>\n",
       "      <td>0.01</td>\n",
       "      <td>14.596026</td>\n",
       "    </tr>\n",
       "    <tr>\n",
       "      <th>Флотация</th>\n",
       "      <td>11.994759</td>\n",
       "      <td>0.00</td>\n",
       "      <td>24.480271</td>\n",
       "    </tr>\n",
       "    <tr>\n",
       "      <th>1 очистка</th>\n",
       "      <td>8.442408</td>\n",
       "      <td>0.00</td>\n",
       "      <td>16.081632</td>\n",
       "    </tr>\n",
       "    <tr>\n",
       "      <th>2 очистка</th>\n",
       "      <td>5.168470</td>\n",
       "      <td>0.00</td>\n",
       "      <td>16.001945</td>\n",
       "    </tr>\n",
       "  </tbody>\n",
       "</table>\n",
       "</div>"
      ],
      "text/plain": [
       "                mean   min        max\n",
       "Сырье       8.794927  0.01  14.596026\n",
       "Флотация   11.994759  0.00  24.480271\n",
       "1 очистка   8.442408  0.00  16.081632\n",
       "2 очистка   5.168470  0.00  16.001945"
      ]
     },
     "metadata": {},
     "output_type": "display_data"
    },
    {
     "data": {
      "image/png": "[encoded data removed]",
      "text/plain": [
       "<Figure size 720x432 with 4 Axes>"
      ]
     },
     "metadata": {
      "needs_background": "light"
     },
     "output_type": "display_data"
    },
    {
     "data": {
      "image/png": "[encoded data removed]",
      "text/plain": [
       "<Figure size 432x288 with 1 Axes>"
      ]
     },
     "metadata": {
      "needs_background": "light"
     },
     "output_type": "display_data"
    },
    {
     "data": {
      "text/html": [
       "<div>\n",
       "<style scoped>\n",
       "    .dataframe tbody tr th:only-of-type {\n",
       "        vertical-align: middle;\n",
       "    }\n",
       "\n",
       "    .dataframe tbody tr th {\n",
       "        vertical-align: top;\n",
       "    }\n",
       "\n",
       "    .dataframe thead th {\n",
       "        text-align: right;\n",
       "    }\n",
       "</style>\n",
       "<table border=\"1\" class=\"dataframe\">\n",
       "  <thead>\n",
       "    <tr style=\"text-align: right;\">\n",
       "      <th></th>\n",
       "      <th>mean</th>\n",
       "      <th>min</th>\n",
       "      <th>max</th>\n",
       "    </tr>\n",
       "  </thead>\n",
       "  <tbody>\n",
       "    <tr>\n",
       "      <th>Сырье</th>\n",
       "      <td>3.598085</td>\n",
       "      <td>0.01</td>\n",
       "      <td>7.142594</td>\n",
       "    </tr>\n",
       "    <tr>\n",
       "      <th>Флотация</th>\n",
       "      <td>7.606272</td>\n",
       "      <td>0.00</td>\n",
       "      <td>13.617072</td>\n",
       "    </tr>\n",
       "    <tr>\n",
       "      <th>1 очистка</th>\n",
       "      <td>9.829530</td>\n",
       "      <td>0.00</td>\n",
       "      <td>17.081278</td>\n",
       "    </tr>\n",
       "    <tr>\n",
       "      <th>2 очистка</th>\n",
       "      <td>9.978895</td>\n",
       "      <td>0.00</td>\n",
       "      <td>17.031899</td>\n",
       "    </tr>\n",
       "  </tbody>\n",
       "</table>\n",
       "</div>"
      ],
      "text/plain": [
       "               mean   min        max\n",
       "Сырье      3.598085  0.01   7.142594\n",
       "Флотация   7.606272  0.00  13.617072\n",
       "1 очистка  9.829530  0.00  17.081278\n",
       "2 очистка  9.978895  0.00  17.031899"
      ]
     },
     "metadata": {},
     "output_type": "display_data"
    },
    {
     "data": {
      "image/png": "[encoded data removed]",
      "text/plain": [
       "<Figure size 720x432 with 4 Axes>"
      ]
     },
     "metadata": {
      "needs_background": "light"
     },
     "output_type": "display_data"
    }
   ],
   "source": [
    "for metal in ['au','ag','pb']:\n",
    "    \n",
    "    s = data[['rougher.input.feed_' + metal,\n",
    "              'rougher.output.concentrate_' + metal,\n",
    "              'primary_cleaner.output.concentrate_' + metal,\n",
    "              'final.output.concentrate_' + metal]]\n",
    "                       \n",
    "    s.columns = ['Сырье','Флотация','1 очистка','2 очистка']\n",
    "    \n",
    "    (s.mean().plot(kind='bar',\n",
    "                   fontsize = 12,\n",
    "                   rot=0)\n",
    "             .set_title('Концентрация металла ' + metal + '\\n', \n",
    "                        fontsize = 16, \n",
    "                        color = 'SteelBlue'))\n",
    "    plt.show()\n",
    "    \n",
    "    display(s.agg(func=['mean','min','max']).transpose())\n",
    "    \n",
    "    s.hist(bins=40,figsize=(10,6)) \n",
    "    plt.show()"
   ]
  },
  {
   "cell_type": "markdown",
   "metadata": {},
   "source": [
    "Концентрация золота с каждым этапом очистки увеличивается от 8 % до 44 %. Это соответствует основной задаче очистки - повышение концентрации золота в золотосодержащей руде. По таблице видно, что в исходном сырье минимальная концентрация золота - 0,01 %, а после проведения этапов очистки - 0 %. Такого не может быть, поэтому нули лучше заменить на концентрацию золота до проведения очистки. Замену будем проводить для полной и обучающей выборок.\n",
    "\n",
    "Аналогичная ситуация и с другими металлами. Замену реализуем в вложенных циклах по стадиям очистки, записанным в списке `stage`, и по всем трем металлам с помощью метода `where()`. Для проверки будем выводить новое минимальное значение."
   ]
  },
  {
   "cell_type": "code",
   "execution_count": 122,
   "metadata": {},
   "outputs": [
    {
     "name": "stdout",
     "output_type": "stream",
     "text": [
      "\n",
      "rougher.output.concentrate_\n",
      "au: 0.0099999997764825\n",
      "ag: 0.0099999997764825\n",
      "pb: 0.0099999997764825\n",
      "\n",
      "primary_cleaner.output.concentrate_\n",
      "au: 0.0099999997764825\n",
      "ag: 0.0099999997764825\n",
      "pb: 0.0099999997764825\n",
      "\n",
      "final.output.concentrate_\n",
      "au: 0.0099999997764825\n",
      "ag: 0.0099999997764825\n",
      "pb: 0.0099999997764825\n"
     ]
    }
   ],
   "source": [
    "stage = ['rougher.input.feed_',\n",
    "         'rougher.output.concentrate_',\n",
    "         'primary_cleaner.output.concentrate_',\n",
    "         'final.output.concentrate_']\n",
    "\n",
    "for stage_number in range(1,len(stage)):\n",
    "    \n",
    "    print()\n",
    "    print(stage[stage_number])\n",
    "    \n",
    "    for metal in ['au','ag','pb']:\n",
    "    \n",
    "        data[stage[stage_number] + metal] = (\n",
    "        data[stage[stage_number] + metal].where(\n",
    "             data[stage[stage_number] + metal] != 0, \n",
    "             data[stage[stage_number - 1] + metal]))\n",
    "    \n",
    "        print(metal + ':',data[stage[stage_number] + metal].min())\n",
    "        \n",
    "        data_train[stage[stage_number] + metal] = (\n",
    "        data_train[stage[stage_number] + metal].where(\n",
    "             data_train[stage[stage_number] + metal] != 0, \n",
    "             data_train[stage[stage_number - 1] + metal]))"
   ]
  },
  {
   "cell_type": "markdown",
   "metadata": {},
   "source": [
    "Замена прошла успешно, минимальные значения для каждого металла на всех стадиях больше нуля. Минимальные значения для металлов после флотации и первичной очистки одинаковые. Это связано с тем, что в исходном сырье минимальные значения концентраций для всех трех металлов были одинаковые в тех строках, где были нули."
   ]
  },
  {
   "cell_type": "markdown",
   "metadata": {},
   "source": [
    "Концентрация серебра после флотации повышается, затем монотонно уменьшаяется. Это можно объяснить тем, что на этапе флотации удаление из руды серебра происходит менее эффективно, чем других примесей. Поэтому с уменьшением массы руды и почти неизменной массой серебра в ней доля серебра увеличивается.\n",
    "\n",
    "Концентрация свинца растет на протяжении всего процесса очистки. Это значит, что данный процесс очистки плохо удаляет свинец из золотосодержащей руды - наряду с золотом, в руде задерживается и свинец."
   ]
  },
  {
   "cell_type": "markdown",
   "metadata": {},
   "source": [
    "### Распределение гранул сырья по размерам"
   ]
  },
  {
   "cell_type": "markdown",
   "metadata": {},
   "source": [
    "Сравним распределения гранул сырья по размерам на обучающей и тестовой выборках. Для этого построим гистограммы методом `hist()`."
   ]
  },
  {
   "cell_type": "code",
   "execution_count": 123,
   "metadata": {},
   "outputs": [
    {
     "data": {
      "image/png": "[encoded data removed]",
      "text/plain": [
       "<Figure size 432x288 with 1 Axes>"
      ]
     },
     "metadata": {
      "needs_background": "light"
     },
     "output_type": "display_data"
    },
    {
     "data": {
      "image/png": "[encoded data removed]",
      "text/plain": [
       "<Figure size 432x288 with 1 Axes>"
      ]
     },
     "metadata": {
      "needs_background": "light"
     },
     "output_type": "display_data"
    }
   ],
   "source": [
    "data_train['rougher.input.feed_size'].hist(bins=40,density=True).set_title(\n",
    "          'Распределние гранул по размерам\\nдля обучающей выборки\\n', \n",
    "          fontsize = 16, \n",
    "          color = 'SteelBlue');\n",
    "plt.show()\n",
    "data_test['rougher.input.feed_size'].hist(bins=40,density=True).set_title(\n",
    "          'для тестовой выборки\\n', \n",
    "          fontsize = 16, \n",
    "          color = 'SteelBlue');"
   ]
  },
  {
   "cell_type": "markdown",
   "metadata": {},
   "source": [
    "Выведем основые статистики для этого признака."
   ]
  },
  {
   "cell_type": "code",
   "execution_count": 124,
   "metadata": {},
   "outputs": [
    {
     "data": {
      "text/plain": [
       "count    13005.000000\n",
       "mean        59.740283\n",
       "std         20.794641\n",
       "min          9.659576\n",
       "25%         48.994762\n",
       "50%         55.283606\n",
       "75%         65.705780\n",
       "max        484.967466\n",
       "Name: rougher.input.feed_size, dtype: float64"
      ]
     },
     "execution_count": 124,
     "metadata": {},
     "output_type": "execute_result"
    }
   ],
   "source": [
    "data_train['rougher.input.feed_size'].describe()"
   ]
  },
  {
   "cell_type": "code",
   "execution_count": 125,
   "metadata": {},
   "outputs": [
    {
     "data": {
      "text/plain": [
       "count    5229.000000\n",
       "mean       55.863978\n",
       "std        18.914656\n",
       "min         0.046369\n",
       "25%        43.911874\n",
       "50%        50.772729\n",
       "75%        62.265394\n",
       "max       392.494040\n",
       "Name: rougher.input.feed_size, dtype: float64"
      ]
     },
     "execution_count": 125,
     "metadata": {},
     "output_type": "execute_result"
    }
   ],
   "source": [
    "data_test['rougher.input.feed_size'].describe()"
   ]
  },
  {
   "cell_type": "markdown",
   "metadata": {},
   "source": [
    "Средние отличаются незначительно, квартили тоже. Минимальные и максимальные значения на двух выборках отличаются сильно: на тестовой выборке минимальный размер гранулы составляет 0,05, а на обучающей - 9,66; максимальное значение на обучающей выборке составляет 485, а на тестовой - 392. Эти значения сильно выбиваются из общей массы данных, что видно на гистограммах выше, но они не были удалены, так как модель лучше обучать на максимально полных данных. Общий вид распределений для двух выборок совпадает. Значит, по тестовой выборке можно оценивать модель, обученную на обучающей выборке."
   ]
  },
  {
   "cell_type": "markdown",
   "metadata": {},
   "source": [
    "### Исследование суммарной концентрации веществ на разных стадиях"
   ]
  },
  {
   "cell_type": "markdown",
   "metadata": {},
   "source": [
    "Исследуем суммарную концентрацию всех веществ на разных стадиях: в сырье, после флотации, первичной и вторичной очисток.\n",
    "\n",
    "Для этого создадим датафрейм `sum_concentrate` с суммарными концентрациями на описанных стадиях."
   ]
  },
  {
   "cell_type": "code",
   "execution_count": 126,
   "metadata": {},
   "outputs": [],
   "source": [
    "pd.options.mode.chained_assignment = None\n",
    "\n",
    "sum_concentrate = data[['rougher.input.feed_sol',\n",
    "                        'rougher.output.concentrate_sol',\n",
    "                        'primary_cleaner.output.concentrate_sol',\n",
    "                        'final.output.concentrate_sol']]\n",
    "\n",
    "sum_concentrate.columns = ['Исходное сырье',\n",
    "                           'После флотации',\n",
    "                           'После 1 очистки',\n",
    "                           'После 2 очистки']\n",
    "\n",
    "for metal in ['au','ag','pb']:\n",
    "    \n",
    "    sum_concentrate['Исходное сырье'] += data['rougher.input.feed_' + metal]\n",
    "    sum_concentrate['После флотации'] += data['rougher.output.concentrate_' + metal]\n",
    "    sum_concentrate['После 1 очистки'] += data['primary_cleaner.output.concentrate_' + metal]\n",
    "    sum_concentrate['После 2 очистки'] += data['final.output.concentrate_' + metal]"
   ]
  },
  {
   "cell_type": "markdown",
   "metadata": {},
   "source": [
    "Построим гистограммы для каждого этапа."
   ]
  },
  {
   "cell_type": "code",
   "execution_count": 127,
   "metadata": {},
   "outputs": [
    {
     "data": {
      "image/png": "[encoded data removed]",
      "text/plain": [
       "<Figure size 720x432 with 4 Axes>"
      ]
     },
     "metadata": {
      "needs_background": "light"
     },
     "output_type": "display_data"
    }
   ],
   "source": [
    "sum_concentrate.hist(bins=40,figsize=(10,6));"
   ]
  },
  {
   "cell_type": "markdown",
   "metadata": {},
   "source": [
    "С каждым этапом очистки распределние сужается. Значит, суммарная концентрация веществ в продукте на выходе слабо зависит от распределения концентрации в исходном сырье. Можно утверждать, что данный процесс очистки позволяет получать продукт с определенным значением суммарной концентрации веществ."
   ]
  },
  {
   "cell_type": "markdown",
   "metadata": {},
   "source": [
    "Построим столбчатую диаграмму для средних значений суммарных концентраций."
   ]
  },
  {
   "cell_type": "code",
   "execution_count": 128,
   "metadata": {
    "scrolled": false
   },
   "outputs": [
    {
     "data": {
      "image/png": "[encoded data removed]",
      "text/plain": [
       "<Figure size 432x288 with 1 Axes>"
      ]
     },
     "metadata": {
      "needs_background": "light"
     },
     "output_type": "display_data"
    }
   ],
   "source": [
    "(sum_concentrate.mean()\n",
    "                .round(decimals=1)\n",
    "                .plot(kind='barh',fontsize = 12,rot=0)\n",
    "                .set_title('Суммарная концентрация веществ\\n', \n",
    "                           fontsize = 16, \n",
    "                           color = 'SteelBlue'));"
   ]
  },
  {
   "cell_type": "markdown",
   "metadata": {},
   "source": [
    "Выведем на экран таблицу со средними, минимальными и максимальными значениями суммарных концентраций на каждом этапе."
   ]
  },
  {
   "cell_type": "code",
   "execution_count": 129,
   "metadata": {},
   "outputs": [
    {
     "data": {
      "text/html": [
       "<div>\n",
       "<style scoped>\n",
       "    .dataframe tbody tr th:only-of-type {\n",
       "        vertical-align: middle;\n",
       "    }\n",
       "\n",
       "    .dataframe tbody tr th {\n",
       "        vertical-align: top;\n",
       "    }\n",
       "\n",
       "    .dataframe thead th {\n",
       "        text-align: right;\n",
       "    }\n",
       "</style>\n",
       "<table border=\"1\" class=\"dataframe\">\n",
       "  <thead>\n",
       "    <tr style=\"text-align: right;\">\n",
       "      <th></th>\n",
       "      <th>mean</th>\n",
       "      <th>min</th>\n",
       "      <th>max</th>\n",
       "    </tr>\n",
       "  </thead>\n",
       "  <tbody>\n",
       "    <tr>\n",
       "      <th>Исходное сырье</th>\n",
       "      <td>57.407926</td>\n",
       "      <td>0.04</td>\n",
       "      <td>76.978947</td>\n",
       "    </tr>\n",
       "    <tr>\n",
       "      <th>После флотации</th>\n",
       "      <td>68.630667</td>\n",
       "      <td>0.04</td>\n",
       "      <td>88.140119</td>\n",
       "    </tr>\n",
       "    <tr>\n",
       "      <th>После 1 очистки</th>\n",
       "      <td>61.167541</td>\n",
       "      <td>0.04</td>\n",
       "      <td>80.749343</td>\n",
       "    </tr>\n",
       "    <tr>\n",
       "      <th>После 2 очистки</th>\n",
       "      <td>68.975224</td>\n",
       "      <td>0.04</td>\n",
       "      <td>80.210644</td>\n",
       "    </tr>\n",
       "  </tbody>\n",
       "</table>\n",
       "</div>"
      ],
      "text/plain": [
       "                      mean   min        max\n",
       "Исходное сырье   57.407926  0.04  76.978947\n",
       "После флотации   68.630667  0.04  88.140119\n",
       "После 1 очистки  61.167541  0.04  80.749343\n",
       "После 2 очистки  68.975224  0.04  80.210644"
      ]
     },
     "metadata": {},
     "output_type": "display_data"
    }
   ],
   "source": [
    "display(sum_concentrate.agg(func=['mean','min','max']).transpose())"
   ]
  },
  {
   "cell_type": "markdown",
   "metadata": {},
   "source": [
    "Суммарная концентрация веществ после флотации увеличивается, затем после первичной очистки немного уменьшается и в финальном продукте снова немного увеличивается. Это может быть связано с особенностями каждого этапа очистки, тем, какие вещества удаляются с отвальными хвостами."
   ]
  },
  {
   "cell_type": "markdown",
   "metadata": {},
   "source": [
    "### Выводы"
   ]
  },
  {
   "cell_type": "markdown",
   "metadata": {},
   "source": [
    "Концентрация золота с каждым этапом очистки увеличивается от 8 % до 44 %. Это соответствует основной задаче очистки - повышение концентрации золота в золотосодержащей руде. \n",
    "\n",
    "Концентрация серебра после флотации повышается, затем монотонно уменьшаяется. Это можно объяснить тем, что на этапе флотации удаление из руды серебра происходит менее эффективно, чем других примесей. Поэтому с уменьшением массы руды и почти неизменной массой серебра в ней доля серебра увеличивается.\n",
    "\n",
    "Концентрация свинца растет на протяжении всего процесса очистки. Это значит, что данный процесс очистки плохо удаляет свинец из золотосодержащей руды - наряду с золотом, в руде задерживается и свинец.\n",
    "\n",
    "Для распределений гранул сырья по размерам на обучающей и тестовой выборках средние отличаются незначительно, квартили тоже. Минимальные и максимальные значения на двух выборках отличаются сильно: на тестовой выборке минимальный размер гранулы составляет 0,05, а на обучающей - 9,66; максимальное значение на обучающей выборке составляет 485, а на тестовой - 392. Эти значения являются выбросами, но они не были удалены, так как модель лучше обучать на максимально полных данных. Общий вид распределений для двух выборок совпадает, значит, по тестовой выборке можно оценивать модель, обученную на обучающей выборке.\n",
    "\n",
    "Распредление суммарной концентрации веществ с каждым этапом очистки сужается. Значит, суммарная концентрация веществ в продукте на выходе слабо зависит от распределения концентрации в исходном сырье. Можно утверждать, что данный процесс очистки позволяет получать продукт с определенным значением суммарной концентрации веществ.\n",
    "\n",
    "Суммарная концентрация веществ после флотации увеличивается, затем после первичной очистки немного уменьшается и в финальном продукте снова немного увеличивается. Это может быть связано с особенностями каждого этапа очистки, тем, какие вещества удаляются с отвальными хвостами."
   ]
  },
  {
   "cell_type": "markdown",
   "metadata": {},
   "source": [
    "## Модель"
   ]
  },
  {
   "cell_type": "markdown",
   "metadata": {},
   "source": [
    "### Метрика качетсва sMAPE\n",
    "\n",
    "Качество модели будем оценивать с помощью метрики sMAPE. Она представляет собой «симметричное среднее абсолютное процентное отклонение». Она выражается в относительных величинах учитывает масштаб как целевого признака, так и предсказания.\n",
    "\n",
    "Напишем функцию для вычисления sMAPE в соответствии с формулой, которой она выражается."
   ]
  },
  {
   "cell_type": "code",
   "execution_count": 130,
   "metadata": {},
   "outputs": [],
   "source": [
    "def smape_culc(target,predicted):\n",
    "    \n",
    "    return (((target - predicted).abs() / \n",
    "             ((target.abs() + predicted.abs()) / 2)).sum()\n",
    "            * 100 / target.shape[0])"
   ]
  },
  {
   "cell_type": "markdown",
   "metadata": {},
   "source": [
    "### Подготовка признаков"
   ]
  },
  {
   "cell_type": "markdown",
   "metadata": {},
   "source": [
    "Предсказать необходимо две величины, поэтому моделей будт две: для предсказания эффективности обогащения после флотации и финальной.\n",
    "\n",
    "Найдем все признаки из тестовой выборки, которые потребуются для предсказания эффективности обогащения после флотации. К ним относятся столбцы из тестовой выборки, содержащие строку `'rougher'`."
   ]
  },
  {
   "cell_type": "code",
   "execution_count": 131,
   "metadata": {},
   "outputs": [],
   "source": [
    "rougher_features_columns = []\n",
    "\n",
    "for column in data_test.columns.to_list():\n",
    "    if 'rougher' in column:\n",
    "        rougher_features_columns.append(column)"
   ]
  },
  {
   "cell_type": "markdown",
   "metadata": {},
   "source": [
    "Сформиуем датафреймы с признаками и целевым признаком из обучающей и тестовой выборок для предсказания эффективности после флотации."
   ]
  },
  {
   "cell_type": "code",
   "execution_count": 132,
   "metadata": {},
   "outputs": [],
   "source": [
    "data_train_rougher_features = data_train[rougher_features_columns]\n",
    "data_train_rougher_target = data_train['rougher.output.recovery']\n",
    "\n",
    "data_test_rougher_features = data_test[rougher_features_columns]"
   ]
  },
  {
   "cell_type": "markdown",
   "metadata": {},
   "source": [
    "Для предсказания финальной эффективности потребуются все признаки, которые есть в тестовой выборке."
   ]
  },
  {
   "cell_type": "code",
   "execution_count": 133,
   "metadata": {},
   "outputs": [],
   "source": [
    "data_train_final_features = data_train[data_test.columns.to_list()]\n",
    "data_train_final_target = data_train['final.output.recovery']\n",
    "\n",
    "data_test_final_features = data_test"
   ]
  },
  {
   "cell_type": "markdown",
   "metadata": {},
   "source": [
    "Проведем масштабирование признаков для флотации."
   ]
  },
  {
   "cell_type": "code",
   "execution_count": 134,
   "metadata": {},
   "outputs": [],
   "source": [
    "scaler = StandardScaler()\n",
    "scaler.fit(data_train_rougher_features)\n",
    "\n",
    "data_train_rougher_features[rougher_features_columns] = (\n",
    "             scaler.transform(data_train_rougher_features[rougher_features_columns]))\n",
    "data_test_rougher_features[rougher_features_columns] = (\n",
    "             scaler.transform(data_test_rougher_features[rougher_features_columns]))\n",
    "\n",
    "pd.options.mode.chained_assignment = None"
   ]
  },
  {
   "cell_type": "markdown",
   "metadata": {},
   "source": [
    "И для финальной эффективности."
   ]
  },
  {
   "cell_type": "code",
   "execution_count": 135,
   "metadata": {},
   "outputs": [],
   "source": [
    "scaler = StandardScaler()\n",
    "scaler.fit(data_train_final_features)\n",
    "\n",
    "data_train_final_features[data_test.columns.to_list()] = (\n",
    "             scaler.transform(data_train_final_features[data_test.columns.to_list()]))\n",
    "data_test_final_features[data_test.columns.to_list()] = (\n",
    "             scaler.transform(data_test_final_features[data_test.columns.to_list()]))\n",
    "\n",
    "pd.options.mode.chained_assignment = None"
   ]
  },
  {
   "cell_type": "markdown",
   "metadata": {},
   "source": [
    "### Построение модели для эффективности после флотации"
   ]
  },
  {
   "cell_type": "markdown",
   "metadata": {},
   "source": [
    "Рассмострим три модели машинного обучения из библиотеки `sklearn`: \n",
    "- решающее дерево\n",
    "- случайный лес\n",
    "- логистическая регрессия. \n",
    "\n",
    "Будем менять гиперпараметры моделей, чтобы получить наилучшие результаты, затем выберем одну модель и проверим ее на тестовой выборке.\n",
    "\n",
    "Чтобы зафиксировать случайность в предсказании моделей, зафиксируем для каждой модели параметр случайного состояния `random_state`."
   ]
  },
  {
   "cell_type": "markdown",
   "metadata": {},
   "source": [
    "#### Модель решающего дерева"
   ]
  },
  {
   "cell_type": "markdown",
   "metadata": {},
   "source": [
    "<a id='3.3.1'></a>Первой обучим модель решающего дерева. Основные гиперпараметры модели, которые будем менять:\n",
    "\n",
    "- глубина дерева `max_depth` — это максимальное количество условий от «вершины» до финального ответа; считается по количеству переходов между узлами;\n",
    "- `min_samples_split` - число, ограничивающее минимальное количество объектов в узле для разделения;\n",
    "- `min_samples_leaf` - число, ограничивающее минимальное количество объектов в листе.\n",
    "\n",
    "С помощью цикла найдем оптимальное сочетание этих гиперпараметров для получения наименьшей метрики качества модели sMAPE. \n",
    "\n",
    "Напишем цикл по параметрам с помощью функции `product()` из библиотеки `itertools`. В цикле обучим модель кросс-валидацией с помощью функции `cross_val_predict()` и получим предсказания. На их основе рассчитаем метрику sMAPE и по ней выберем лучшую модель. Сохраним значение гиперпараметров для нее в переменную `best_parameters`, а значение sMAPE в переменную `best_smape`."
   ]
  },
  {
   "cell_type": "code",
   "execution_count": null,
   "metadata": {},
   "outputs": [],
   "source": [
    "best_parameters = 0\n",
    "best_smape = 100\n",
    "\n",
    "for parameters in product(range(6,15),range(150,280,20),range(10,110,20)):\n",
    "    \n",
    "    depth,samples_split,samples_leaf = parameters\n",
    "    \n",
    "    model = DecisionTreeRegressor(random_state=12345, \n",
    "                                  max_depth=depth,\n",
    "                                  min_samples_split=samples_split,\n",
    "                                  min_samples_leaf=samples_leaf)\n",
    "    \n",
    "    predictions = pd.Series(cross_val_predict(model,\n",
    "                                              data_train_rougher_features,\n",
    "                                              data_train_rougher_target),\n",
    "                            index=data_train_rougher_target.index.to_list())\n",
    "    final_smape = smape_culc(data_train_rougher_target,predictions)\n",
    "    \n",
    "    if final_smape < best_smape:\n",
    "        best_smape = final_smape   \n",
    "        best_parameters = parameters"
   ]
  },
  {
   "cell_type": "markdown",
   "metadata": {},
   "source": [
    "Сохраним sMAPE и параметры лучшей модели решающего дерева в соответствующие переменные и выведем их на экран."
   ]
  },
  {
   "cell_type": "code",
   "execution_count": null,
   "metadata": {},
   "outputs": [],
   "source": [
    "best_smape_DecisionTree = best_smape\n",
    "best_parameters_DecisionTree = best_parameters"
   ]
  },
  {
   "cell_type": "code",
   "execution_count": 67,
   "metadata": {},
   "outputs": [
    {
     "name": "stdout",
     "output_type": "stream",
     "text": [
      "Наименьшее sMAPE: 12.058111695731824 \n",
      "Максимальная глубина дерева: 11 \n",
      "Минимальное количество объектов в узле: 210 \n",
      "Минимальное количество объектов в листе: 30\n"
     ]
    }
   ],
   "source": [
    "print(\"Наименьшее sMAPE:\", best_smape_DecisionTree,\n",
    "      \"\\nМаксимальная глубина дерева:\", best_parameters_DecisionTree[0],\n",
    "      \"\\nМинимальное количество объектов в узле:\", best_parameters_DecisionTree[1],\n",
    "      \"\\nМинимальное количество объектов в листе:\", best_parameters_DecisionTree[2])"
   ]
  },
  {
   "cell_type": "markdown",
   "metadata": {},
   "source": [
    "#### Модель случайного леса"
   ]
  },
  {
   "cell_type": "markdown",
   "metadata": {},
   "source": [
    "<a id='3.3.2'></a>Основные гиперпараметры модели случайного леса, которые будем менять:\n",
    "\n",
    "- `n_estimators` - количество деревьев;\n",
    "- `max_depth` - максимальная глубина дерева;\n",
    "- `min_samples_split` - число, ограничивающее минимальное количество объектов в узле для разделения;\n",
    "- `min_samples_leaf` - число, ограничивающее минимальное количество объектов в листе после разделения узла.\n",
    "\n",
    "Найдем оптимальное сочетание этих гиперпараметров аналогично [анализу модели решающего дерева](#3.3.1), по наименьшему значению метрики sMAPE.\n",
    "\n",
    "Из-за большого времени обучения, чтобы сократить количество итераций, сначала найдем оптимальное количество деревьев и глубину дерева. Затем с найденными гиперпараметрами оптимизируем `min_samples_split` и `min_samples_leaf`."
   ]
  },
  {
   "cell_type": "code",
   "execution_count": 78,
   "metadata": {
    "scrolled": true
   },
   "outputs": [
    {
     "name": "stderr",
     "output_type": "stream",
     "text": [
      "20it [33:03, 99.18s/it] \n"
     ]
    }
   ],
   "source": [
    "best_parameters = 0\n",
    "best_smape = 100\n",
    "\n",
    "for parameters in tqdm(product(range(100,200,20),\n",
    "                               range(10,14))):\n",
    "\n",
    "    est,depth = parameters\n",
    "    \n",
    "    model = RandomForestRegressor(random_state=12345, \n",
    "                                  n_estimators=est, \n",
    "                                  max_depth=depth)\n",
    "\n",
    "    predictions = pd.Series(cross_val_predict(model,\n",
    "                                              data_train_rougher_features,\n",
    "                                              data_train_rougher_target),\n",
    "                            index=data_train_rougher_target.index.to_list())\n",
    "    \n",
    "    final_smape = smape_culc(data_train_rougher_target,predictions)\n",
    "    \n",
    "    if final_smape < best_smape:\n",
    "        best_smape = final_smape   \n",
    "        best_parameters = parameters"
   ]
  },
  {
   "cell_type": "markdown",
   "metadata": {},
   "source": [
    "<font color='blue'><b>Комментарий ревьюера: </b></font> ✔️\\\n",
    "<font color='green'>👍</font>"
   ]
  },
  {
   "cell_type": "markdown",
   "metadata": {},
   "source": [
    "Сохраним sMAPE и параметры лучшей модели решающего дерева в соответствующие переменные и выведем их на экран."
   ]
  },
  {
   "cell_type": "code",
   "execution_count": 79,
   "metadata": {},
   "outputs": [],
   "source": [
    "best_smape_RandomForest = best_smape\n",
    "best_parameters_RandomForest = best_parameters"
   ]
  },
  {
   "cell_type": "code",
   "execution_count": 81,
   "metadata": {},
   "outputs": [
    {
     "name": "stdout",
     "output_type": "stream",
     "text": [
      "Наименьшее sMAPE: 12.266684463782914 \n",
      "Количество деревьев 180 \n",
      "Максимальная глубина дерева: 11\n"
     ]
    }
   ],
   "source": [
    "print(\"Наименьшее sMAPE:\", best_smape_RandomForest,\n",
    "      \"\\nКоличество деревьев\", best_parameters_RandomForest[0],\n",
    "      \"\\nМаксимальная глубина дерева:\", best_parameters_RandomForest[1])"
   ]
  },
  {
   "cell_type": "markdown",
   "metadata": {},
   "source": [
    "С этими гиперпараметрами найдем оптимальные минимальное количество объектов в узле и листе."
   ]
  },
  {
   "cell_type": "code",
   "execution_count": 293,
   "metadata": {},
   "outputs": [
    {
     "name": "stderr",
     "output_type": "stream",
     "text": [
      "16it [21:21, 80.07s/it]\n"
     ]
    }
   ],
   "source": [
    "best_parameters = [180,11,0,0]\n",
    "best_smape = 100\n",
    "\n",
    "for parameters in tqdm(product(range(130,200,20),\n",
    "                               range(20,60,10))):\n",
    "    \n",
    "    samples_split,samples_leaf = parameters\n",
    "    \n",
    "    model = RandomForestRegressor(random_state=12345, \n",
    "                                  n_estimators=180, \n",
    "                                  max_depth=11,\n",
    "                                  min_samples_split=samples_split,\n",
    "                                  min_samples_leaf=samples_leaf)\n",
    "    predictions = pd.Series(cross_val_predict(model,\n",
    "                                              data_train_rougher_features,\n",
    "                                              data_train_rougher_target),\n",
    "                            index=data_train_rougher_target.index.to_list())\n",
    "    final_smape = smape_culc(data_train_rougher_target,predictions)\n",
    "    \n",
    "    if final_smape < best_smape:\n",
    "        best_smape = final_smape   \n",
    "        best_parameters[2] = parameters[0]\n",
    "        best_parameters[3] = parameters[1]"
   ]
  },
  {
   "cell_type": "markdown",
   "metadata": {},
   "source": [
    "Сохраним sMAPE и параметры лучшей модели решающего дерева в соответствующие переменные и выведем их на экран."
   ]
  },
  {
   "cell_type": "code",
   "execution_count": 294,
   "metadata": {},
   "outputs": [],
   "source": [
    "best_smape_RandomForest = best_smape\n",
    "best_parameters_RandomForest = best_parameters"
   ]
  },
  {
   "cell_type": "code",
   "execution_count": 296,
   "metadata": {
    "scrolled": true
   },
   "outputs": [
    {
     "name": "stdout",
     "output_type": "stream",
     "text": [
      "Наименьшее sMAPE: 11.33996487561927 \n",
      "Количество деревьев 180 \n",
      "Максимальная глубина дерева: 11 \n",
      "Минимальное коичество объектов в узле: 190 \n",
      "Минимальное коичество объектов в листе: 30\n"
     ]
    }
   ],
   "source": [
    "print(\"Наименьшее sMAPE:\", best_smape_RandomForest,\n",
    "      \"\\nКоличество деревьев\", best_parameters_RandomForest[0],\n",
    "      \"\\nМаксимальная глубина дерева:\", best_parameters_RandomForest[1],\n",
    "      \"\\nМинимальное коичество объектов в узле:\", best_parameters_RandomForest[2],\n",
    "      \"\\nМинимальное коичество объектов в листе:\", best_parameters_RandomForest[3])"
   ]
  },
  {
   "cell_type": "markdown",
   "metadata": {},
   "source": [
    "#### Модель линейной регрессии"
   ]
  },
  {
   "cell_type": "markdown",
   "metadata": {},
   "source": [
    "Обучим модель линейной регрессии и найдем метрику sMAPE."
   ]
  },
  {
   "cell_type": "code",
   "execution_count": 84,
   "metadata": {},
   "outputs": [
    {
     "name": "stdout",
     "output_type": "stream",
     "text": [
      "Наименьшее sMAPE: 12.318818727472305\n"
     ]
    }
   ],
   "source": [
    "model = LinearRegression()\n",
    "predictions = pd.Series(cross_val_predict(model,\n",
    "                                              data_train_rougher_features,\n",
    "                                              data_train_rougher_target),\n",
    "                            index=data_train_rougher_target.index.to_list())\n",
    "final_smape = smape_culc(data_train_rougher_target,predictions)\n",
    "\n",
    "print(\"Наименьшее sMAPE:\", final_smape)"
   ]
  },
  {
   "cell_type": "markdown",
   "metadata": {},
   "source": [
    "### Построение модели для финальной эффективности"
   ]
  },
  {
   "cell_type": "markdown",
   "metadata": {},
   "source": [
    "Аналогично исследуем различные модели для предсказания финальной эффективности."
   ]
  },
  {
   "cell_type": "markdown",
   "metadata": {},
   "source": [
    "#### Модель решающего дерева"
   ]
  },
  {
   "cell_type": "markdown",
   "metadata": {},
   "source": [
    "Аналогично [анализу модели решающего дерева](#3.3.1) для предсказания эффективности после флотации с помощью кросс-валидации найдем модель с наименьшей метрикой sMAPE."
   ]
  },
  {
   "cell_type": "code",
   "execution_count": 298,
   "metadata": {},
   "outputs": [],
   "source": [
    "best_parameters = 0\n",
    "best_smape = 100\n",
    "\n",
    "for parameters in product(range(6,15),range(150,280,20),range(10,110,20)):\n",
    "    \n",
    "    depth,samples_split,samples_leaf = parameters\n",
    "    \n",
    "    model = DecisionTreeRegressor(random_state=12345, \n",
    "                                  max_depth=depth,\n",
    "                                  min_samples_split=samples_split,\n",
    "                                  min_samples_leaf=samples_leaf)\n",
    "    \n",
    "    predictions = pd.Series(cross_val_predict(model,\n",
    "                                              data_train_final_features,\n",
    "                                              data_train_final_target),\n",
    "                            index=data_train_final_target.index.to_list())\n",
    "    final_smape = smape_culc(data_train_final_target,predictions)\n",
    "    \n",
    "    if final_smape < best_smape:\n",
    "        best_smape = final_smape   \n",
    "        best_parameters = parameters"
   ]
  },
  {
   "cell_type": "markdown",
   "metadata": {},
   "source": [
    "Сохраним sMAPE и параметры лучшей модели решающего дерева в соответствующие переменные и выведем их на экран."
   ]
  },
  {
   "cell_type": "code",
   "execution_count": 299,
   "metadata": {},
   "outputs": [],
   "source": [
    "best_smape_DecisionTree_final = best_smape\n",
    "best_parameters_DecisionTree_final = best_parameters"
   ]
  },
  {
   "cell_type": "code",
   "execution_count": 300,
   "metadata": {
    "scrolled": true
   },
   "outputs": [
    {
     "name": "stdout",
     "output_type": "stream",
     "text": [
      "Наименьшее sMAPE: 9.20335784617144 \n",
      "Максимальная глубина дерева: 9 \n",
      "Минимальное количество объектов в узле: 270 \n",
      "Минимальное количество объектов в листе: 90\n"
     ]
    }
   ],
   "source": [
    "print(\"Наименьшее sMAPE:\", best_smape_DecisionTree_final,\n",
    "      \"\\nМаксимальная глубина дерева:\", best_parameters_DecisionTree_final[0],\n",
    "      \"\\nМинимальное количество объектов в узле:\", best_parameters_DecisionTree_final[1],\n",
    "      \"\\nМинимальное количество объектов в листе:\", best_parameters_DecisionTree_final[2])"
   ]
  },
  {
   "cell_type": "markdown",
   "metadata": {},
   "source": [
    "#### Модель случайного леса"
   ]
  },
  {
   "cell_type": "markdown",
   "metadata": {},
   "source": [
    "Аналогично [анализу модели случайного леса](#3.3.2) для предсказания эффективности после флотации с помощью кросс-валидации найдем модель с наименьшей метрикой sMAPE. Для этого сначала оптимизируем количсетво деревьев и глубину дерева, затем минимальное количество объектов в узле и листе, чтобы сократить количество итераций и время расчета."
   ]
  },
  {
   "cell_type": "code",
   "execution_count": 301,
   "metadata": {
    "scrolled": true
   },
   "outputs": [
    {
     "name": "stderr",
     "output_type": "stream",
     "text": [
      "20it [1:02:38, 187.91s/it]\n"
     ]
    }
   ],
   "source": [
    "best_parameters = 0\n",
    "best_smape = 100\n",
    "\n",
    "for parameters in tqdm(product(range(100,200,20),\n",
    "                               range(10,14))):\n",
    "\n",
    "    est,depth = parameters\n",
    "    \n",
    "    model = RandomForestRegressor(random_state=12345, \n",
    "                                  n_estimators=est, \n",
    "                                  max_depth=depth)\n",
    "\n",
    "    predictions = pd.Series(cross_val_predict(model,\n",
    "                                              data_train_final_features,\n",
    "                                              data_train_final_target),\n",
    "                            index=data_train_final_target.index.to_list())\n",
    "    \n",
    "    final_smape = smape_culc(data_train_final_target,predictions)\n",
    "    \n",
    "    if final_smape < best_smape:\n",
    "        best_smape = final_smape   \n",
    "        best_parameters = parameters"
   ]
  },
  {
   "cell_type": "markdown",
   "metadata": {},
   "source": [
    "Сохраним sMAPE и параметры лучшей модели решающего дерева в соответствующие переменные и выведем их на экран."
   ]
  },
  {
   "cell_type": "code",
   "execution_count": 302,
   "metadata": {},
   "outputs": [],
   "source": [
    "best_smape_RandomForest_final = best_smape\n",
    "best_parameters_RandomForest_final = best_parameters"
   ]
  },
  {
   "cell_type": "code",
   "execution_count": 304,
   "metadata": {},
   "outputs": [
    {
     "name": "stdout",
     "output_type": "stream",
     "text": [
      "Наименьшее sMAPE: 9.843539603634978 \n",
      "Количество деревьев 160 \n",
      "Максимальная глубина дерева: 10\n"
     ]
    }
   ],
   "source": [
    "print(\"Наименьшее sMAPE:\", best_smape_RandomForest_final,\n",
    "      \"\\nКоличество деревьев\", best_parameters_RandomForest_final[0],\n",
    "      \"\\nМаксимальная глубина дерева:\", best_parameters_RandomForest_final[1])"
   ]
  },
  {
   "cell_type": "markdown",
   "metadata": {},
   "source": [
    "С этими гиперпараметрами найдем оптимальные минимальное количество объектов в узле и листе."
   ]
  },
  {
   "cell_type": "code",
   "execution_count": 305,
   "metadata": {
    "scrolled": true
   },
   "outputs": [
    {
     "name": "stderr",
     "output_type": "stream",
     "text": [
      "16it [49:22, 185.14s/it]\n"
     ]
    }
   ],
   "source": [
    "best_parameters = [180,11,0,0]\n",
    "best_smape = 100\n",
    "\n",
    "for parameters in tqdm(product(range(130,200,20),\n",
    "                               range(20,60,10))):\n",
    "    \n",
    "    samples_split,samples_leaf = parameters\n",
    "    \n",
    "    model = RandomForestRegressor(random_state=12345, \n",
    "                                  n_estimators=180, \n",
    "                                  max_depth=11,\n",
    "                                  min_samples_split=samples_split,\n",
    "                                  min_samples_leaf=samples_leaf)\n",
    "    predictions = pd.Series(cross_val_predict(model,\n",
    "                                              data_train_final_features,\n",
    "                                              data_train_final_target),\n",
    "                            index=data_train_final_target.index.to_list())\n",
    "    final_smape = smape_culc(data_train_final_target,predictions)\n",
    "    \n",
    "    if final_smape < best_smape:\n",
    "        best_smape = final_smape   \n",
    "        best_parameters[2] = parameters[0]\n",
    "        best_parameters[3] = parameters[1]"
   ]
  },
  {
   "cell_type": "markdown",
   "metadata": {},
   "source": [
    "Сохраним sMAPE и параметры лучшей модели решающего дерева в соответствующие переменные и выведем их на экран."
   ]
  },
  {
   "cell_type": "code",
   "execution_count": 306,
   "metadata": {},
   "outputs": [],
   "source": [
    "best_smape_RandomForest_final = best_smape\n",
    "best_parameters_RandomForest_final = best_parameters"
   ]
  },
  {
   "cell_type": "code",
   "execution_count": 307,
   "metadata": {
    "scrolled": true
   },
   "outputs": [
    {
     "name": "stdout",
     "output_type": "stream",
     "text": [
      "Наименьшее sMAPE: 8.560526793320363 \n",
      "Количество деревьев 180 \n",
      "Максимальная глубина дерева: 11 \n",
      "Минимальное коичество объектов в узле: 190 \n",
      "Минимальное коичество объектов в листе: 50\n"
     ]
    }
   ],
   "source": [
    "print(\"Наименьшее sMAPE:\", best_smape_RandomForest_final,\n",
    "      \"\\nКоличество деревьев\", best_parameters_RandomForest_final[0],\n",
    "      \"\\nМаксимальная глубина дерева:\", best_parameters_RandomForest_final[1],\n",
    "      \"\\nМинимальное коичество объектов в узле:\", best_parameters_RandomForest_final[2],\n",
    "      \"\\nМинимальное коичество объектов в листе:\", best_parameters_RandomForest_final[3])"
   ]
  },
  {
   "cell_type": "markdown",
   "metadata": {},
   "source": [
    "#### Модель линейной регрессии"
   ]
  },
  {
   "cell_type": "markdown",
   "metadata": {},
   "source": [
    "Обучим модель линейной регрессии и найдем метрику sMAPE."
   ]
  },
  {
   "cell_type": "code",
   "execution_count": 308,
   "metadata": {
    "scrolled": true
   },
   "outputs": [
    {
     "name": "stdout",
     "output_type": "stream",
     "text": [
      "Наименьшее sMAPE: 10.423637062426359\n"
     ]
    }
   ],
   "source": [
    "model = LinearRegression()\n",
    "\n",
    "predictions = pd.Series(cross_val_predict(model,\n",
    "                                          data_train_final_features,\n",
    "                                          data_train_final_target),\n",
    "                        index=data_train_final_target.index.to_list())\n",
    "\n",
    "final_smape = smape_culc(data_train_final_target,predictions)\n",
    "\n",
    "print(\"Наименьшее sMAPE:\", final_smape)"
   ]
  },
  {
   "cell_type": "markdown",
   "metadata": {},
   "source": [
    "### Проверка на тестовой выборке"
   ]
  },
  {
   "cell_type": "markdown",
   "metadata": {},
   "source": [
    "####  Для эффективности после флотации"
   ]
  },
  {
   "cell_type": "markdown",
   "metadata": {},
   "source": [
    "Наименьшее sMAPE дала модель случайного леса со следующими гиперпараметрами:"
   ]
  },
  {
   "cell_type": "code",
   "execution_count": 311,
   "metadata": {},
   "outputs": [
    {
     "name": "stdout",
     "output_type": "stream",
     "text": [
      "Наименьшее sMAPE: 11.33996487561927 \n",
      "Количество деревьев 180 \n",
      "Максимальная глубина дерева: 11 \n",
      "Минимальное коичество объектов в узле: 190 \n",
      "Минимальное коичество объектов в листе: 30\n"
     ]
    }
   ],
   "source": [
    "print(\"Наименьшее sMAPE:\", best_smape_RandomForest,\n",
    "      \"\\nКоличество деревьев\", best_parameters_RandomForest[0],\n",
    "      \"\\nМаксимальная глубина дерева:\", best_parameters_RandomForest[1],\n",
    "      \"\\nМинимальное коичество объектов в узле:\", best_parameters_RandomForest[2],\n",
    "      \"\\nМинимальное коичество объектов в листе:\", best_parameters_RandomForest[3])"
   ]
  },
  {
   "cell_type": "markdown",
   "metadata": {},
   "source": [
    "Обучим эту модель и найдем значение метрики sMAPE на тестовой выборке."
   ]
  },
  {
   "cell_type": "code",
   "execution_count": 60,
   "metadata": {},
   "outputs": [
    {
     "data": {
      "text/plain": [
       "9.267489757952736"
      ]
     },
     "execution_count": 60,
     "metadata": {},
     "output_type": "execute_result"
    }
   ],
   "source": [
    "model = RandomForestRegressor(random_state=12345, \n",
    "                              n_estimators=best_parameters_RandomForest[0], \n",
    "                              max_depth=best_parameters_RandomForest[1],\n",
    "                              min_samples_split=best_parameters_RandomForest[2],\n",
    "                              min_samples_leaf=best_parameters_RandomForest[3])\n",
    "\n",
    "model.fit(data_train_rougher_features,data_train_rougher_target)\n",
    "\n",
    "predictions_test = pd.Series(model.predict(data_test_rougher_features),\n",
    "                             index=data_test_rougher_features.index.to_list())\n",
    "\n",
    "smape_culc(data.loc[data_test_rougher_features.index.to_list()]['rougher.output.recovery'],\n",
    "           predictions_test)"
   ]
  },
  {
   "cell_type": "markdown",
   "metadata": {},
   "source": [
    "Проверим работу модели на адекватность. Для этого сравним полученную метрику sMAPE с метрикой для константной модели. \n",
    "\n",
    "Запишем в переменные `mean_target` и `median_target` объекты `Series` со средними и медианными значениями целевого признака из обучающей выборки соответственно."
   ]
  },
  {
   "cell_type": "code",
   "execution_count": 146,
   "metadata": {},
   "outputs": [],
   "source": [
    "dummy_regr = DummyRegressor(strategy=\"mean\")\n",
    "\n",
    "dummy_regr.fit(data_train_rougher_features,data_train_rougher_target)\n",
    "\n",
    "mean_target_rougher = pd.Series(dummy_regr.predict(data_test_rougher_features),\n",
    "                        index = data_test_rougher_features.index.to_list())"
   ]
  },
  {
   "cell_type": "code",
   "execution_count": 147,
   "metadata": {},
   "outputs": [],
   "source": [
    "dummy_regr = DummyRegressor(strategy=\"median\")\n",
    "\n",
    "dummy_regr.fit(data_train_rougher_features,data_train_rougher_target)\n",
    "\n",
    "median_target_rougher = pd.Series(dummy_regr.predict(data_test_rougher_features),\n",
    "                          index = data_test_rougher_features.index.to_list())"
   ]
  },
  {
   "cell_type": "markdown",
   "metadata": {},
   "source": [
    "Найдем sMAPE для среднего и медианного значений."
   ]
  },
  {
   "cell_type": "code",
   "execution_count": 148,
   "metadata": {},
   "outputs": [
    {
     "name": "stdout",
     "output_type": "stream",
     "text": [
      "Метрика sMAPE для среднего: 9.92\n"
     ]
    }
   ],
   "source": [
    "print('Метрика sMAPE для среднего:',\n",
    "      round(smape_culc(data.loc[data_test_rougher_features.index.to_list()]\n",
    "                               ['rougher.output.recovery'],\n",
    "                       mean_target_rougher),2))"
   ]
  },
  {
   "cell_type": "code",
   "execution_count": 149,
   "metadata": {},
   "outputs": [
    {
     "name": "stdout",
     "output_type": "stream",
     "text": [
      "Метрика sMAPE для медианы: 8.31\n"
     ]
    }
   ],
   "source": [
    "print('Метрика sMAPE для медианы:',\n",
    "      round(smape_culc(data.loc[data_test_rougher_features.index.to_list()]\n",
    "                               ['rougher.output.recovery'],\n",
    "           median_target_rougher),2))"
   ]
  },
  {
   "cell_type": "markdown",
   "metadata": {},
   "source": [
    "Метрика sMAPE для модели случайного леса, равная 9,27 %, больше, чем у константной модели с медианным значением. Модель не дает удовлетворительных результатов. Это может быть связано со слишком большим количеством признаков, недостаточно тщательной предобработкой данных, неполной оптимизацией гиперпараметров."
   ]
  },
  {
   "cell_type": "markdown",
   "metadata": {},
   "source": [
    "####  Для финальной эффективности"
   ]
  },
  {
   "cell_type": "markdown",
   "metadata": {},
   "source": [
    "Наименьшее sMAPE дала модель случайного леса со следующими гиперпараметрами:"
   ]
  },
  {
   "cell_type": "code",
   "execution_count": 309,
   "metadata": {},
   "outputs": [
    {
     "name": "stdout",
     "output_type": "stream",
     "text": [
      "Наименьшее sMAPE: 8.560526793320363 \n",
      "Количество деревьев 180 \n",
      "Максимальная глубина дерева: 11 \n",
      "Минимальное коичество объектов в узле: 190 \n",
      "Минимальное коичество объектов в листе: 50\n"
     ]
    }
   ],
   "source": [
    "print(\"Наименьшее sMAPE:\", best_smape_RandomForest_final,\n",
    "      \"\\nКоличество деревьев\", best_parameters_RandomForest_final[0],\n",
    "      \"\\nМаксимальная глубина дерева:\", best_parameters_RandomForest_final[1],\n",
    "      \"\\nМинимальное коичество объектов в узле:\", best_parameters_RandomForest_final[2],\n",
    "      \"\\nМинимальное коичество объектов в листе:\", best_parameters_RandomForest_final[3])"
   ]
  },
  {
   "cell_type": "markdown",
   "metadata": {},
   "source": [
    "Обучим эту модель и найдем значение метрики sMAPE на тестовой выборке."
   ]
  },
  {
   "cell_type": "code",
   "execution_count": 310,
   "metadata": {},
   "outputs": [
    {
     "data": {
      "text/plain": [
       "8.806778069590528"
      ]
     },
     "execution_count": 310,
     "metadata": {},
     "output_type": "execute_result"
    }
   ],
   "source": [
    "model = RandomForestRegressor(random_state=12345, \n",
    "                              n_estimators=best_parameters_RandomForest_final[0], \n",
    "                              max_depth=best_parameters_RandomForest_final[1],\n",
    "                              min_samples_split=best_parameters_RandomForest_final[2],\n",
    "                              min_samples_leaf=best_parameters_RandomForest_final[3])\n",
    "\n",
    "model.fit(data_train_final_features,data_train_final_target)\n",
    "\n",
    "predictions_test = pd.Series(model.predict(data_test_final_features),\n",
    "                             index=data_test_final_features.index.to_list())\n",
    "\n",
    "smape_culc(data.loc[data_test_final_features.index.to_list()]['final.output.recovery'],\n",
    "           predictions_test)"
   ]
  },
  {
   "cell_type": "markdown",
   "metadata": {},
   "source": [
    "Аналогично проверим работу модели на адекватность. Для этого сравним полученную метрику sMAPE с метрикой для константной модели. \n",
    "\n",
    "Запишем в переменные `mean_target_final` и `median_target_final` объекты `Series` со средними и медианными значениями целевого признака из обучающей выборки соответственно."
   ]
  },
  {
   "cell_type": "code",
   "execution_count": 156,
   "metadata": {},
   "outputs": [],
   "source": [
    "dummy_regr = DummyRegressor(strategy=\"mean\")\n",
    "\n",
    "dummy_regr.fit(data_train_final_features,data_train_final_target)\n",
    "\n",
    "mean_target_final = pd.Series(dummy_regr.predict(data_test_final_features),\n",
    "                        index = data_test_final_features.index.to_list())"
   ]
  },
  {
   "cell_type": "code",
   "execution_count": 157,
   "metadata": {},
   "outputs": [],
   "source": [
    "dummy_regr = DummyRegressor(strategy=\"median\")\n",
    "\n",
    "dummy_regr.fit(data_train_final_features,data_train_final_target)\n",
    "\n",
    "median_target_final = pd.Series(dummy_regr.predict(data_test_final_features),\n",
    "                        index = data_test_final_features.index.to_list())"
   ]
  },
  {
   "cell_type": "markdown",
   "metadata": {},
   "source": [
    "Найдем sMAPE для среднего и медианного значений."
   ]
  },
  {
   "cell_type": "code",
   "execution_count": 158,
   "metadata": {},
   "outputs": [
    {
     "name": "stdout",
     "output_type": "stream",
     "text": [
      "Метрика sMAPE для среднего: 9.35\n"
     ]
    }
   ],
   "source": [
    "print('Метрика sMAPE для среднего:',\n",
    "      round(smape_culc(data.loc[data_test_final_features.index.to_list()]\n",
    "                               ['final.output.recovery'],\n",
    "                       mean_target_final),2))"
   ]
  },
  {
   "cell_type": "code",
   "execution_count": 159,
   "metadata": {},
   "outputs": [
    {
     "name": "stdout",
     "output_type": "stream",
     "text": [
      "Метрика sMAPE для медианы: 9.12\n"
     ]
    }
   ],
   "source": [
    "print('Метрика sMAPE для медианы:',\n",
    "      round(smape_culc(data.loc[data_test_final_features.index.to_list()]\n",
    "                               ['final.output.recovery'],\n",
    "           median_target_final),2))"
   ]
  },
  {
   "cell_type": "markdown",
   "metadata": {},
   "source": [
    "Метрика sMAPE для модели случайного леса, равная 8,81 %, немного меньше, чем у константных моделей со средним и медианным значениями. Модель предсказывает лучше константных моделей и имеет смысл. Однако ошибка модели sMAPE близка к ошибке константной модели. Это так же, как и у модели для предсказания эффективности после флотации, может быть связано со слишком большим количеством признаков, недостаточно тщательной предобработкой данных, неполной оптимизацией гиперпараметров."
   ]
  },
  {
   "cell_type": "markdown",
   "metadata": {},
   "source": [
    "### Выводы"
   ]
  },
  {
   "cell_type": "markdown",
   "metadata": {},
   "source": [
    "Были рассмотрены три модели: модель решающего дерева, случайного леса и логистической регрессии.\n",
    "\n",
    "Для предсказания эффективности обогащения руды после флотации с помощью кросс-валидации была выбрана модель случайного леса с метрикой sMAPE на обучающей выборке, равной 11,34 %. Для модели было принято количество деревьев, равное 180, для этого значения была подобрана оптимальная глубина дерева - 11, а так же минимальное коичество объектов в узле (190) и минимальное коичество объектов в листе (30). \n",
    "\n",
    "Метрика sMAPE на тестовой выборке для этой модели случайного леса, равна 9,27 %. Для проверки на адекватность были рассчитаны значения sMAPE для двух константных моделей: для модели со средними значениями из обучающей выборки она равна 9,92 %, а для модели с медианными значениями -  8,31 %. Метрика sMAPE выбранной модели случайного леса больше, чем у константной модели с медианными значениями. Модель не дает удовлетворительных результатов. \n",
    "\n",
    "Наилучшей моделью для предсказания финальной эффективности также была выбрана модель случайного леса с метрикой sMAPE на обучающей выборке, равной 8,56 %. Были аналогично подобраны гиперпараметры модели: \n",
    "- количество деревьев - 180;\n",
    "- максимальная глубина дерева - 11;\n",
    "- минимальное коичество объектов в узле - 190;\n",
    "- минимальное коичество объектов в листе - 50.\n",
    "\n",
    "Модель была проверена на тестовой выборке, метрика sMAPE составила 8,81 %. Эта метрика равна 9,35 % для константной модели со средними значениями и 9,12 % с медианными значениями. Модель случайного леса дает sMAPE немного меньше, чем у константных моделей со средним и медианным значениями. Модель предсказывает лучше константных моделей и имеет смысл. Однако ошибка модели sMAPE близка к ошибке константной модели.\n",
    "\n",
    "Плохое качество моделей может быть связано со слишком большим количеством признаков, недостаточно тщательной предобработкой данных, неполной оптимизацией гиперпараметров."
   ]
  }
 ],
 "metadata": {
  "ExecuteTimeLog": [
   {
    "duration": 1693,
    "start_time": "2022-10-19T12:43:30.524Z"
   },
   {
    "duration": 3477,
    "start_time": "2022-10-19T13:33:22.357Z"
   },
   {
    "duration": 20,
    "start_time": "2022-10-19T13:33:54.567Z"
   },
   {
    "duration": 28,
    "start_time": "2022-10-19T14:26:08.651Z"
   },
   {
    "duration": 6,
    "start_time": "2022-10-19T14:26:25.653Z"
   },
   {
    "duration": 22,
    "start_time": "2022-10-19T14:26:33.410Z"
   },
   {
    "duration": 19,
    "start_time": "2022-10-19T14:27:27.789Z"
   },
   {
    "duration": 111,
    "start_time": "2022-10-19T14:34:22.479Z"
   },
   {
    "duration": 728,
    "start_time": "2022-10-19T14:34:34.839Z"
   },
   {
    "duration": 13,
    "start_time": "2022-10-19T14:34:42.862Z"
   },
   {
    "duration": 13,
    "start_time": "2022-10-19T14:36:39.981Z"
   },
   {
    "duration": 10,
    "start_time": "2022-10-19T14:36:46.034Z"
   },
   {
    "duration": 102,
    "start_time": "2022-10-19T14:36:50.479Z"
   },
   {
    "duration": 122,
    "start_time": "2022-10-19T14:37:08.314Z"
   },
   {
    "duration": 30,
    "start_time": "2022-10-19T14:37:15.477Z"
   },
   {
    "duration": 1203,
    "start_time": "2022-10-19T14:55:24.656Z"
   },
   {
    "duration": 12,
    "start_time": "2022-10-19T14:56:48.109Z"
   },
   {
    "duration": 3,
    "start_time": "2022-10-19T15:00:51.464Z"
   },
   {
    "duration": 5,
    "start_time": "2022-10-19T15:02:02.798Z"
   },
   {
    "duration": 6,
    "start_time": "2022-10-19T15:02:13.822Z"
   },
   {
    "duration": 4,
    "start_time": "2022-10-19T15:02:54.809Z"
   },
   {
    "duration": 5,
    "start_time": "2022-10-19T15:05:30.081Z"
   },
   {
    "duration": 6,
    "start_time": "2022-10-19T15:05:32.087Z"
   },
   {
    "duration": 5,
    "start_time": "2022-10-19T15:05:33.068Z"
   },
   {
    "duration": 5,
    "start_time": "2022-10-19T15:10:52.604Z"
   },
   {
    "duration": 10,
    "start_time": "2022-10-19T15:18:25.232Z"
   },
   {
    "duration": 9,
    "start_time": "2022-10-19T15:18:34.533Z"
   },
   {
    "duration": 4,
    "start_time": "2022-10-19T15:19:05.005Z"
   },
   {
    "duration": 8,
    "start_time": "2022-10-19T15:21:10.194Z"
   },
   {
    "duration": 5,
    "start_time": "2022-10-19T15:21:12.958Z"
   },
   {
    "duration": 5,
    "start_time": "2022-10-19T15:21:21.258Z"
   },
   {
    "duration": 6,
    "start_time": "2022-10-19T15:22:43.774Z"
   },
   {
    "duration": 54,
    "start_time": "2022-10-19T19:47:18.977Z"
   },
   {
    "duration": 1015,
    "start_time": "2022-10-19T19:47:29.235Z"
   },
   {
    "duration": 416,
    "start_time": "2022-10-19T19:47:30.252Z"
   },
   {
    "duration": 1388,
    "start_time": "2022-10-19T19:47:30.670Z"
   },
   {
    "duration": 18,
    "start_time": "2022-10-19T19:47:32.060Z"
   },
   {
    "duration": 22,
    "start_time": "2022-10-19T19:47:32.079Z"
   },
   {
    "duration": 35,
    "start_time": "2022-10-19T19:47:32.103Z"
   },
   {
    "duration": 15,
    "start_time": "2022-10-19T19:47:32.139Z"
   },
   {
    "duration": 106,
    "start_time": "2022-10-19T19:47:32.156Z"
   },
   {
    "duration": 114,
    "start_time": "2022-10-19T19:47:32.264Z"
   },
   {
    "duration": 18,
    "start_time": "2022-10-19T19:47:32.381Z"
   },
   {
    "duration": 9,
    "start_time": "2022-10-19T19:47:32.401Z"
   },
   {
    "duration": 5,
    "start_time": "2022-10-19T19:47:32.422Z"
   },
   {
    "duration": 8,
    "start_time": "2022-10-19T19:47:32.428Z"
   },
   {
    "duration": 10,
    "start_time": "2022-10-19T19:47:32.438Z"
   },
   {
    "duration": 17,
    "start_time": "2022-10-19T19:47:35.058Z"
   },
   {
    "duration": 17,
    "start_time": "2022-10-19T19:47:51.566Z"
   },
   {
    "duration": 77,
    "start_time": "2022-10-19T19:48:06.716Z"
   },
   {
    "duration": 15,
    "start_time": "2022-10-19T19:48:23.017Z"
   },
   {
    "duration": 13,
    "start_time": "2022-10-19T19:48:34.478Z"
   },
   {
    "duration": 9,
    "start_time": "2022-10-19T19:49:25.633Z"
   },
   {
    "duration": 9,
    "start_time": "2022-10-19T19:50:21.146Z"
   },
   {
    "duration": 12,
    "start_time": "2022-10-19T19:51:37.455Z"
   },
   {
    "duration": 16,
    "start_time": "2022-10-19T19:53:46.394Z"
   },
   {
    "duration": 15,
    "start_time": "2022-10-19T19:54:25.066Z"
   },
   {
    "duration": 1005,
    "start_time": "2022-10-21T09:48:38.758Z"
   },
   {
    "duration": 432,
    "start_time": "2022-10-21T09:48:39.764Z"
   },
   {
    "duration": 1464,
    "start_time": "2022-10-21T09:48:40.198Z"
   },
   {
    "duration": 17,
    "start_time": "2022-10-21T09:48:41.664Z"
   },
   {
    "duration": 41,
    "start_time": "2022-10-21T09:48:41.683Z"
   },
   {
    "duration": 31,
    "start_time": "2022-10-21T09:48:41.726Z"
   },
   {
    "duration": 48,
    "start_time": "2022-10-21T09:48:41.758Z"
   },
   {
    "duration": 126,
    "start_time": "2022-10-21T09:48:41.808Z"
   },
   {
    "duration": 127,
    "start_time": "2022-10-21T09:48:41.936Z"
   },
   {
    "duration": 24,
    "start_time": "2022-10-21T09:48:42.066Z"
   },
   {
    "duration": 14,
    "start_time": "2022-10-21T09:48:42.092Z"
   },
   {
    "duration": 37,
    "start_time": "2022-10-21T09:48:42.108Z"
   },
   {
    "duration": 27,
    "start_time": "2022-10-21T09:48:42.148Z"
   },
   {
    "duration": 43,
    "start_time": "2022-10-21T09:48:42.177Z"
   },
   {
    "duration": 48,
    "start_time": "2022-10-21T09:48:42.221Z"
   },
   {
    "duration": 24,
    "start_time": "2022-10-21T09:48:42.270Z"
   },
   {
    "duration": 27,
    "start_time": "2022-10-21T09:48:42.296Z"
   },
   {
    "duration": 27,
    "start_time": "2022-10-21T09:48:42.324Z"
   },
   {
    "duration": 4,
    "start_time": "2022-10-21T09:49:01.719Z"
   },
   {
    "duration": 8,
    "start_time": "2022-10-21T09:50:00.194Z"
   },
   {
    "duration": 9,
    "start_time": "2022-10-21T09:50:00.662Z"
   },
   {
    "duration": 4,
    "start_time": "2022-10-21T09:50:16.697Z"
   },
   {
    "duration": 7,
    "start_time": "2022-10-21T09:52:06.368Z"
   },
   {
    "duration": 4,
    "start_time": "2022-10-21T09:52:12.706Z"
   },
   {
    "duration": 4,
    "start_time": "2022-10-21T09:53:52.307Z"
   },
   {
    "duration": 18,
    "start_time": "2022-10-21T09:58:13.670Z"
   },
   {
    "duration": 109,
    "start_time": "2022-10-21T10:53:50.346Z"
   },
   {
    "duration": 7,
    "start_time": "2022-10-21T10:54:21.829Z"
   },
   {
    "duration": 4,
    "start_time": "2022-10-21T10:54:44.392Z"
   },
   {
    "duration": 4,
    "start_time": "2022-10-21T10:55:28.585Z"
   },
   {
    "duration": 8,
    "start_time": "2022-10-21T10:56:59.789Z"
   },
   {
    "duration": 3,
    "start_time": "2022-10-21T10:57:06.091Z"
   },
   {
    "duration": 3,
    "start_time": "2022-10-21T10:57:16.137Z"
   },
   {
    "duration": 10,
    "start_time": "2022-10-21T10:57:18.584Z"
   },
   {
    "duration": 11,
    "start_time": "2022-10-21T11:07:49.480Z"
   },
   {
    "duration": 10,
    "start_time": "2022-10-21T11:07:50.256Z"
   },
   {
    "duration": 14,
    "start_time": "2022-10-21T11:09:28.956Z"
   },
   {
    "duration": 9,
    "start_time": "2022-10-21T11:09:33.596Z"
   },
   {
    "duration": 6,
    "start_time": "2022-10-21T11:09:42.480Z"
   },
   {
    "duration": 8,
    "start_time": "2022-10-21T11:19:57.290Z"
   },
   {
    "duration": 11,
    "start_time": "2022-10-21T11:20:04.702Z"
   },
   {
    "duration": 5,
    "start_time": "2022-10-21T11:21:02.085Z"
   },
   {
    "duration": 5,
    "start_time": "2022-10-21T11:21:09.341Z"
   },
   {
    "duration": 128,
    "start_time": "2022-10-21T11:21:41.307Z"
   },
   {
    "duration": 113,
    "start_time": "2022-10-21T11:22:42.120Z"
   },
   {
    "duration": 9,
    "start_time": "2022-10-21T11:26:17.539Z"
   },
   {
    "duration": 11,
    "start_time": "2022-10-21T11:26:43.477Z"
   },
   {
    "duration": 4,
    "start_time": "2022-10-21T11:26:46.864Z"
   },
   {
    "duration": 4,
    "start_time": "2022-10-21T11:28:39.601Z"
   },
   {
    "duration": 3,
    "start_time": "2022-10-21T11:28:42.587Z"
   },
   {
    "duration": 5,
    "start_time": "2022-10-21T11:53:56.695Z"
   },
   {
    "duration": 5,
    "start_time": "2022-10-21T11:54:18.045Z"
   },
   {
    "duration": 8,
    "start_time": "2022-10-21T11:56:41.616Z"
   },
   {
    "duration": 5,
    "start_time": "2022-10-21T11:56:57.744Z"
   },
   {
    "duration": 7,
    "start_time": "2022-10-21T11:57:39.977Z"
   },
   {
    "duration": 12,
    "start_time": "2022-10-21T11:57:57.801Z"
   },
   {
    "duration": 3,
    "start_time": "2022-10-21T12:23:56.679Z"
   },
   {
    "duration": 6,
    "start_time": "2022-10-21T12:33:42.335Z"
   },
   {
    "duration": 109,
    "start_time": "2022-10-21T12:34:30.036Z"
   },
   {
    "duration": 185,
    "start_time": "2022-10-21T12:35:15.453Z"
   },
   {
    "duration": 105,
    "start_time": "2022-10-21T12:37:10.826Z"
   },
   {
    "duration": 13,
    "start_time": "2022-10-21T12:44:27.506Z"
   },
   {
    "duration": 91,
    "start_time": "2022-10-21T12:45:15.258Z"
   },
   {
    "duration": 8,
    "start_time": "2022-10-21T12:45:33.381Z"
   },
   {
    "duration": 6,
    "start_time": "2022-10-21T12:45:51.149Z"
   },
   {
    "duration": 7,
    "start_time": "2022-10-21T12:45:57.434Z"
   },
   {
    "duration": 6,
    "start_time": "2022-10-21T13:38:34.459Z"
   },
   {
    "duration": 5,
    "start_time": "2022-10-21T13:38:39.533Z"
   },
   {
    "duration": 10,
    "start_time": "2022-10-21T13:42:46.638Z"
   },
   {
    "duration": 5,
    "start_time": "2022-10-21T13:42:55.942Z"
   },
   {
    "duration": 6,
    "start_time": "2022-10-21T13:43:00.589Z"
   },
   {
    "duration": 95,
    "start_time": "2022-10-21T13:43:30.987Z"
   },
   {
    "duration": 89,
    "start_time": "2022-10-21T13:44:26.576Z"
   },
   {
    "duration": 113,
    "start_time": "2022-10-21T13:49:30.913Z"
   },
   {
    "duration": 3,
    "start_time": "2022-10-21T13:50:07.997Z"
   },
   {
    "duration": 125,
    "start_time": "2022-10-21T13:50:27.418Z"
   },
   {
    "duration": 113,
    "start_time": "2022-10-21T13:51:03.604Z"
   },
   {
    "duration": 114,
    "start_time": "2022-10-21T13:51:54.280Z"
   },
   {
    "duration": 278,
    "start_time": "2022-10-21T13:53:04.070Z"
   },
   {
    "duration": 351,
    "start_time": "2022-10-21T13:59:06.544Z"
   },
   {
    "duration": 295,
    "start_time": "2022-10-21T14:01:16.281Z"
   },
   {
    "duration": 116,
    "start_time": "2022-10-21T14:01:47.393Z"
   },
   {
    "duration": 105,
    "start_time": "2022-10-21T14:02:19.726Z"
   },
   {
    "duration": 110,
    "start_time": "2022-10-21T14:02:30.893Z"
   },
   {
    "duration": 341,
    "start_time": "2022-10-21T14:02:41.562Z"
   },
   {
    "duration": 281,
    "start_time": "2022-10-21T14:02:49.529Z"
   },
   {
    "duration": 298,
    "start_time": "2022-10-21T14:02:57.696Z"
   },
   {
    "duration": 189,
    "start_time": "2022-10-21T14:03:12.204Z"
   },
   {
    "duration": 296,
    "start_time": "2022-10-21T14:03:20.864Z"
   },
   {
    "duration": 102,
    "start_time": "2022-10-21T14:07:04.287Z"
   },
   {
    "duration": 119,
    "start_time": "2022-10-21T14:07:41.188Z"
   },
   {
    "duration": 85,
    "start_time": "2022-10-21T14:08:15.285Z"
   },
   {
    "duration": 285,
    "start_time": "2022-10-21T14:13:21.818Z"
   },
   {
    "duration": 270,
    "start_time": "2022-10-21T14:13:27.098Z"
   },
   {
    "duration": 273,
    "start_time": "2022-10-21T14:13:31.785Z"
   },
   {
    "duration": 9,
    "start_time": "2022-10-21T14:18:38.462Z"
   },
   {
    "duration": 9,
    "start_time": "2022-10-21T14:18:57.145Z"
   },
   {
    "duration": 17,
    "start_time": "2022-10-21T14:19:15.656Z"
   },
   {
    "duration": 369,
    "start_time": "2022-10-21T14:22:22.944Z"
   },
   {
    "duration": 294,
    "start_time": "2022-10-21T14:22:56.385Z"
   },
   {
    "duration": 295,
    "start_time": "2022-10-21T14:23:36.801Z"
   },
   {
    "duration": 316,
    "start_time": "2022-10-21T14:30:09.203Z"
   },
   {
    "duration": 299,
    "start_time": "2022-10-21T14:30:34.585Z"
   },
   {
    "duration": 401,
    "start_time": "2022-10-21T14:30:37.983Z"
   },
   {
    "duration": 142,
    "start_time": "2022-10-21T15:03:16.536Z"
   },
   {
    "duration": 153,
    "start_time": "2022-10-21T15:03:32.349Z"
   },
   {
    "duration": 145,
    "start_time": "2022-10-21T15:04:10.457Z"
   },
   {
    "duration": 302,
    "start_time": "2022-10-21T15:10:01.113Z"
   },
   {
    "duration": 151,
    "start_time": "2022-10-21T15:12:09.548Z"
   },
   {
    "duration": 309,
    "start_time": "2022-10-21T15:12:25.213Z"
   },
   {
    "duration": 397,
    "start_time": "2022-10-21T15:13:09.965Z"
   },
   {
    "duration": 322,
    "start_time": "2022-10-21T15:14:14.097Z"
   },
   {
    "duration": 8,
    "start_time": "2022-10-21T15:15:11.184Z"
   },
   {
    "duration": 8,
    "start_time": "2022-10-21T15:15:24.132Z"
   },
   {
    "duration": 125,
    "start_time": "2022-10-21T16:44:18.132Z"
   },
   {
    "duration": 420,
    "start_time": "2022-10-21T16:45:14.545Z"
   },
   {
    "duration": 303,
    "start_time": "2022-10-21T16:46:04.914Z"
   },
   {
    "duration": 462,
    "start_time": "2022-10-21T17:00:24.127Z"
   },
   {
    "duration": 813,
    "start_time": "2022-10-21T17:00:50.366Z"
   },
   {
    "duration": 778,
    "start_time": "2022-10-21T17:02:32.452Z"
   },
   {
    "duration": 318,
    "start_time": "2022-10-21T17:03:58.459Z"
   },
   {
    "duration": 156,
    "start_time": "2022-10-21T17:08:28.072Z"
   },
   {
    "duration": 406,
    "start_time": "2022-10-21T17:08:48.494Z"
   },
   {
    "duration": 679,
    "start_time": "2022-10-21T17:09:49.757Z"
   },
   {
    "duration": 888,
    "start_time": "2022-10-21T17:13:50.246Z"
   },
   {
    "duration": 192,
    "start_time": "2022-10-21T17:15:55.099Z"
   },
   {
    "duration": 767,
    "start_time": "2022-10-21T17:16:14.188Z"
   },
   {
    "duration": 196,
    "start_time": "2022-10-21T17:17:01.199Z"
   },
   {
    "duration": 858,
    "start_time": "2022-10-21T17:17:31.977Z"
   },
   {
    "duration": 801,
    "start_time": "2022-10-21T17:18:20.644Z"
   },
   {
    "duration": 177,
    "start_time": "2022-10-21T17:25:48.223Z"
   },
   {
    "duration": 174,
    "start_time": "2022-10-21T17:26:10.023Z"
   },
   {
    "duration": 163,
    "start_time": "2022-10-21T17:26:23.530Z"
   },
   {
    "duration": 24,
    "start_time": "2022-10-21T17:27:01.245Z"
   },
   {
    "duration": 951,
    "start_time": "2022-10-21T17:28:01.762Z"
   },
   {
    "duration": 434,
    "start_time": "2022-10-21T17:28:46.851Z"
   },
   {
    "duration": 896,
    "start_time": "2022-10-21T17:33:56.616Z"
   },
   {
    "duration": 447,
    "start_time": "2022-10-21T17:35:18.247Z"
   },
   {
    "duration": 12,
    "start_time": "2022-10-21T17:35:21.442Z"
   },
   {
    "duration": 446,
    "start_time": "2022-10-21T17:35:26.115Z"
   },
   {
    "duration": 570,
    "start_time": "2022-10-21T17:35:35.386Z"
   },
   {
    "duration": 504,
    "start_time": "2022-10-21T17:35:46.810Z"
   },
   {
    "duration": 496,
    "start_time": "2022-10-21T17:35:56.945Z"
   },
   {
    "duration": 642,
    "start_time": "2022-10-21T17:36:22.663Z"
   },
   {
    "duration": 510,
    "start_time": "2022-10-21T17:36:27.069Z"
   },
   {
    "duration": 12,
    "start_time": "2022-10-21T17:44:34.715Z"
   },
   {
    "duration": 10,
    "start_time": "2022-10-21T17:44:47.525Z"
   },
   {
    "duration": 115,
    "start_time": "2022-10-21T17:48:31.149Z"
   },
   {
    "duration": 116,
    "start_time": "2022-10-21T17:48:56.140Z"
   },
   {
    "duration": 118,
    "start_time": "2022-10-21T17:49:28.518Z"
   },
   {
    "duration": 2137,
    "start_time": "2022-10-21T17:54:19.629Z"
   },
   {
    "duration": 2226,
    "start_time": "2022-10-21T17:54:41.097Z"
   },
   {
    "duration": 2036,
    "start_time": "2022-10-21T17:55:18.304Z"
   },
   {
    "duration": 33,
    "start_time": "2022-10-21T18:01:53.578Z"
   },
   {
    "duration": 25,
    "start_time": "2022-10-21T18:02:38.329Z"
   },
   {
    "duration": 2189,
    "start_time": "2022-10-21T18:04:09.253Z"
   },
   {
    "duration": 2133,
    "start_time": "2022-10-21T18:06:14.318Z"
   },
   {
    "duration": 2079,
    "start_time": "2022-10-21T18:06:34.295Z"
   },
   {
    "duration": 246,
    "start_time": "2022-10-21T18:10:44.516Z"
   },
   {
    "duration": 123,
    "start_time": "2022-10-21T18:11:48.407Z"
   },
   {
    "duration": 121,
    "start_time": "2022-10-21T18:12:06.559Z"
   },
   {
    "duration": 126,
    "start_time": "2022-10-21T18:12:13.358Z"
   },
   {
    "duration": 120,
    "start_time": "2022-10-21T18:13:08.560Z"
   },
   {
    "duration": 14,
    "start_time": "2022-10-21T18:14:16.090Z"
   },
   {
    "duration": 37,
    "start_time": "2022-10-21T20:29:19.115Z"
   },
   {
    "duration": 5,
    "start_time": "2022-10-21T20:30:23.189Z"
   },
   {
    "duration": 5,
    "start_time": "2022-10-21T20:30:56.088Z"
   },
   {
    "duration": 7,
    "start_time": "2022-10-21T20:31:58.969Z"
   },
   {
    "duration": 23,
    "start_time": "2022-10-21T20:40:10.816Z"
   },
   {
    "duration": 5,
    "start_time": "2022-10-21T20:45:02.191Z"
   },
   {
    "duration": 7,
    "start_time": "2022-10-21T20:45:21.110Z"
   },
   {
    "duration": 7,
    "start_time": "2022-10-21T20:45:32.126Z"
   },
   {
    "duration": 787,
    "start_time": "2022-10-21T20:45:39.644Z"
   },
   {
    "duration": 8,
    "start_time": "2022-10-21T20:46:34.454Z"
   },
   {
    "duration": 4,
    "start_time": "2022-10-21T20:46:38.295Z"
   },
   {
    "duration": 3,
    "start_time": "2022-10-21T20:53:04.888Z"
   },
   {
    "duration": 3,
    "start_time": "2022-10-21T20:53:04.915Z"
   },
   {
    "duration": 692,
    "start_time": "2022-10-21T20:53:04.920Z"
   },
   {
    "duration": 19,
    "start_time": "2022-10-21T20:53:05.614Z"
   },
   {
    "duration": 21,
    "start_time": "2022-10-21T20:53:05.635Z"
   },
   {
    "duration": 19,
    "start_time": "2022-10-21T20:53:05.659Z"
   },
   {
    "duration": 14,
    "start_time": "2022-10-21T20:53:05.680Z"
   },
   {
    "duration": 109,
    "start_time": "2022-10-21T20:53:05.695Z"
   },
   {
    "duration": 119,
    "start_time": "2022-10-21T20:53:05.806Z"
   },
   {
    "duration": 19,
    "start_time": "2022-10-21T20:53:05.927Z"
   },
   {
    "duration": 6,
    "start_time": "2022-10-21T20:53:05.948Z"
   },
   {
    "duration": 12,
    "start_time": "2022-10-21T20:53:05.955Z"
   },
   {
    "duration": 13,
    "start_time": "2022-10-21T20:53:05.969Z"
   },
   {
    "duration": 12,
    "start_time": "2022-10-21T20:53:05.984Z"
   },
   {
    "duration": 5,
    "start_time": "2022-10-21T20:53:05.999Z"
   },
   {
    "duration": 17,
    "start_time": "2022-10-21T20:53:06.005Z"
   },
   {
    "duration": 3,
    "start_time": "2022-10-21T20:53:06.024Z"
   },
   {
    "duration": 19,
    "start_time": "2022-10-21T20:53:06.028Z"
   },
   {
    "duration": 15,
    "start_time": "2022-10-21T20:53:06.048Z"
   },
   {
    "duration": 4,
    "start_time": "2022-10-21T20:53:06.065Z"
   },
   {
    "duration": 14,
    "start_time": "2022-10-21T20:53:06.070Z"
   },
   {
    "duration": 42,
    "start_time": "2022-10-21T20:53:06.085Z"
   },
   {
    "duration": 6,
    "start_time": "2022-10-21T20:53:06.129Z"
   },
   {
    "duration": 33,
    "start_time": "2022-10-21T20:53:06.136Z"
   },
   {
    "duration": 3,
    "start_time": "2022-10-21T20:53:06.171Z"
   },
   {
    "duration": 10,
    "start_time": "2022-10-21T20:53:06.175Z"
   },
   {
    "duration": 4,
    "start_time": "2022-10-21T20:53:06.186Z"
   },
   {
    "duration": 9,
    "start_time": "2022-10-21T20:53:06.192Z"
   },
   {
    "duration": 5,
    "start_time": "2022-10-21T20:53:06.202Z"
   },
   {
    "duration": 15,
    "start_time": "2022-10-21T20:53:06.208Z"
   },
   {
    "duration": 6,
    "start_time": "2022-10-21T20:53:06.224Z"
   },
   {
    "duration": 7,
    "start_time": "2022-10-21T20:53:06.232Z"
   },
   {
    "duration": 9,
    "start_time": "2022-10-21T20:53:06.240Z"
   },
   {
    "duration": 2027,
    "start_time": "2022-10-21T20:53:06.250Z"
   },
   {
    "duration": 49,
    "start_time": "2022-10-21T20:53:08.279Z"
   },
   {
    "duration": 0,
    "start_time": "2022-10-21T20:53:08.329Z"
   },
   {
    "duration": 0,
    "start_time": "2022-10-21T20:53:08.331Z"
   },
   {
    "duration": 0,
    "start_time": "2022-10-21T20:53:08.332Z"
   },
   {
    "duration": 0,
    "start_time": "2022-10-21T20:53:08.333Z"
   },
   {
    "duration": 0,
    "start_time": "2022-10-21T20:53:08.334Z"
   },
   {
    "duration": 0,
    "start_time": "2022-10-21T20:53:08.335Z"
   },
   {
    "duration": 0,
    "start_time": "2022-10-21T20:53:08.336Z"
   },
   {
    "duration": 0,
    "start_time": "2022-10-21T20:53:08.337Z"
   },
   {
    "duration": 0,
    "start_time": "2022-10-21T20:53:08.338Z"
   },
   {
    "duration": 0,
    "start_time": "2022-10-21T20:53:08.339Z"
   },
   {
    "duration": 0,
    "start_time": "2022-10-21T20:53:08.341Z"
   },
   {
    "duration": 0,
    "start_time": "2022-10-21T20:53:08.342Z"
   },
   {
    "duration": 5,
    "start_time": "2022-10-21T20:53:21.931Z"
   },
   {
    "duration": 4,
    "start_time": "2022-10-21T20:53:24.771Z"
   },
   {
    "duration": 6,
    "start_time": "2022-10-21T20:53:27.428Z"
   },
   {
    "duration": 10,
    "start_time": "2022-10-21T21:02:09.847Z"
   },
   {
    "duration": 3,
    "start_time": "2022-10-21T21:02:59.335Z"
   },
   {
    "duration": 136,
    "start_time": "2022-10-21T21:03:26.029Z"
   },
   {
    "duration": 2,
    "start_time": "2022-10-21T21:03:46.437Z"
   },
   {
    "duration": 8,
    "start_time": "2022-10-21T21:03:46.441Z"
   },
   {
    "duration": 643,
    "start_time": "2022-10-21T21:03:46.450Z"
   },
   {
    "duration": 16,
    "start_time": "2022-10-21T21:03:47.095Z"
   },
   {
    "duration": 25,
    "start_time": "2022-10-21T21:03:47.112Z"
   },
   {
    "duration": 18,
    "start_time": "2022-10-21T21:03:47.138Z"
   },
   {
    "duration": 10,
    "start_time": "2022-10-21T21:03:47.158Z"
   },
   {
    "duration": 99,
    "start_time": "2022-10-21T21:03:47.169Z"
   },
   {
    "duration": 111,
    "start_time": "2022-10-21T21:03:47.270Z"
   },
   {
    "duration": 18,
    "start_time": "2022-10-21T21:03:47.383Z"
   },
   {
    "duration": 4,
    "start_time": "2022-10-21T21:03:47.403Z"
   },
   {
    "duration": 15,
    "start_time": "2022-10-21T21:03:47.409Z"
   },
   {
    "duration": 11,
    "start_time": "2022-10-21T21:03:47.426Z"
   },
   {
    "duration": 12,
    "start_time": "2022-10-21T21:03:47.438Z"
   },
   {
    "duration": 4,
    "start_time": "2022-10-21T21:03:47.451Z"
   },
   {
    "duration": 23,
    "start_time": "2022-10-21T21:03:47.457Z"
   },
   {
    "duration": 21,
    "start_time": "2022-10-21T21:03:47.481Z"
   },
   {
    "duration": 28,
    "start_time": "2022-10-21T21:03:47.504Z"
   },
   {
    "duration": 16,
    "start_time": "2022-10-21T21:03:47.534Z"
   },
   {
    "duration": 5,
    "start_time": "2022-10-21T21:03:47.552Z"
   },
   {
    "duration": 21,
    "start_time": "2022-10-21T21:03:47.559Z"
   },
   {
    "duration": 10,
    "start_time": "2022-10-21T21:03:47.581Z"
   },
   {
    "duration": 5,
    "start_time": "2022-10-21T21:03:47.592Z"
   },
   {
    "duration": 5,
    "start_time": "2022-10-21T21:03:49.068Z"
   },
   {
    "duration": 1650,
    "start_time": "2022-10-21T21:03:49.487Z"
   },
   {
    "duration": 4,
    "start_time": "2022-10-21T21:04:06.088Z"
   },
   {
    "duration": 1600,
    "start_time": "2022-10-21T21:04:06.406Z"
   },
   {
    "duration": 4,
    "start_time": "2022-10-21T21:04:20.048Z"
   },
   {
    "duration": 1669,
    "start_time": "2022-10-21T21:04:20.615Z"
   },
   {
    "duration": 4,
    "start_time": "2022-10-21T21:04:36.998Z"
   },
   {
    "duration": 1770,
    "start_time": "2022-10-21T21:04:37.279Z"
   },
   {
    "duration": 4,
    "start_time": "2022-10-21T21:05:02.608Z"
   },
   {
    "duration": 1793,
    "start_time": "2022-10-21T21:05:02.959Z"
   },
   {
    "duration": 4,
    "start_time": "2022-10-21T21:05:47.918Z"
   },
   {
    "duration": 1697,
    "start_time": "2022-10-21T21:05:48.329Z"
   },
   {
    "duration": 3,
    "start_time": "2022-10-21T21:07:34.328Z"
   },
   {
    "duration": 461,
    "start_time": "2022-10-21T21:07:34.715Z"
   },
   {
    "duration": 3,
    "start_time": "2022-10-21T21:08:05.807Z"
   },
   {
    "duration": 161,
    "start_time": "2022-10-21T21:08:06.127Z"
   },
   {
    "duration": 4,
    "start_time": "2022-10-21T21:09:04.270Z"
   },
   {
    "duration": 163,
    "start_time": "2022-10-21T21:09:04.638Z"
   },
   {
    "duration": 722,
    "start_time": "2022-10-21T21:17:06.776Z"
   },
   {
    "duration": 16,
    "start_time": "2022-10-21T21:17:41.596Z"
   },
   {
    "duration": 14,
    "start_time": "2022-10-21T21:18:55.712Z"
   },
   {
    "duration": 9,
    "start_time": "2022-10-21T21:20:36.132Z"
   },
   {
    "duration": 225,
    "start_time": "2022-10-21T21:20:44.678Z"
   },
   {
    "duration": 244,
    "start_time": "2022-10-21T21:21:11.427Z"
   },
   {
    "duration": 233,
    "start_time": "2022-10-21T21:21:42.926Z"
   },
   {
    "duration": 239,
    "start_time": "2022-10-21T21:23:00.158Z"
   },
   {
    "duration": 233,
    "start_time": "2022-10-21T21:23:04.167Z"
   },
   {
    "duration": 238,
    "start_time": "2022-10-21T21:23:11.919Z"
   },
   {
    "duration": 223,
    "start_time": "2022-10-21T21:23:17.828Z"
   },
   {
    "duration": 231,
    "start_time": "2022-10-21T21:23:29.817Z"
   },
   {
    "duration": 226,
    "start_time": "2022-10-21T21:25:04.816Z"
   },
   {
    "duration": 254,
    "start_time": "2022-10-21T21:25:18.236Z"
   },
   {
    "duration": 8,
    "start_time": "2022-10-21T21:37:57.857Z"
   },
   {
    "duration": 5,
    "start_time": "2022-10-21T21:38:30.487Z"
   },
   {
    "duration": 224,
    "start_time": "2022-10-21T21:38:44.207Z"
   },
   {
    "duration": 10,
    "start_time": "2022-10-21T21:41:58.992Z"
   },
   {
    "duration": 8,
    "start_time": "2022-10-21T21:42:26.553Z"
   },
   {
    "duration": 3,
    "start_time": "2022-10-21T21:42:41.116Z"
   },
   {
    "duration": 5,
    "start_time": "2022-10-21T21:42:41.121Z"
   },
   {
    "duration": 652,
    "start_time": "2022-10-21T21:42:41.127Z"
   },
   {
    "duration": 16,
    "start_time": "2022-10-21T21:42:41.780Z"
   },
   {
    "duration": 29,
    "start_time": "2022-10-21T21:42:41.798Z"
   },
   {
    "duration": 16,
    "start_time": "2022-10-21T21:42:41.829Z"
   },
   {
    "duration": 12,
    "start_time": "2022-10-21T21:42:41.846Z"
   },
   {
    "duration": 97,
    "start_time": "2022-10-21T21:42:41.859Z"
   },
   {
    "duration": 113,
    "start_time": "2022-10-21T21:42:41.957Z"
   },
   {
    "duration": 20,
    "start_time": "2022-10-21T21:42:42.071Z"
   },
   {
    "duration": 4,
    "start_time": "2022-10-21T21:42:42.092Z"
   },
   {
    "duration": 9,
    "start_time": "2022-10-21T21:42:42.098Z"
   },
   {
    "duration": 15,
    "start_time": "2022-10-21T21:42:42.109Z"
   },
   {
    "duration": 8,
    "start_time": "2022-10-21T21:42:42.126Z"
   },
   {
    "duration": 4,
    "start_time": "2022-10-21T21:42:42.136Z"
   },
   {
    "duration": 7,
    "start_time": "2022-10-21T21:42:42.142Z"
   },
   {
    "duration": 5,
    "start_time": "2022-10-21T21:42:42.150Z"
   },
   {
    "duration": 17,
    "start_time": "2022-10-21T21:42:42.157Z"
   },
   {
    "duration": 13,
    "start_time": "2022-10-21T21:42:42.176Z"
   },
   {
    "duration": 4,
    "start_time": "2022-10-21T21:42:42.190Z"
   },
   {
    "duration": 10,
    "start_time": "2022-10-21T21:42:42.222Z"
   },
   {
    "duration": 11,
    "start_time": "2022-10-21T21:42:42.233Z"
   },
   {
    "duration": 7,
    "start_time": "2022-10-21T21:42:42.246Z"
   },
   {
    "duration": 233,
    "start_time": "2022-10-21T21:44:02.439Z"
   },
   {
    "duration": 4,
    "start_time": "2022-10-21T21:44:59.447Z"
   },
   {
    "duration": 15,
    "start_time": "2022-10-21T21:45:39.449Z"
   },
   {
    "duration": 227,
    "start_time": "2022-10-21T21:47:59.488Z"
   },
   {
    "duration": 4,
    "start_time": "2022-10-21T21:52:22.696Z"
   },
   {
    "duration": 225,
    "start_time": "2022-10-21T21:52:32.636Z"
   },
   {
    "duration": 16,
    "start_time": "2022-10-21T21:53:18.159Z"
   },
   {
    "duration": 223,
    "start_time": "2022-10-21T21:54:43.297Z"
   },
   {
    "duration": 222,
    "start_time": "2022-10-21T21:55:22.462Z"
   },
   {
    "duration": 849,
    "start_time": "2022-10-21T21:57:29.924Z"
   },
   {
    "duration": 5,
    "start_time": "2022-10-21T21:57:46.303Z"
   },
   {
    "duration": 230,
    "start_time": "2022-10-21T21:57:56.183Z"
   },
   {
    "duration": 227,
    "start_time": "2022-10-21T21:58:18.481Z"
   },
   {
    "duration": 11,
    "start_time": "2022-10-21T21:58:28.123Z"
   },
   {
    "duration": 226,
    "start_time": "2022-10-21T22:00:50.399Z"
   },
   {
    "duration": 224,
    "start_time": "2022-10-21T22:01:05.150Z"
   },
   {
    "duration": 235,
    "start_time": "2022-10-21T22:03:01.702Z"
   },
   {
    "duration": 10,
    "start_time": "2022-10-21T22:04:54.243Z"
   },
   {
    "duration": 3,
    "start_time": "2022-10-21T22:04:55.066Z"
   },
   {
    "duration": 1601,
    "start_time": "2022-10-23T10:23:54.182Z"
   },
   {
    "duration": 58,
    "start_time": "2022-10-23T10:23:55.785Z"
   },
   {
    "duration": 1501,
    "start_time": "2022-10-23T10:23:55.844Z"
   },
   {
    "duration": 21,
    "start_time": "2022-10-23T10:23:57.347Z"
   },
   {
    "duration": 26,
    "start_time": "2022-10-23T10:23:57.371Z"
   },
   {
    "duration": 23,
    "start_time": "2022-10-23T10:23:57.399Z"
   },
   {
    "duration": 37,
    "start_time": "2022-10-23T10:23:57.424Z"
   },
   {
    "duration": 115,
    "start_time": "2022-10-23T10:23:57.463Z"
   },
   {
    "duration": 132,
    "start_time": "2022-10-23T10:23:57.579Z"
   },
   {
    "duration": 23,
    "start_time": "2022-10-23T10:23:57.712Z"
   },
   {
    "duration": 22,
    "start_time": "2022-10-23T10:23:57.736Z"
   },
   {
    "duration": 9,
    "start_time": "2022-10-23T10:23:57.760Z"
   },
   {
    "duration": 6,
    "start_time": "2022-10-23T10:23:57.771Z"
   },
   {
    "duration": 12,
    "start_time": "2022-10-23T10:23:57.780Z"
   },
   {
    "duration": 15,
    "start_time": "2022-10-23T10:23:57.804Z"
   },
   {
    "duration": 8,
    "start_time": "2022-10-23T10:23:57.824Z"
   },
   {
    "duration": 7,
    "start_time": "2022-10-23T10:23:57.834Z"
   },
   {
    "duration": 22,
    "start_time": "2022-10-23T10:23:57.843Z"
   },
   {
    "duration": 19,
    "start_time": "2022-10-23T10:23:57.866Z"
   },
   {
    "duration": 4,
    "start_time": "2022-10-23T10:23:57.886Z"
   },
   {
    "duration": 18,
    "start_time": "2022-10-23T10:23:57.892Z"
   },
   {
    "duration": 13,
    "start_time": "2022-10-23T10:23:57.912Z"
   },
   {
    "duration": 36,
    "start_time": "2022-10-23T10:23:57.927Z"
   },
   {
    "duration": 283,
    "start_time": "2022-10-23T10:23:57.965Z"
   },
   {
    "duration": 6,
    "start_time": "2022-10-23T10:23:58.250Z"
   },
   {
    "duration": 282,
    "start_time": "2022-10-23T10:23:58.258Z"
   },
   {
    "duration": 18,
    "start_time": "2022-10-23T10:23:58.542Z"
   },
   {
    "duration": 292,
    "start_time": "2022-10-23T10:23:58.562Z"
   },
   {
    "duration": 4,
    "start_time": "2022-10-23T10:23:58.856Z"
   },
   {
    "duration": 288,
    "start_time": "2022-10-23T10:23:58.862Z"
   },
   {
    "duration": 271,
    "start_time": "2022-10-23T10:23:59.153Z"
   },
   {
    "duration": 5,
    "start_time": "2022-10-23T10:23:59.426Z"
   },
   {
    "duration": 283,
    "start_time": "2022-10-23T10:23:59.433Z"
   },
   {
    "duration": 13,
    "start_time": "2022-10-23T10:23:59.718Z"
   },
   {
    "duration": 25,
    "start_time": "2022-10-23T10:23:59.733Z"
   },
   {
    "duration": 4,
    "start_time": "2022-10-23T10:23:59.760Z"
   },
   {
    "duration": 14,
    "start_time": "2022-10-23T10:23:59.765Z"
   },
   {
    "duration": 5,
    "start_time": "2022-10-23T10:23:59.781Z"
   },
   {
    "duration": 15,
    "start_time": "2022-10-23T10:23:59.787Z"
   },
   {
    "duration": 8,
    "start_time": "2022-10-23T10:23:59.804Z"
   },
   {
    "duration": 10,
    "start_time": "2022-10-23T10:23:59.816Z"
   },
   {
    "duration": 37,
    "start_time": "2022-10-23T10:23:59.827Z"
   },
   {
    "duration": 9,
    "start_time": "2022-10-23T10:23:59.866Z"
   },
   {
    "duration": 15,
    "start_time": "2022-10-23T10:23:59.877Z"
   },
   {
    "duration": 2509,
    "start_time": "2022-10-23T10:23:59.894Z"
   },
   {
    "duration": 7,
    "start_time": "2022-10-23T10:24:09.964Z"
   },
   {
    "duration": 6,
    "start_time": "2022-10-23T10:24:44.849Z"
   },
   {
    "duration": 8,
    "start_time": "2022-10-23T10:27:18.803Z"
   },
   {
    "duration": 7,
    "start_time": "2022-10-23T10:27:34.213Z"
   },
   {
    "duration": 5,
    "start_time": "2022-10-23T10:27:35.234Z"
   },
   {
    "duration": 47,
    "start_time": "2022-10-23T10:27:57.239Z"
   },
   {
    "duration": 5,
    "start_time": "2022-10-23T10:28:11.993Z"
   },
   {
    "duration": 6,
    "start_time": "2022-10-23T10:33:22.603Z"
   },
   {
    "duration": 6,
    "start_time": "2022-10-23T10:33:28.714Z"
   },
   {
    "duration": 6,
    "start_time": "2022-10-23T10:34:11.719Z"
   },
   {
    "duration": 6,
    "start_time": "2022-10-23T10:34:13.133Z"
   },
   {
    "duration": 46,
    "start_time": "2022-10-23T10:38:40.293Z"
   },
   {
    "duration": 8,
    "start_time": "2022-10-23T10:38:59.462Z"
   },
   {
    "duration": 9,
    "start_time": "2022-10-23T10:39:22.080Z"
   },
   {
    "duration": 9,
    "start_time": "2022-10-23T10:39:30.273Z"
   },
   {
    "duration": 3,
    "start_time": "2022-10-23T10:40:25.105Z"
   },
   {
    "duration": 7,
    "start_time": "2022-10-23T10:40:25.113Z"
   },
   {
    "duration": 670,
    "start_time": "2022-10-23T10:40:25.122Z"
   },
   {
    "duration": 151,
    "start_time": "2022-10-23T10:40:25.795Z"
   },
   {
    "duration": 26,
    "start_time": "2022-10-23T10:40:25.947Z"
   },
   {
    "duration": 23,
    "start_time": "2022-10-23T10:40:25.975Z"
   },
   {
    "duration": 13,
    "start_time": "2022-10-23T10:40:25.999Z"
   },
   {
    "duration": 116,
    "start_time": "2022-10-23T10:40:26.013Z"
   },
   {
    "duration": 129,
    "start_time": "2022-10-23T10:40:26.131Z"
   },
   {
    "duration": 23,
    "start_time": "2022-10-23T10:40:26.262Z"
   },
   {
    "duration": 5,
    "start_time": "2022-10-23T10:40:26.286Z"
   },
   {
    "duration": 7,
    "start_time": "2022-10-23T10:40:26.293Z"
   },
   {
    "duration": 6,
    "start_time": "2022-10-23T10:40:26.302Z"
   },
   {
    "duration": 9,
    "start_time": "2022-10-23T10:40:29.631Z"
   },
   {
    "duration": 2207,
    "start_time": "2022-10-23T10:41:05.675Z"
   },
   {
    "duration": 11,
    "start_time": "2022-10-23T10:41:27.404Z"
   },
   {
    "duration": 20,
    "start_time": "2022-10-23T10:50:32.714Z"
   },
   {
    "duration": 22,
    "start_time": "2022-10-23T10:57:56.673Z"
   },
   {
    "duration": 3,
    "start_time": "2022-10-23T10:58:06.669Z"
   },
   {
    "duration": 4,
    "start_time": "2022-10-23T10:58:07.146Z"
   },
   {
    "duration": 641,
    "start_time": "2022-10-23T10:58:07.327Z"
   },
   {
    "duration": 18,
    "start_time": "2022-10-23T10:58:07.970Z"
   },
   {
    "duration": 48,
    "start_time": "2022-10-23T10:58:07.989Z"
   },
   {
    "duration": 34,
    "start_time": "2022-10-23T10:58:08.039Z"
   },
   {
    "duration": 13,
    "start_time": "2022-10-23T10:58:08.075Z"
   },
   {
    "duration": 101,
    "start_time": "2022-10-23T10:58:08.089Z"
   },
   {
    "duration": 125,
    "start_time": "2022-10-23T10:58:08.192Z"
   },
   {
    "duration": 22,
    "start_time": "2022-10-23T10:58:08.319Z"
   },
   {
    "duration": 6,
    "start_time": "2022-10-23T10:58:08.354Z"
   },
   {
    "duration": 8,
    "start_time": "2022-10-23T10:58:08.361Z"
   },
   {
    "duration": 8,
    "start_time": "2022-10-23T10:58:08.370Z"
   },
   {
    "duration": 10,
    "start_time": "2022-10-23T10:58:08.380Z"
   },
   {
    "duration": 8,
    "start_time": "2022-10-23T10:58:08.391Z"
   },
   {
    "duration": 9,
    "start_time": "2022-10-23T10:58:08.402Z"
   },
   {
    "duration": 13,
    "start_time": "2022-10-23T10:58:08.412Z"
   },
   {
    "duration": 37,
    "start_time": "2022-10-23T10:58:08.426Z"
   },
   {
    "duration": 17,
    "start_time": "2022-10-23T10:58:08.464Z"
   },
   {
    "duration": 4,
    "start_time": "2022-10-23T10:58:08.484Z"
   },
   {
    "duration": 18,
    "start_time": "2022-10-23T10:58:08.489Z"
   },
   {
    "duration": 14,
    "start_time": "2022-10-23T10:58:08.509Z"
   },
   {
    "duration": 10,
    "start_time": "2022-10-23T10:58:08.554Z"
   },
   {
    "duration": 275,
    "start_time": "2022-10-23T10:58:08.566Z"
   },
   {
    "duration": 11,
    "start_time": "2022-10-23T10:58:08.843Z"
   },
   {
    "duration": 255,
    "start_time": "2022-10-23T10:58:08.855Z"
   },
   {
    "duration": 12,
    "start_time": "2022-10-23T10:58:09.112Z"
   },
   {
    "duration": 270,
    "start_time": "2022-10-23T10:58:09.126Z"
   },
   {
    "duration": 5,
    "start_time": "2022-10-23T10:58:09.398Z"
   },
   {
    "duration": 267,
    "start_time": "2022-10-23T10:58:09.404Z"
   },
   {
    "duration": 259,
    "start_time": "2022-10-23T10:58:09.673Z"
   },
   {
    "duration": 5,
    "start_time": "2022-10-23T10:58:09.933Z"
   },
   {
    "duration": 266,
    "start_time": "2022-10-23T10:58:09.939Z"
   },
   {
    "duration": 12,
    "start_time": "2022-10-23T10:58:10.207Z"
   },
   {
    "duration": 12,
    "start_time": "2022-10-23T10:58:10.220Z"
   },
   {
    "duration": 3,
    "start_time": "2022-10-23T10:58:10.234Z"
   },
   {
    "duration": 8,
    "start_time": "2022-10-23T10:58:10.253Z"
   },
   {
    "duration": 4,
    "start_time": "2022-10-23T10:58:10.263Z"
   },
   {
    "duration": 10,
    "start_time": "2022-10-23T10:58:10.268Z"
   },
   {
    "duration": 5,
    "start_time": "2022-10-23T10:58:10.280Z"
   },
   {
    "duration": 9,
    "start_time": "2022-10-23T10:58:10.287Z"
   },
   {
    "duration": 15,
    "start_time": "2022-10-23T10:58:10.297Z"
   },
   {
    "duration": 23,
    "start_time": "2022-10-23T10:58:10.315Z"
   },
   {
    "duration": 20,
    "start_time": "2022-10-23T10:58:10.340Z"
   },
   {
    "duration": 2417,
    "start_time": "2022-10-23T10:58:10.361Z"
   },
   {
    "duration": 20,
    "start_time": "2022-10-23T10:58:14.136Z"
   },
   {
    "duration": 12,
    "start_time": "2022-10-23T11:00:07.396Z"
   },
   {
    "duration": 14,
    "start_time": "2022-10-23T11:00:54.133Z"
   },
   {
    "duration": 16,
    "start_time": "2022-10-23T11:02:06.233Z"
   },
   {
    "duration": 15,
    "start_time": "2022-10-23T11:02:14.212Z"
   },
   {
    "duration": 16,
    "start_time": "2022-10-23T11:03:14.655Z"
   },
   {
    "duration": 130,
    "start_time": "2022-10-23T11:05:38.648Z"
   },
   {
    "duration": 14,
    "start_time": "2022-10-23T11:05:42.162Z"
   },
   {
    "duration": 124,
    "start_time": "2022-10-23T11:05:45.441Z"
   },
   {
    "duration": 127,
    "start_time": "2022-10-23T11:06:00.688Z"
   },
   {
    "duration": 41,
    "start_time": "2022-10-23T11:07:17.102Z"
   },
   {
    "duration": 16,
    "start_time": "2022-10-23T11:10:14.124Z"
   },
   {
    "duration": 58,
    "start_time": "2022-10-23T11:12:10.430Z"
   },
   {
    "duration": 119,
    "start_time": "2022-10-23T11:12:56.651Z"
   },
   {
    "duration": 356,
    "start_time": "2022-10-23T11:20:38.129Z"
   },
   {
    "duration": 8,
    "start_time": "2022-10-23T11:20:38.832Z"
   },
   {
    "duration": 10,
    "start_time": "2022-10-23T11:20:39.719Z"
   },
   {
    "duration": 458,
    "start_time": "2022-10-23T11:21:04.868Z"
   },
   {
    "duration": 13,
    "start_time": "2022-10-23T11:22:44.873Z"
   },
   {
    "duration": 595,
    "start_time": "2022-10-23T11:22:49.554Z"
   },
   {
    "duration": 140,
    "start_time": "2022-10-23T11:26:07.483Z"
   },
   {
    "duration": 21,
    "start_time": "2022-10-23T11:27:59.047Z"
   },
   {
    "duration": 3,
    "start_time": "2022-10-23T11:31:13.122Z"
   },
   {
    "duration": 5,
    "start_time": "2022-10-23T11:31:13.139Z"
   },
   {
    "duration": 682,
    "start_time": "2022-10-23T11:31:13.146Z"
   },
   {
    "duration": 25,
    "start_time": "2022-10-23T11:31:13.830Z"
   },
   {
    "duration": 24,
    "start_time": "2022-10-23T11:31:13.857Z"
   },
   {
    "duration": 23,
    "start_time": "2022-10-23T11:31:13.883Z"
   },
   {
    "duration": 14,
    "start_time": "2022-10-23T11:31:13.907Z"
   },
   {
    "duration": 125,
    "start_time": "2022-10-23T11:31:13.923Z"
   },
   {
    "duration": 132,
    "start_time": "2022-10-23T11:31:14.049Z"
   },
   {
    "duration": 22,
    "start_time": "2022-10-23T11:31:14.183Z"
   },
   {
    "duration": 5,
    "start_time": "2022-10-23T11:31:14.207Z"
   },
   {
    "duration": 10,
    "start_time": "2022-10-23T11:31:14.214Z"
   },
   {
    "duration": 12,
    "start_time": "2022-10-23T11:31:14.225Z"
   },
   {
    "duration": 7,
    "start_time": "2022-10-23T11:31:14.254Z"
   },
   {
    "duration": 7,
    "start_time": "2022-10-23T11:31:14.262Z"
   },
   {
    "duration": 11,
    "start_time": "2022-10-23T11:31:14.270Z"
   },
   {
    "duration": 7,
    "start_time": "2022-10-23T11:31:14.283Z"
   },
   {
    "duration": 25,
    "start_time": "2022-10-23T11:31:14.291Z"
   },
   {
    "duration": 38,
    "start_time": "2022-10-23T11:31:14.318Z"
   },
   {
    "duration": 6,
    "start_time": "2022-10-23T11:31:14.358Z"
   },
   {
    "duration": 14,
    "start_time": "2022-10-23T11:31:14.366Z"
   },
   {
    "duration": 13,
    "start_time": "2022-10-23T11:31:14.382Z"
   },
   {
    "duration": 9,
    "start_time": "2022-10-23T11:31:14.397Z"
   },
   {
    "duration": 301,
    "start_time": "2022-10-23T11:31:14.408Z"
   },
   {
    "duration": 6,
    "start_time": "2022-10-23T11:31:14.711Z"
   },
   {
    "duration": 273,
    "start_time": "2022-10-23T11:31:14.719Z"
   },
   {
    "duration": 12,
    "start_time": "2022-10-23T11:31:14.994Z"
   },
   {
    "duration": 304,
    "start_time": "2022-10-23T11:31:15.008Z"
   },
   {
    "duration": 5,
    "start_time": "2022-10-23T11:31:15.314Z"
   },
   {
    "duration": 267,
    "start_time": "2022-10-23T11:31:15.322Z"
   },
   {
    "duration": 260,
    "start_time": "2022-10-23T11:31:15.592Z"
   },
   {
    "duration": 5,
    "start_time": "2022-10-23T11:31:15.854Z"
   },
   {
    "duration": 266,
    "start_time": "2022-10-23T11:31:15.861Z"
   },
   {
    "duration": 13,
    "start_time": "2022-10-23T11:31:16.128Z"
   },
   {
    "duration": 16,
    "start_time": "2022-10-23T11:31:16.143Z"
   },
   {
    "duration": 4,
    "start_time": "2022-10-23T11:31:16.161Z"
   },
   {
    "duration": 14,
    "start_time": "2022-10-23T11:31:16.166Z"
   },
   {
    "duration": 6,
    "start_time": "2022-10-23T11:31:16.182Z"
   },
   {
    "duration": 13,
    "start_time": "2022-10-23T11:31:16.189Z"
   },
   {
    "duration": 3,
    "start_time": "2022-10-23T11:31:16.204Z"
   },
   {
    "duration": 9,
    "start_time": "2022-10-23T11:31:16.209Z"
   },
   {
    "duration": 35,
    "start_time": "2022-10-23T11:31:16.220Z"
   },
   {
    "duration": 5,
    "start_time": "2022-10-23T11:31:16.257Z"
   },
   {
    "duration": 12,
    "start_time": "2022-10-23T11:31:16.264Z"
   },
   {
    "duration": 2431,
    "start_time": "2022-10-23T11:31:18.599Z"
   },
   {
    "duration": 772,
    "start_time": "2022-10-23T11:31:40.006Z"
   },
   {
    "duration": 32,
    "start_time": "2022-10-23T11:32:20.274Z"
   },
   {
    "duration": 355,
    "start_time": "2022-10-23T11:32:45.156Z"
   },
   {
    "duration": 9,
    "start_time": "2022-10-23T11:32:54.699Z"
   },
   {
    "duration": 9,
    "start_time": "2022-10-23T11:32:55.163Z"
   },
   {
    "duration": 16,
    "start_time": "2022-10-23T11:33:25.450Z"
   },
   {
    "duration": 599,
    "start_time": "2022-10-23T11:33:26.358Z"
   },
   {
    "duration": 131,
    "start_time": "2022-10-23T11:33:30.877Z"
   },
   {
    "duration": 21,
    "start_time": "2022-10-23T11:33:33.883Z"
   },
   {
    "duration": 572,
    "start_time": "2022-10-23T11:35:11.499Z"
   },
   {
    "duration": 596,
    "start_time": "2022-10-23T11:35:25.242Z"
   },
   {
    "duration": 8,
    "start_time": "2022-10-23T17:34:25.112Z"
   },
   {
    "duration": 1394,
    "start_time": "2022-10-23T17:34:31.116Z"
   },
   {
    "duration": 49,
    "start_time": "2022-10-23T17:34:32.512Z"
   },
   {
    "duration": 4393,
    "start_time": "2022-10-23T17:34:32.562Z"
   },
   {
    "duration": 27,
    "start_time": "2022-10-23T17:34:36.956Z"
   },
   {
    "duration": 21,
    "start_time": "2022-10-23T17:34:36.986Z"
   },
   {
    "duration": 16,
    "start_time": "2022-10-23T17:34:37.008Z"
   },
   {
    "duration": 10,
    "start_time": "2022-10-23T17:34:37.026Z"
   },
   {
    "duration": 95,
    "start_time": "2022-10-23T17:34:37.037Z"
   },
   {
    "duration": 116,
    "start_time": "2022-10-23T17:34:37.134Z"
   },
   {
    "duration": 18,
    "start_time": "2022-10-23T17:34:37.251Z"
   },
   {
    "duration": 6,
    "start_time": "2022-10-23T17:34:37.271Z"
   },
   {
    "duration": 6,
    "start_time": "2022-10-23T17:34:37.279Z"
   },
   {
    "duration": 5,
    "start_time": "2022-10-23T17:34:37.286Z"
   },
   {
    "duration": 30,
    "start_time": "2022-10-23T17:34:37.294Z"
   },
   {
    "duration": 5,
    "start_time": "2022-10-23T17:34:37.325Z"
   },
   {
    "duration": 8,
    "start_time": "2022-10-23T17:34:37.332Z"
   },
   {
    "duration": 11,
    "start_time": "2022-10-23T17:34:37.342Z"
   },
   {
    "duration": 19,
    "start_time": "2022-10-23T17:34:37.354Z"
   },
   {
    "duration": 20,
    "start_time": "2022-10-23T17:34:37.375Z"
   },
   {
    "duration": 3,
    "start_time": "2022-10-23T17:34:37.397Z"
   },
   {
    "duration": 25,
    "start_time": "2022-10-23T17:34:37.401Z"
   },
   {
    "duration": 11,
    "start_time": "2022-10-23T17:34:37.428Z"
   },
   {
    "duration": 8,
    "start_time": "2022-10-23T17:34:37.440Z"
   },
   {
    "duration": 258,
    "start_time": "2022-10-23T17:34:37.450Z"
   },
   {
    "duration": 12,
    "start_time": "2022-10-23T17:34:37.709Z"
   },
   {
    "duration": 252,
    "start_time": "2022-10-23T17:34:37.723Z"
   },
   {
    "duration": 11,
    "start_time": "2022-10-23T17:34:37.976Z"
   },
   {
    "duration": 243,
    "start_time": "2022-10-23T17:34:37.988Z"
   },
   {
    "duration": 4,
    "start_time": "2022-10-23T17:34:38.232Z"
   },
   {
    "duration": 228,
    "start_time": "2022-10-23T17:34:38.237Z"
   },
   {
    "duration": 235,
    "start_time": "2022-10-23T17:34:38.466Z"
   },
   {
    "duration": 4,
    "start_time": "2022-10-23T17:34:38.703Z"
   },
   {
    "duration": 251,
    "start_time": "2022-10-23T17:34:38.708Z"
   },
   {
    "duration": 10,
    "start_time": "2022-10-23T17:34:38.960Z"
   },
   {
    "duration": 10,
    "start_time": "2022-10-23T17:34:38.971Z"
   },
   {
    "duration": 4,
    "start_time": "2022-10-23T17:34:38.982Z"
   },
   {
    "duration": 14,
    "start_time": "2022-10-23T17:34:38.987Z"
   },
   {
    "duration": 22,
    "start_time": "2022-10-23T17:34:39.002Z"
   },
   {
    "duration": 9,
    "start_time": "2022-10-23T17:34:39.026Z"
   },
   {
    "duration": 18,
    "start_time": "2022-10-23T17:34:39.037Z"
   },
   {
    "duration": 13,
    "start_time": "2022-10-23T17:34:39.059Z"
   },
   {
    "duration": 20,
    "start_time": "2022-10-23T17:34:39.074Z"
   },
   {
    "duration": 10,
    "start_time": "2022-10-23T17:34:39.096Z"
   },
   {
    "duration": 15,
    "start_time": "2022-10-23T17:34:39.107Z"
   },
   {
    "duration": 2095,
    "start_time": "2022-10-23T17:34:39.123Z"
   },
   {
    "duration": 120,
    "start_time": "2022-10-23T17:34:41.219Z"
   },
   {
    "duration": 313,
    "start_time": "2022-10-23T17:34:41.340Z"
   },
   {
    "duration": 10,
    "start_time": "2022-10-23T17:34:41.655Z"
   },
   {
    "duration": 10,
    "start_time": "2022-10-23T17:34:41.666Z"
   },
   {
    "duration": 12,
    "start_time": "2022-10-23T17:34:41.677Z"
   },
   {
    "duration": 500,
    "start_time": "2022-10-23T17:34:41.690Z"
   },
   {
    "duration": 115,
    "start_time": "2022-10-23T17:34:42.192Z"
   },
   {
    "duration": 26,
    "start_time": "2022-10-23T17:34:42.309Z"
   },
   {
    "duration": 3,
    "start_time": "2022-10-23T17:34:42.336Z"
   },
   {
    "duration": 89,
    "start_time": "2022-10-23T17:38:54.500Z"
   },
   {
    "duration": 7,
    "start_time": "2022-10-23T17:39:21.454Z"
   },
   {
    "duration": 3,
    "start_time": "2022-10-23T17:39:51.628Z"
   },
   {
    "duration": 5,
    "start_time": "2022-10-23T17:39:52.899Z"
   },
   {
    "duration": 2,
    "start_time": "2022-10-23T17:40:12.584Z"
   },
   {
    "duration": 6,
    "start_time": "2022-10-23T17:40:13.353Z"
   },
   {
    "duration": 2,
    "start_time": "2022-10-23T17:41:02.581Z"
   },
   {
    "duration": 6,
    "start_time": "2022-10-23T17:41:02.981Z"
   },
   {
    "duration": 3,
    "start_time": "2022-10-23T18:01:27.106Z"
   },
   {
    "duration": 6,
    "start_time": "2022-10-23T18:01:42.699Z"
   },
   {
    "duration": 10,
    "start_time": "2022-10-23T18:02:36.504Z"
   },
   {
    "duration": 3,
    "start_time": "2022-10-23T18:04:50.541Z"
   },
   {
    "duration": 5,
    "start_time": "2022-10-23T18:07:31.241Z"
   },
   {
    "duration": 12,
    "start_time": "2022-10-23T18:07:35.988Z"
   },
   {
    "duration": 3,
    "start_time": "2022-10-23T18:08:06.062Z"
   },
   {
    "duration": 5,
    "start_time": "2022-10-23T18:08:06.137Z"
   },
   {
    "duration": 809,
    "start_time": "2022-10-23T18:08:06.153Z"
   },
   {
    "duration": 16,
    "start_time": "2022-10-23T18:08:06.964Z"
   },
   {
    "duration": 17,
    "start_time": "2022-10-23T18:08:06.981Z"
   },
   {
    "duration": 34,
    "start_time": "2022-10-23T18:08:07.000Z"
   },
   {
    "duration": 10,
    "start_time": "2022-10-23T18:08:07.036Z"
   },
   {
    "duration": 91,
    "start_time": "2022-10-23T18:08:07.048Z"
   },
   {
    "duration": 109,
    "start_time": "2022-10-23T18:08:07.141Z"
   },
   {
    "duration": 18,
    "start_time": "2022-10-23T18:08:07.251Z"
   },
   {
    "duration": 3,
    "start_time": "2022-10-23T18:08:07.271Z"
   },
   {
    "duration": 7,
    "start_time": "2022-10-23T18:08:07.276Z"
   },
   {
    "duration": 4,
    "start_time": "2022-10-23T18:08:07.285Z"
   },
   {
    "duration": 7,
    "start_time": "2022-10-23T18:08:07.291Z"
   },
   {
    "duration": 22,
    "start_time": "2022-10-23T18:08:07.300Z"
   },
   {
    "duration": 8,
    "start_time": "2022-10-23T18:08:07.323Z"
   },
   {
    "duration": 6,
    "start_time": "2022-10-23T18:08:07.332Z"
   },
   {
    "duration": 22,
    "start_time": "2022-10-23T18:08:07.339Z"
   },
   {
    "duration": 16,
    "start_time": "2022-10-23T18:08:07.363Z"
   },
   {
    "duration": 3,
    "start_time": "2022-10-23T18:08:07.381Z"
   },
   {
    "duration": 37,
    "start_time": "2022-10-23T18:08:07.386Z"
   },
   {
    "duration": 10,
    "start_time": "2022-10-23T18:08:07.425Z"
   },
   {
    "duration": 7,
    "start_time": "2022-10-23T18:08:07.437Z"
   },
   {
    "duration": 239,
    "start_time": "2022-10-23T18:08:07.446Z"
   },
   {
    "duration": 4,
    "start_time": "2022-10-23T18:08:07.686Z"
   },
   {
    "duration": 244,
    "start_time": "2022-10-23T18:08:07.692Z"
   },
   {
    "duration": 10,
    "start_time": "2022-10-23T18:08:07.937Z"
   },
   {
    "duration": 235,
    "start_time": "2022-10-23T18:08:07.948Z"
   },
   {
    "duration": 4,
    "start_time": "2022-10-23T18:08:08.185Z"
   },
   {
    "duration": 249,
    "start_time": "2022-10-23T18:08:08.190Z"
   },
   {
    "duration": 227,
    "start_time": "2022-10-23T18:08:08.441Z"
   },
   {
    "duration": 4,
    "start_time": "2022-10-23T18:08:08.670Z"
   },
   {
    "duration": 234,
    "start_time": "2022-10-23T18:08:08.675Z"
   },
   {
    "duration": 17,
    "start_time": "2022-10-23T18:08:08.910Z"
   },
   {
    "duration": 8,
    "start_time": "2022-10-23T18:08:08.929Z"
   },
   {
    "duration": 5,
    "start_time": "2022-10-23T18:08:08.938Z"
   },
   {
    "duration": 13,
    "start_time": "2022-10-23T18:08:08.944Z"
   },
   {
    "duration": 3,
    "start_time": "2022-10-23T18:08:08.959Z"
   },
   {
    "duration": 47,
    "start_time": "2022-10-23T18:08:08.963Z"
   },
   {
    "duration": 4,
    "start_time": "2022-10-23T18:08:09.012Z"
   },
   {
    "duration": 6,
    "start_time": "2022-10-23T18:08:09.018Z"
   },
   {
    "duration": 9,
    "start_time": "2022-10-23T18:08:09.026Z"
   },
   {
    "duration": 7,
    "start_time": "2022-10-23T18:08:09.036Z"
   },
   {
    "duration": 10,
    "start_time": "2022-10-23T18:08:09.045Z"
   },
   {
    "duration": 2193,
    "start_time": "2022-10-23T18:08:09.058Z"
   },
   {
    "duration": 26,
    "start_time": "2022-10-23T18:08:11.253Z"
   },
   {
    "duration": 360,
    "start_time": "2022-10-23T18:08:11.281Z"
   },
   {
    "duration": 9,
    "start_time": "2022-10-23T18:08:11.643Z"
   },
   {
    "duration": 11,
    "start_time": "2022-10-23T18:08:11.653Z"
   },
   {
    "duration": 12,
    "start_time": "2022-10-23T18:08:11.666Z"
   },
   {
    "duration": 496,
    "start_time": "2022-10-23T18:08:11.680Z"
   },
   {
    "duration": 109,
    "start_time": "2022-10-23T18:08:12.178Z"
   },
   {
    "duration": 12,
    "start_time": "2022-10-23T18:08:12.288Z"
   },
   {
    "duration": 3,
    "start_time": "2022-10-23T18:08:12.302Z"
   },
   {
    "duration": 17,
    "start_time": "2022-10-23T18:08:12.307Z"
   },
   {
    "duration": 3,
    "start_time": "2022-10-23T18:08:12.325Z"
   },
   {
    "duration": 8,
    "start_time": "2022-10-23T18:08:12.329Z"
   },
   {
    "duration": 12,
    "start_time": "2022-10-23T18:08:12.338Z"
   },
   {
    "duration": 3,
    "start_time": "2022-10-23T18:08:12.351Z"
   },
   {
    "duration": 9,
    "start_time": "2022-10-23T18:08:51.932Z"
   },
   {
    "duration": 1231,
    "start_time": "2022-10-23T18:09:40.947Z"
   },
   {
    "duration": 48,
    "start_time": "2022-10-23T18:09:42.180Z"
   },
   {
    "duration": 584,
    "start_time": "2022-10-23T18:09:42.229Z"
   },
   {
    "duration": 20,
    "start_time": "2022-10-23T18:09:42.815Z"
   },
   {
    "duration": 25,
    "start_time": "2022-10-23T18:09:42.837Z"
   },
   {
    "duration": 42,
    "start_time": "2022-10-23T18:09:42.864Z"
   },
   {
    "duration": 12,
    "start_time": "2022-10-23T18:09:42.907Z"
   },
   {
    "duration": 86,
    "start_time": "2022-10-23T18:09:42.921Z"
   },
   {
    "duration": 114,
    "start_time": "2022-10-23T18:09:43.008Z"
   },
   {
    "duration": 17,
    "start_time": "2022-10-23T18:09:43.124Z"
   },
   {
    "duration": 6,
    "start_time": "2022-10-23T18:09:43.142Z"
   },
   {
    "duration": 5,
    "start_time": "2022-10-23T18:09:43.149Z"
   },
   {
    "duration": 9,
    "start_time": "2022-10-23T18:09:43.156Z"
   },
   {
    "duration": 9,
    "start_time": "2022-10-23T18:09:43.168Z"
   },
   {
    "duration": 5,
    "start_time": "2022-10-23T18:09:43.178Z"
   },
   {
    "duration": 8,
    "start_time": "2022-10-23T18:09:43.184Z"
   },
   {
    "duration": 29,
    "start_time": "2022-10-23T18:09:43.193Z"
   },
   {
    "duration": 19,
    "start_time": "2022-10-23T18:09:43.223Z"
   },
   {
    "duration": 17,
    "start_time": "2022-10-23T18:09:43.243Z"
   },
   {
    "duration": 3,
    "start_time": "2022-10-23T18:09:43.261Z"
   },
   {
    "duration": 13,
    "start_time": "2022-10-23T18:09:43.266Z"
   },
   {
    "duration": 10,
    "start_time": "2022-10-23T18:09:43.280Z"
   },
   {
    "duration": 8,
    "start_time": "2022-10-23T18:09:43.291Z"
   },
   {
    "duration": 228,
    "start_time": "2022-10-23T18:09:43.322Z"
   },
   {
    "duration": 4,
    "start_time": "2022-10-23T18:09:43.551Z"
   },
   {
    "duration": 229,
    "start_time": "2022-10-23T18:09:43.557Z"
   },
   {
    "duration": 9,
    "start_time": "2022-10-23T18:09:43.788Z"
   },
   {
    "duration": 231,
    "start_time": "2022-10-23T18:09:43.799Z"
   },
   {
    "duration": 4,
    "start_time": "2022-10-23T18:09:44.032Z"
   },
   {
    "duration": 234,
    "start_time": "2022-10-23T18:09:44.038Z"
   },
   {
    "duration": 221,
    "start_time": "2022-10-23T18:09:44.273Z"
   },
   {
    "duration": 4,
    "start_time": "2022-10-23T18:09:44.495Z"
   },
   {
    "duration": 225,
    "start_time": "2022-10-23T18:09:44.500Z"
   },
   {
    "duration": 9,
    "start_time": "2022-10-23T18:09:44.727Z"
   },
   {
    "duration": 9,
    "start_time": "2022-10-23T18:09:44.738Z"
   },
   {
    "duration": 4,
    "start_time": "2022-10-23T18:09:44.748Z"
   },
   {
    "duration": 10,
    "start_time": "2022-10-23T18:09:44.754Z"
   },
   {
    "duration": 5,
    "start_time": "2022-10-23T18:09:44.766Z"
   },
   {
    "duration": 9,
    "start_time": "2022-10-23T18:09:44.773Z"
   },
   {
    "duration": 3,
    "start_time": "2022-10-23T18:09:44.784Z"
   },
   {
    "duration": 5,
    "start_time": "2022-10-23T18:09:44.824Z"
   },
   {
    "duration": 8,
    "start_time": "2022-10-23T18:09:44.830Z"
   },
   {
    "duration": 8,
    "start_time": "2022-10-23T18:09:44.839Z"
   },
   {
    "duration": 8,
    "start_time": "2022-10-23T18:09:44.848Z"
   },
   {
    "duration": 2013,
    "start_time": "2022-10-23T18:09:44.857Z"
   },
   {
    "duration": 121,
    "start_time": "2022-10-23T18:09:46.871Z"
   },
   {
    "duration": 314,
    "start_time": "2022-10-23T18:09:46.994Z"
   },
   {
    "duration": 15,
    "start_time": "2022-10-23T18:09:47.310Z"
   },
   {
    "duration": 9,
    "start_time": "2022-10-23T18:09:47.327Z"
   },
   {
    "duration": 11,
    "start_time": "2022-10-23T18:09:47.338Z"
   },
   {
    "duration": 496,
    "start_time": "2022-10-23T18:09:47.351Z"
   },
   {
    "duration": 116,
    "start_time": "2022-10-23T18:09:47.849Z"
   },
   {
    "duration": 13,
    "start_time": "2022-10-23T18:09:47.966Z"
   },
   {
    "duration": 3,
    "start_time": "2022-10-23T18:09:47.981Z"
   },
   {
    "duration": 24,
    "start_time": "2022-10-23T18:09:47.985Z"
   },
   {
    "duration": 10,
    "start_time": "2022-10-23T18:09:48.011Z"
   },
   {
    "duration": 8,
    "start_time": "2022-10-23T18:09:48.022Z"
   },
   {
    "duration": 14,
    "start_time": "2022-10-23T18:09:48.031Z"
   },
   {
    "duration": 93,
    "start_time": "2022-10-23T18:09:48.047Z"
   },
   {
    "duration": 7,
    "start_time": "2022-10-23T18:10:00.578Z"
   },
   {
    "duration": 2,
    "start_time": "2022-10-23T18:18:09.870Z"
   },
   {
    "duration": 3,
    "start_time": "2022-10-23T18:22:40.059Z"
   },
   {
    "duration": 6,
    "start_time": "2022-10-23T18:29:15.776Z"
   },
   {
    "duration": 12,
    "start_time": "2022-10-23T18:30:17.908Z"
   },
   {
    "duration": 4,
    "start_time": "2022-10-23T18:30:54.255Z"
   },
   {
    "duration": 10210,
    "start_time": "2022-10-23T18:48:40.695Z"
   },
   {
    "duration": 4,
    "start_time": "2022-10-23T18:49:48.014Z"
   },
   {
    "duration": 10257,
    "start_time": "2022-10-23T18:50:05.494Z"
   },
   {
    "duration": 8,
    "start_time": "2022-10-23T18:51:13.053Z"
   },
   {
    "duration": 9,
    "start_time": "2022-10-23T18:51:43.329Z"
   },
   {
    "duration": 1342,
    "start_time": "2022-10-23T18:54:55.023Z"
   },
   {
    "duration": 623,
    "start_time": "2022-10-23T18:54:56.366Z"
   },
   {
    "duration": 17,
    "start_time": "2022-10-23T18:54:56.991Z"
   },
   {
    "duration": 22,
    "start_time": "2022-10-23T18:54:57.021Z"
   },
   {
    "duration": 15,
    "start_time": "2022-10-23T18:54:57.045Z"
   },
   {
    "duration": 11,
    "start_time": "2022-10-23T18:54:57.061Z"
   },
   {
    "duration": 111,
    "start_time": "2022-10-23T18:54:57.074Z"
   },
   {
    "duration": 116,
    "start_time": "2022-10-23T18:54:57.187Z"
   },
   {
    "duration": 24,
    "start_time": "2022-10-23T18:54:57.304Z"
   },
   {
    "duration": 4,
    "start_time": "2022-10-23T18:54:57.330Z"
   },
   {
    "duration": 9,
    "start_time": "2022-10-23T18:54:57.336Z"
   },
   {
    "duration": 7,
    "start_time": "2022-10-23T18:54:57.346Z"
   },
   {
    "duration": 18,
    "start_time": "2022-10-23T18:54:57.354Z"
   },
   {
    "duration": 6,
    "start_time": "2022-10-23T18:54:57.373Z"
   },
   {
    "duration": 7,
    "start_time": "2022-10-23T18:54:57.381Z"
   },
   {
    "duration": 6,
    "start_time": "2022-10-23T18:54:57.389Z"
   },
   {
    "duration": 29,
    "start_time": "2022-10-23T18:54:57.396Z"
   },
   {
    "duration": 15,
    "start_time": "2022-10-23T18:54:57.427Z"
   },
   {
    "duration": 4,
    "start_time": "2022-10-23T18:54:57.443Z"
   },
   {
    "duration": 19,
    "start_time": "2022-10-23T18:54:57.448Z"
   },
   {
    "duration": 11,
    "start_time": "2022-10-23T18:54:57.468Z"
   },
   {
    "duration": 7,
    "start_time": "2022-10-23T18:54:57.482Z"
   },
   {
    "duration": 255,
    "start_time": "2022-10-23T18:54:57.491Z"
   },
   {
    "duration": 5,
    "start_time": "2022-10-23T18:54:57.747Z"
   },
   {
    "duration": 243,
    "start_time": "2022-10-23T18:54:57.753Z"
   },
   {
    "duration": 10,
    "start_time": "2022-10-23T18:54:57.997Z"
   },
   {
    "duration": 234,
    "start_time": "2022-10-23T18:54:58.008Z"
   },
   {
    "duration": 4,
    "start_time": "2022-10-23T18:54:58.243Z"
   },
   {
    "duration": 229,
    "start_time": "2022-10-23T18:54:58.249Z"
   },
   {
    "duration": 233,
    "start_time": "2022-10-23T18:54:58.480Z"
   },
   {
    "duration": 7,
    "start_time": "2022-10-23T18:54:58.714Z"
   },
   {
    "duration": 231,
    "start_time": "2022-10-23T18:54:58.723Z"
   },
   {
    "duration": 10,
    "start_time": "2022-10-23T18:54:58.955Z"
   },
   {
    "duration": 9,
    "start_time": "2022-10-23T18:54:58.967Z"
   },
   {
    "duration": 3,
    "start_time": "2022-10-23T18:54:58.977Z"
   },
   {
    "duration": 8,
    "start_time": "2022-10-23T18:54:58.982Z"
   },
   {
    "duration": 4,
    "start_time": "2022-10-23T18:54:58.991Z"
   },
   {
    "duration": 26,
    "start_time": "2022-10-23T18:54:58.996Z"
   },
   {
    "duration": 3,
    "start_time": "2022-10-23T18:54:59.023Z"
   },
   {
    "duration": 11,
    "start_time": "2022-10-23T18:54:59.028Z"
   },
   {
    "duration": 10,
    "start_time": "2022-10-23T18:54:59.041Z"
   },
   {
    "duration": 7,
    "start_time": "2022-10-23T18:54:59.052Z"
   },
   {
    "duration": 10,
    "start_time": "2022-10-23T18:54:59.061Z"
   },
   {
    "duration": 2045,
    "start_time": "2022-10-23T18:54:59.072Z"
   },
   {
    "duration": 126,
    "start_time": "2022-10-23T18:55:01.118Z"
   },
   {
    "duration": 297,
    "start_time": "2022-10-23T18:55:01.246Z"
   },
   {
    "duration": 8,
    "start_time": "2022-10-23T18:55:01.544Z"
   },
   {
    "duration": 23,
    "start_time": "2022-10-23T18:55:01.553Z"
   },
   {
    "duration": 17,
    "start_time": "2022-10-23T18:55:01.577Z"
   },
   {
    "duration": 481,
    "start_time": "2022-10-23T18:55:01.596Z"
   },
   {
    "duration": 115,
    "start_time": "2022-10-23T18:55:02.079Z"
   },
   {
    "duration": 12,
    "start_time": "2022-10-23T18:55:02.195Z"
   },
   {
    "duration": 14,
    "start_time": "2022-10-23T18:55:02.208Z"
   },
   {
    "duration": 15,
    "start_time": "2022-10-23T18:55:02.223Z"
   },
   {
    "duration": 12,
    "start_time": "2022-10-23T18:55:02.239Z"
   },
   {
    "duration": 17,
    "start_time": "2022-10-23T18:55:02.253Z"
   },
   {
    "duration": 30,
    "start_time": "2022-10-23T18:55:02.271Z"
   },
   {
    "duration": 17,
    "start_time": "2022-10-23T18:55:11.134Z"
   },
   {
    "duration": 6,
    "start_time": "2022-10-23T18:55:13.106Z"
   },
   {
    "duration": 16582,
    "start_time": "2022-10-23T18:55:19.975Z"
   },
   {
    "duration": 2091,
    "start_time": "2022-10-23T19:04:48.654Z"
   },
   {
    "duration": 4,
    "start_time": "2022-10-23T19:06:28.174Z"
   },
   {
    "duration": 98,
    "start_time": "2022-10-23T19:06:33.858Z"
   },
   {
    "duration": 3,
    "start_time": "2022-10-23T19:07:04.095Z"
   },
   {
    "duration": 62670,
    "start_time": "2022-10-23T19:07:10.936Z"
   },
   {
    "duration": 10,
    "start_time": "2022-10-23T19:17:13.734Z"
   },
   {
    "duration": 3,
    "start_time": "2022-10-23T19:17:52.982Z"
   },
   {
    "duration": 4,
    "start_time": "2022-10-23T19:22:33.589Z"
   },
   {
    "duration": 4,
    "start_time": "2022-10-23T19:23:46.636Z"
   },
   {
    "duration": 91019,
    "start_time": "2022-10-23T19:33:07.317Z"
   },
   {
    "duration": 4,
    "start_time": "2022-10-23T19:35:13.964Z"
   },
   {
    "duration": 4,
    "start_time": "2022-10-23T19:35:18.071Z"
   },
   {
    "duration": 4,
    "start_time": "2022-10-23T19:35:21.886Z"
   },
   {
    "duration": 90716,
    "start_time": "2022-10-23T19:36:40.530Z"
   },
   {
    "duration": 3,
    "start_time": "2022-10-23T19:45:04.693Z"
   },
   {
    "duration": 5,
    "start_time": "2022-10-23T19:45:13.702Z"
   },
   {
    "duration": 386044,
    "start_time": "2022-10-23T19:46:18.195Z"
   },
   {
    "duration": 4,
    "start_time": "2022-10-23T19:52:44.241Z"
   },
   {
    "duration": 92630,
    "start_time": "2022-10-23T20:10:06.031Z"
   },
   {
    "duration": 4,
    "start_time": "2022-10-23T20:11:38.662Z"
   },
   {
    "duration": 178294,
    "start_time": "2022-10-23T20:13:28.627Z"
   },
   {
    "duration": 4,
    "start_time": "2022-10-23T20:16:26.924Z"
   },
   {
    "duration": 178404,
    "start_time": "2022-10-23T20:17:08.466Z"
   },
   {
    "duration": 4,
    "start_time": "2022-10-23T20:20:06.872Z"
   },
   {
    "duration": 4,
    "start_time": "2022-10-23T20:24:16.229Z"
   },
   {
    "duration": 1633,
    "start_time": "2022-10-24T18:07:35.684Z"
   },
   {
    "duration": 2066,
    "start_time": "2022-10-24T18:07:37.319Z"
   },
   {
    "duration": 21,
    "start_time": "2022-10-24T18:07:39.387Z"
   },
   {
    "duration": 26,
    "start_time": "2022-10-24T18:07:39.410Z"
   },
   {
    "duration": 18,
    "start_time": "2022-10-24T18:07:39.438Z"
   },
   {
    "duration": 12,
    "start_time": "2022-10-24T18:07:39.458Z"
   },
   {
    "duration": 119,
    "start_time": "2022-10-24T18:07:39.472Z"
   },
   {
    "duration": 159,
    "start_time": "2022-10-24T18:07:39.592Z"
   },
   {
    "duration": 24,
    "start_time": "2022-10-24T18:07:39.752Z"
   },
   {
    "duration": 7,
    "start_time": "2022-10-24T18:07:39.778Z"
   },
   {
    "duration": 5,
    "start_time": "2022-10-24T18:07:39.786Z"
   },
   {
    "duration": 37,
    "start_time": "2022-10-24T18:07:39.793Z"
   },
   {
    "duration": 11,
    "start_time": "2022-10-24T18:07:39.832Z"
   },
   {
    "duration": 2,
    "start_time": "2022-10-24T18:07:39.846Z"
   },
   {
    "duration": 7,
    "start_time": "2022-10-24T18:07:39.850Z"
   },
   {
    "duration": 5,
    "start_time": "2022-10-24T18:07:39.859Z"
   },
   {
    "duration": 23,
    "start_time": "2022-10-24T18:07:39.867Z"
   },
   {
    "duration": 27,
    "start_time": "2022-10-24T18:07:39.928Z"
   },
   {
    "duration": 5,
    "start_time": "2022-10-24T18:07:39.957Z"
   },
   {
    "duration": 22,
    "start_time": "2022-10-24T18:07:39.964Z"
   },
   {
    "duration": 44,
    "start_time": "2022-10-24T18:07:39.988Z"
   },
   {
    "duration": 11,
    "start_time": "2022-10-24T18:07:40.033Z"
   },
   {
    "duration": 273,
    "start_time": "2022-10-24T18:07:40.045Z"
   },
   {
    "duration": 11,
    "start_time": "2022-10-24T18:07:40.320Z"
   },
   {
    "duration": 282,
    "start_time": "2022-10-24T18:07:40.333Z"
   },
   {
    "duration": 20,
    "start_time": "2022-10-24T18:07:40.617Z"
   },
   {
    "duration": 271,
    "start_time": "2022-10-24T18:07:40.639Z"
   },
   {
    "duration": 5,
    "start_time": "2022-10-24T18:07:40.913Z"
   },
   {
    "duration": 264,
    "start_time": "2022-10-24T18:07:40.929Z"
   },
   {
    "duration": 298,
    "start_time": "2022-10-24T18:07:41.195Z"
   },
   {
    "duration": 5,
    "start_time": "2022-10-24T18:07:41.496Z"
   },
   {
    "duration": 301,
    "start_time": "2022-10-24T18:07:41.503Z"
   },
   {
    "duration": 13,
    "start_time": "2022-10-24T18:07:41.806Z"
   },
   {
    "duration": 10,
    "start_time": "2022-10-24T18:07:41.830Z"
   },
   {
    "duration": 4,
    "start_time": "2022-10-24T18:07:41.842Z"
   },
   {
    "duration": 10,
    "start_time": "2022-10-24T18:07:41.847Z"
   },
   {
    "duration": 3,
    "start_time": "2022-10-24T18:07:41.859Z"
   },
   {
    "duration": 6,
    "start_time": "2022-10-24T18:07:41.864Z"
   },
   {
    "duration": 5,
    "start_time": "2022-10-24T18:07:41.871Z"
   },
   {
    "duration": 5,
    "start_time": "2022-10-24T18:07:41.878Z"
   },
   {
    "duration": 51,
    "start_time": "2022-10-24T18:07:41.884Z"
   },
   {
    "duration": 7,
    "start_time": "2022-10-24T18:07:41.937Z"
   },
   {
    "duration": 11,
    "start_time": "2022-10-24T18:07:41.945Z"
   },
   {
    "duration": 6,
    "start_time": "2022-10-24T18:07:48.107Z"
   },
   {
    "duration": 24,
    "start_time": "2022-10-24T18:07:59.071Z"
   },
   {
    "duration": 5,
    "start_time": "2022-10-24T18:21:05.344Z"
   },
   {
    "duration": 1496,
    "start_time": "2022-10-24T18:24:59.423Z"
   },
   {
    "duration": 744,
    "start_time": "2022-10-24T18:25:00.921Z"
   },
   {
    "duration": 19,
    "start_time": "2022-10-24T18:25:01.667Z"
   },
   {
    "duration": 55,
    "start_time": "2022-10-24T18:25:01.689Z"
   },
   {
    "duration": 18,
    "start_time": "2022-10-24T18:25:01.746Z"
   },
   {
    "duration": 13,
    "start_time": "2022-10-24T18:25:01.765Z"
   },
   {
    "duration": 123,
    "start_time": "2022-10-24T18:25:01.780Z"
   },
   {
    "duration": 142,
    "start_time": "2022-10-24T18:25:01.905Z"
   },
   {
    "duration": 23,
    "start_time": "2022-10-24T18:25:02.049Z"
   },
   {
    "duration": 7,
    "start_time": "2022-10-24T18:25:02.074Z"
   },
   {
    "duration": 8,
    "start_time": "2022-10-24T18:25:02.082Z"
   },
   {
    "duration": 10,
    "start_time": "2022-10-24T18:25:02.092Z"
   },
   {
    "duration": 35,
    "start_time": "2022-10-24T18:25:02.104Z"
   },
   {
    "duration": 5,
    "start_time": "2022-10-24T18:25:02.141Z"
   },
   {
    "duration": 11,
    "start_time": "2022-10-24T18:25:02.147Z"
   },
   {
    "duration": 10,
    "start_time": "2022-10-24T18:25:02.159Z"
   },
   {
    "duration": 20,
    "start_time": "2022-10-24T18:25:02.171Z"
   },
   {
    "duration": 21,
    "start_time": "2022-10-24T18:25:02.193Z"
   },
   {
    "duration": 18,
    "start_time": "2022-10-24T18:25:02.217Z"
   },
   {
    "duration": 21,
    "start_time": "2022-10-24T18:25:02.237Z"
   },
   {
    "duration": 12,
    "start_time": "2022-10-24T18:25:02.260Z"
   },
   {
    "duration": 10,
    "start_time": "2022-10-24T18:25:02.274Z"
   },
   {
    "duration": 304,
    "start_time": "2022-10-24T18:25:02.285Z"
   },
   {
    "duration": 5,
    "start_time": "2022-10-24T18:25:02.590Z"
   },
   {
    "duration": 274,
    "start_time": "2022-10-24T18:25:02.597Z"
   },
   {
    "duration": 13,
    "start_time": "2022-10-24T18:25:02.873Z"
   },
   {
    "duration": 283,
    "start_time": "2022-10-24T18:25:02.888Z"
   },
   {
    "duration": 5,
    "start_time": "2022-10-24T18:25:03.174Z"
   },
   {
    "duration": 273,
    "start_time": "2022-10-24T18:25:03.180Z"
   },
   {
    "duration": 271,
    "start_time": "2022-10-24T18:25:03.454Z"
   },
   {
    "duration": 15,
    "start_time": "2022-10-24T18:25:03.728Z"
   },
   {
    "duration": 265,
    "start_time": "2022-10-24T18:25:03.749Z"
   },
   {
    "duration": 24,
    "start_time": "2022-10-24T18:25:04.016Z"
   },
   {
    "duration": 12,
    "start_time": "2022-10-24T18:25:04.042Z"
   },
   {
    "duration": 4,
    "start_time": "2022-10-24T18:25:04.055Z"
   },
   {
    "duration": 8,
    "start_time": "2022-10-24T18:25:04.061Z"
   },
   {
    "duration": 4,
    "start_time": "2022-10-24T18:25:04.070Z"
   },
   {
    "duration": 7,
    "start_time": "2022-10-24T18:25:04.076Z"
   },
   {
    "duration": 4,
    "start_time": "2022-10-24T18:25:04.085Z"
   },
   {
    "duration": 46,
    "start_time": "2022-10-24T18:25:04.091Z"
   },
   {
    "duration": 11,
    "start_time": "2022-10-24T18:25:04.140Z"
   },
   {
    "duration": 9,
    "start_time": "2022-10-24T18:25:04.153Z"
   },
   {
    "duration": 10,
    "start_time": "2022-10-24T18:25:04.164Z"
   },
   {
    "duration": 5,
    "start_time": "2022-10-24T18:25:04.176Z"
   },
   {
    "duration": 2484,
    "start_time": "2022-10-24T18:25:04.183Z"
   },
   {
    "duration": 153,
    "start_time": "2022-10-24T18:25:06.668Z"
   },
   {
    "duration": 380,
    "start_time": "2022-10-24T18:25:06.823Z"
   },
   {
    "duration": 9,
    "start_time": "2022-10-24T18:25:07.205Z"
   },
   {
    "duration": 23,
    "start_time": "2022-10-24T18:25:07.215Z"
   },
   {
    "duration": 12,
    "start_time": "2022-10-24T18:25:07.248Z"
   },
   {
    "duration": 592,
    "start_time": "2022-10-24T18:25:07.262Z"
   },
   {
    "duration": 150,
    "start_time": "2022-10-24T18:25:07.856Z"
   },
   {
    "duration": 22,
    "start_time": "2022-10-24T18:25:08.008Z"
   },
   {
    "duration": 10,
    "start_time": "2022-10-24T18:25:08.032Z"
   },
   {
    "duration": 8,
    "start_time": "2022-10-24T18:25:08.046Z"
   },
   {
    "duration": 4,
    "start_time": "2022-10-24T18:25:08.056Z"
   },
   {
    "duration": 8,
    "start_time": "2022-10-24T18:25:08.062Z"
   },
   {
    "duration": 22,
    "start_time": "2022-10-24T18:25:10.386Z"
   },
   {
    "duration": 5,
    "start_time": "2022-10-24T18:25:11.121Z"
   },
   {
    "duration": 1051,
    "start_time": "2022-10-24T18:25:46.396Z"
   },
   {
    "duration": 6,
    "start_time": "2022-10-24T18:26:05.397Z"
   },
   {
    "duration": 7,
    "start_time": "2022-10-24T18:26:18.341Z"
   },
   {
    "duration": 7,
    "start_time": "2022-10-24T18:26:38.352Z"
   },
   {
    "duration": 5,
    "start_time": "2022-10-24T18:26:56.784Z"
   },
   {
    "duration": 5,
    "start_time": "2022-10-24T18:27:02.316Z"
   },
   {
    "duration": 279634,
    "start_time": "2022-10-24T18:31:55.267Z"
   },
   {
    "duration": 5,
    "start_time": "2022-10-24T18:36:42.884Z"
   },
   {
    "duration": 2,
    "start_time": "2022-10-24T18:45:38.569Z"
   },
   {
    "duration": 3,
    "start_time": "2022-10-24T18:45:55.917Z"
   },
   {
    "duration": 7,
    "start_time": "2022-10-24T18:47:38.344Z"
   },
   {
    "duration": 109,
    "start_time": "2022-10-24T18:48:57.907Z"
   },
   {
    "duration": 2285640,
    "start_time": "2022-10-24T18:49:14.263Z"
   },
   {
    "duration": 57411,
    "start_time": "2022-10-24T19:28:27.368Z"
   },
   {
    "duration": 4,
    "start_time": "2022-10-24T19:29:43.245Z"
   },
   {
    "duration": 56837,
    "start_time": "2022-10-24T19:37:20.935Z"
   },
   {
    "duration": 72,
    "start_time": "2022-10-24T19:39:53.284Z"
   },
   {
    "duration": 216,
    "start_time": "2022-10-24T19:40:09.463Z"
   },
   {
    "duration": 1983673,
    "start_time": "2022-10-24T19:40:18.924Z"
   },
   {
    "duration": 3,
    "start_time": "2022-10-24T20:29:05.249Z"
   },
   {
    "duration": 2,
    "start_time": "2022-10-24T20:29:11.206Z"
   },
   {
    "duration": 4,
    "start_time": "2022-10-24T20:30:47.170Z"
   },
   {
    "duration": 3,
    "start_time": "2022-10-24T20:38:25.026Z"
   },
   {
    "duration": 13,
    "start_time": "2022-10-24T20:40:33.398Z"
   },
   {
    "duration": 1018,
    "start_time": "2022-10-24T20:40:41.744Z"
   },
   {
    "duration": 13,
    "start_time": "2022-10-24T20:46:30.337Z"
   },
   {
    "duration": 55034,
    "start_time": "2022-10-24T20:47:50.047Z"
   },
   {
    "duration": 14322,
    "start_time": "2022-10-24T20:52:02.482Z"
   },
   {
    "duration": 14429,
    "start_time": "2022-10-24T20:53:42.601Z"
   },
   {
    "duration": 77,
    "start_time": "2022-10-24T20:55:58.016Z"
   },
   {
    "duration": 60,
    "start_time": "2022-10-24T20:57:22.691Z"
   },
   {
    "duration": 119,
    "start_time": "2022-10-24T20:57:39.605Z"
   },
   {
    "duration": 1414,
    "start_time": "2022-10-25T13:41:09.600Z"
   },
   {
    "duration": 1729,
    "start_time": "2022-10-25T13:41:11.016Z"
   },
   {
    "duration": 22,
    "start_time": "2022-10-25T13:41:12.747Z"
   },
   {
    "duration": 23,
    "start_time": "2022-10-25T13:41:12.771Z"
   },
   {
    "duration": 14,
    "start_time": "2022-10-25T13:41:12.796Z"
   },
   {
    "duration": 11,
    "start_time": "2022-10-25T13:41:12.812Z"
   },
   {
    "duration": 101,
    "start_time": "2022-10-25T13:41:12.824Z"
   },
   {
    "duration": 112,
    "start_time": "2022-10-25T13:41:12.926Z"
   },
   {
    "duration": 18,
    "start_time": "2022-10-25T13:41:13.039Z"
   },
   {
    "duration": 18,
    "start_time": "2022-10-25T13:41:13.059Z"
   },
   {
    "duration": 8,
    "start_time": "2022-10-25T13:41:13.079Z"
   },
   {
    "duration": 17,
    "start_time": "2022-10-25T13:41:13.088Z"
   },
   {
    "duration": 29,
    "start_time": "2022-10-25T13:41:13.106Z"
   },
   {
    "duration": 7,
    "start_time": "2022-10-25T13:41:13.138Z"
   },
   {
    "duration": 34,
    "start_time": "2022-10-25T13:41:13.147Z"
   },
   {
    "duration": 14,
    "start_time": "2022-10-25T13:41:13.183Z"
   },
   {
    "duration": 40,
    "start_time": "2022-10-25T13:41:13.198Z"
   },
   {
    "duration": 15,
    "start_time": "2022-10-25T13:41:13.240Z"
   },
   {
    "duration": 16,
    "start_time": "2022-10-25T13:41:13.257Z"
   },
   {
    "duration": 14,
    "start_time": "2022-10-25T13:41:13.275Z"
   },
   {
    "duration": 19,
    "start_time": "2022-10-25T13:41:13.291Z"
   },
   {
    "duration": 9,
    "start_time": "2022-10-25T13:41:13.311Z"
   },
   {
    "duration": 239,
    "start_time": "2022-10-25T13:41:13.321Z"
   },
   {
    "duration": 4,
    "start_time": "2022-10-25T13:41:13.562Z"
   },
   {
    "duration": 248,
    "start_time": "2022-10-25T13:41:13.567Z"
   },
   {
    "duration": 10,
    "start_time": "2022-10-25T13:41:13.816Z"
   },
   {
    "duration": 234,
    "start_time": "2022-10-25T13:41:13.827Z"
   },
   {
    "duration": 4,
    "start_time": "2022-10-25T13:41:14.062Z"
   },
   {
    "duration": 241,
    "start_time": "2022-10-25T13:41:14.068Z"
   },
   {
    "duration": 230,
    "start_time": "2022-10-25T13:41:14.310Z"
   },
   {
    "duration": 4,
    "start_time": "2022-10-25T13:41:14.541Z"
   },
   {
    "duration": 232,
    "start_time": "2022-10-25T13:41:14.547Z"
   },
   {
    "duration": 9,
    "start_time": "2022-10-25T13:41:14.781Z"
   },
   {
    "duration": 20,
    "start_time": "2022-10-25T13:41:14.791Z"
   },
   {
    "duration": 27,
    "start_time": "2022-10-25T13:41:14.812Z"
   },
   {
    "duration": 32,
    "start_time": "2022-10-25T13:41:14.841Z"
   },
   {
    "duration": 28,
    "start_time": "2022-10-25T13:41:14.875Z"
   },
   {
    "duration": 28,
    "start_time": "2022-10-25T13:41:14.904Z"
   },
   {
    "duration": 25,
    "start_time": "2022-10-25T13:41:14.933Z"
   },
   {
    "duration": 36,
    "start_time": "2022-10-25T13:41:14.959Z"
   },
   {
    "duration": 31,
    "start_time": "2022-10-25T13:41:14.999Z"
   },
   {
    "duration": 45,
    "start_time": "2022-10-25T13:41:15.031Z"
   },
   {
    "duration": 26,
    "start_time": "2022-10-25T13:41:15.078Z"
   },
   {
    "duration": 38,
    "start_time": "2022-10-25T13:41:15.105Z"
   },
   {
    "duration": 2001,
    "start_time": "2022-10-25T13:41:15.145Z"
   },
   {
    "duration": 38,
    "start_time": "2022-10-25T13:41:17.147Z"
   },
   {
    "duration": 322,
    "start_time": "2022-10-25T13:41:17.187Z"
   },
   {
    "duration": 7,
    "start_time": "2022-10-25T13:41:17.511Z"
   },
   {
    "duration": 8,
    "start_time": "2022-10-25T13:41:17.520Z"
   },
   {
    "duration": 11,
    "start_time": "2022-10-25T13:41:17.529Z"
   },
   {
    "duration": 569,
    "start_time": "2022-10-25T13:41:17.541Z"
   },
   {
    "duration": 115,
    "start_time": "2022-10-25T13:41:18.112Z"
   },
   {
    "duration": 14,
    "start_time": "2022-10-25T13:41:18.229Z"
   },
   {
    "duration": 12,
    "start_time": "2022-10-25T13:41:18.245Z"
   },
   {
    "duration": 20,
    "start_time": "2022-10-25T13:41:18.258Z"
   },
   {
    "duration": 9,
    "start_time": "2022-10-25T13:41:18.279Z"
   },
   {
    "duration": 8,
    "start_time": "2022-10-25T13:41:18.289Z"
   },
   {
    "duration": 21,
    "start_time": "2022-10-25T13:41:18.298Z"
   },
   {
    "duration": 26614,
    "start_time": "2022-10-25T13:41:31.809Z"
   },
   {
    "duration": 12315,
    "start_time": "2022-10-25T13:42:09.282Z"
   },
   {
    "duration": 4,
    "start_time": "2022-10-25T13:51:13.986Z"
   },
   {
    "duration": 601,
    "start_time": "2022-10-25T13:51:13.992Z"
   },
   {
    "duration": 17,
    "start_time": "2022-10-25T13:51:14.595Z"
   },
   {
    "duration": 21,
    "start_time": "2022-10-25T13:51:14.613Z"
   },
   {
    "duration": 20,
    "start_time": "2022-10-25T13:51:14.636Z"
   },
   {
    "duration": 12,
    "start_time": "2022-10-25T13:51:14.677Z"
   },
   {
    "duration": 89,
    "start_time": "2022-10-25T13:51:14.690Z"
   },
   {
    "duration": 112,
    "start_time": "2022-10-25T13:51:14.780Z"
   },
   {
    "duration": 18,
    "start_time": "2022-10-25T13:51:14.894Z"
   },
   {
    "duration": 4,
    "start_time": "2022-10-25T13:51:14.913Z"
   },
   {
    "duration": 7,
    "start_time": "2022-10-25T13:51:14.918Z"
   },
   {
    "duration": 6,
    "start_time": "2022-10-25T13:51:14.926Z"
   },
   {
    "duration": 7,
    "start_time": "2022-10-25T13:51:14.934Z"
   },
   {
    "duration": 3,
    "start_time": "2022-10-25T13:51:14.943Z"
   },
   {
    "duration": 31,
    "start_time": "2022-10-25T13:51:14.947Z"
   },
   {
    "duration": 4,
    "start_time": "2022-10-25T13:51:14.979Z"
   },
   {
    "duration": 19,
    "start_time": "2022-10-25T13:51:14.984Z"
   },
   {
    "duration": 16,
    "start_time": "2022-10-25T13:51:15.004Z"
   },
   {
    "duration": 7,
    "start_time": "2022-10-25T13:51:15.022Z"
   },
   {
    "duration": 26,
    "start_time": "2022-10-25T13:51:15.030Z"
   },
   {
    "duration": 23,
    "start_time": "2022-10-25T13:51:15.058Z"
   },
   {
    "duration": 12,
    "start_time": "2022-10-25T13:51:15.083Z"
   },
   {
    "duration": 250,
    "start_time": "2022-10-25T13:51:15.096Z"
   },
   {
    "duration": 4,
    "start_time": "2022-10-25T13:51:15.348Z"
   },
   {
    "duration": 233,
    "start_time": "2022-10-25T13:51:15.353Z"
   },
   {
    "duration": 10,
    "start_time": "2022-10-25T13:51:15.588Z"
   },
   {
    "duration": 234,
    "start_time": "2022-10-25T13:51:15.599Z"
   },
   {
    "duration": 5,
    "start_time": "2022-10-25T13:51:15.835Z"
   },
   {
    "duration": 237,
    "start_time": "2022-10-25T13:51:15.841Z"
   },
   {
    "duration": 232,
    "start_time": "2022-10-25T13:51:16.079Z"
   },
   {
    "duration": 5,
    "start_time": "2022-10-25T13:51:16.312Z"
   },
   {
    "duration": 231,
    "start_time": "2022-10-25T13:51:16.318Z"
   },
   {
    "duration": 10,
    "start_time": "2022-10-25T13:51:16.551Z"
   },
   {
    "duration": 21,
    "start_time": "2022-10-25T13:51:16.563Z"
   },
   {
    "duration": 3,
    "start_time": "2022-10-25T13:51:16.585Z"
   },
   {
    "duration": 9,
    "start_time": "2022-10-25T13:51:16.590Z"
   },
   {
    "duration": 8,
    "start_time": "2022-10-25T13:51:16.601Z"
   },
   {
    "duration": 9,
    "start_time": "2022-10-25T13:51:16.610Z"
   },
   {
    "duration": 4,
    "start_time": "2022-10-25T13:51:16.620Z"
   },
   {
    "duration": 5,
    "start_time": "2022-10-25T13:51:21.335Z"
   },
   {
    "duration": 99,
    "start_time": "2022-10-25T13:51:31.635Z"
   },
   {
    "duration": 4,
    "start_time": "2022-10-25T13:51:35.152Z"
   },
   {
    "duration": 11,
    "start_time": "2022-10-25T13:52:04.094Z"
   },
   {
    "duration": 4,
    "start_time": "2022-10-25T13:52:10.203Z"
   },
   {
    "duration": 4,
    "start_time": "2022-10-25T13:55:50.048Z"
   },
   {
    "duration": 601,
    "start_time": "2022-10-25T13:55:50.054Z"
   },
   {
    "duration": 22,
    "start_time": "2022-10-25T13:55:50.657Z"
   },
   {
    "duration": 117,
    "start_time": "2022-10-25T13:55:50.681Z"
   },
   {
    "duration": 14,
    "start_time": "2022-10-25T13:55:50.799Z"
   },
   {
    "duration": 11,
    "start_time": "2022-10-25T13:55:50.814Z"
   },
   {
    "duration": 100,
    "start_time": "2022-10-25T13:55:50.826Z"
   },
   {
    "duration": 115,
    "start_time": "2022-10-25T13:55:50.927Z"
   },
   {
    "duration": 35,
    "start_time": "2022-10-25T13:55:51.044Z"
   },
   {
    "duration": 7,
    "start_time": "2022-10-25T13:55:51.082Z"
   },
   {
    "duration": 7,
    "start_time": "2022-10-25T13:55:51.091Z"
   },
   {
    "duration": 27,
    "start_time": "2022-10-25T13:55:51.103Z"
   },
   {
    "duration": 8,
    "start_time": "2022-10-25T13:55:51.132Z"
   },
   {
    "duration": 4,
    "start_time": "2022-10-25T13:55:51.142Z"
   },
   {
    "duration": 9,
    "start_time": "2022-10-25T13:55:51.148Z"
   },
   {
    "duration": 6,
    "start_time": "2022-10-25T13:55:51.158Z"
   },
   {
    "duration": 26,
    "start_time": "2022-10-25T13:55:51.166Z"
   },
   {
    "duration": 16,
    "start_time": "2022-10-25T13:55:51.193Z"
   },
   {
    "duration": 3,
    "start_time": "2022-10-25T13:55:51.211Z"
   },
   {
    "duration": 15,
    "start_time": "2022-10-25T13:55:51.216Z"
   },
   {
    "duration": 13,
    "start_time": "2022-10-25T13:55:51.233Z"
   },
   {
    "duration": 38,
    "start_time": "2022-10-25T13:55:51.248Z"
   },
   {
    "duration": 252,
    "start_time": "2022-10-25T13:55:51.287Z"
   },
   {
    "duration": 6,
    "start_time": "2022-10-25T13:55:51.540Z"
   },
   {
    "duration": 278,
    "start_time": "2022-10-25T13:55:51.547Z"
   },
   {
    "duration": 11,
    "start_time": "2022-10-25T13:55:51.827Z"
   },
   {
    "duration": 239,
    "start_time": "2022-10-25T13:55:51.840Z"
   },
   {
    "duration": 4,
    "start_time": "2022-10-25T13:55:52.082Z"
   },
   {
    "duration": 268,
    "start_time": "2022-10-25T13:55:52.087Z"
   },
   {
    "duration": 244,
    "start_time": "2022-10-25T13:55:52.357Z"
   },
   {
    "duration": 4,
    "start_time": "2022-10-25T13:55:52.603Z"
   },
   {
    "duration": 257,
    "start_time": "2022-10-25T13:55:52.609Z"
   },
   {
    "duration": 17,
    "start_time": "2022-10-25T13:55:52.868Z"
   },
   {
    "duration": 9,
    "start_time": "2022-10-25T13:55:52.886Z"
   },
   {
    "duration": 4,
    "start_time": "2022-10-25T13:55:52.897Z"
   },
   {
    "duration": 9,
    "start_time": "2022-10-25T13:55:52.902Z"
   },
   {
    "duration": 4,
    "start_time": "2022-10-25T13:55:52.913Z"
   },
   {
    "duration": 10,
    "start_time": "2022-10-25T13:55:52.918Z"
   },
   {
    "duration": 7,
    "start_time": "2022-10-25T13:55:52.930Z"
   },
   {
    "duration": 17,
    "start_time": "2022-10-25T13:55:57.917Z"
   },
   {
    "duration": 16,
    "start_time": "2022-10-25T13:55:58.434Z"
   },
   {
    "duration": 3,
    "start_time": "2022-10-25T13:56:33.001Z"
   },
   {
    "duration": 7,
    "start_time": "2022-10-25T13:57:20.940Z"
   },
   {
    "duration": 13,
    "start_time": "2022-10-25T13:57:21.204Z"
   },
   {
    "duration": 3,
    "start_time": "2022-10-25T14:00:55.396Z"
   },
   {
    "duration": 588,
    "start_time": "2022-10-25T14:00:55.401Z"
   },
   {
    "duration": 15,
    "start_time": "2022-10-25T14:00:55.990Z"
   },
   {
    "duration": 19,
    "start_time": "2022-10-25T14:00:56.007Z"
   },
   {
    "duration": 17,
    "start_time": "2022-10-25T14:00:56.027Z"
   },
   {
    "duration": 32,
    "start_time": "2022-10-25T14:00:56.046Z"
   },
   {
    "duration": 78,
    "start_time": "2022-10-25T14:00:56.080Z"
   },
   {
    "duration": 121,
    "start_time": "2022-10-25T14:00:56.161Z"
   },
   {
    "duration": 18,
    "start_time": "2022-10-25T14:00:56.284Z"
   },
   {
    "duration": 4,
    "start_time": "2022-10-25T14:00:56.303Z"
   },
   {
    "duration": 7,
    "start_time": "2022-10-25T14:00:56.308Z"
   },
   {
    "duration": 7,
    "start_time": "2022-10-25T14:00:56.316Z"
   },
   {
    "duration": 10,
    "start_time": "2022-10-25T14:00:56.324Z"
   },
   {
    "duration": 20,
    "start_time": "2022-10-25T14:00:56.336Z"
   },
   {
    "duration": 14,
    "start_time": "2022-10-25T14:00:56.357Z"
   },
   {
    "duration": 6,
    "start_time": "2022-10-25T14:00:56.372Z"
   },
   {
    "duration": 22,
    "start_time": "2022-10-25T14:00:56.379Z"
   },
   {
    "duration": 15,
    "start_time": "2022-10-25T14:00:56.402Z"
   },
   {
    "duration": 4,
    "start_time": "2022-10-25T14:00:56.418Z"
   },
   {
    "duration": 14,
    "start_time": "2022-10-25T14:00:56.423Z"
   },
   {
    "duration": 11,
    "start_time": "2022-10-25T14:00:56.438Z"
   },
   {
    "duration": 31,
    "start_time": "2022-10-25T14:00:56.450Z"
   },
   {
    "duration": 240,
    "start_time": "2022-10-25T14:00:56.482Z"
   },
   {
    "duration": 5,
    "start_time": "2022-10-25T14:00:56.725Z"
   },
   {
    "duration": 253,
    "start_time": "2022-10-25T14:00:56.731Z"
   },
   {
    "duration": 10,
    "start_time": "2022-10-25T14:00:56.986Z"
   },
   {
    "duration": 228,
    "start_time": "2022-10-25T14:00:56.998Z"
   },
   {
    "duration": 4,
    "start_time": "2022-10-25T14:00:57.227Z"
   },
   {
    "duration": 234,
    "start_time": "2022-10-25T14:00:57.233Z"
   },
   {
    "duration": 241,
    "start_time": "2022-10-25T14:00:57.468Z"
   },
   {
    "duration": 5,
    "start_time": "2022-10-25T14:00:57.711Z"
   },
   {
    "duration": 272,
    "start_time": "2022-10-25T14:00:57.718Z"
   },
   {
    "duration": 11,
    "start_time": "2022-10-25T14:00:57.992Z"
   },
   {
    "duration": 9,
    "start_time": "2022-10-25T14:00:58.004Z"
   },
   {
    "duration": 3,
    "start_time": "2022-10-25T14:00:58.015Z"
   },
   {
    "duration": 12,
    "start_time": "2022-10-25T14:00:58.019Z"
   },
   {
    "duration": 4,
    "start_time": "2022-10-25T14:00:58.032Z"
   },
   {
    "duration": 10,
    "start_time": "2022-10-25T14:00:58.037Z"
   },
   {
    "duration": 30,
    "start_time": "2022-10-25T14:00:58.048Z"
   },
   {
    "duration": 7,
    "start_time": "2022-10-25T14:01:00.794Z"
   },
   {
    "duration": 13,
    "start_time": "2022-10-25T14:01:01.340Z"
   },
   {
    "duration": 4,
    "start_time": "2022-10-25T14:01:24.698Z"
   },
   {
    "duration": 4,
    "start_time": "2022-10-25T14:04:59.856Z"
   },
   {
    "duration": 4,
    "start_time": "2022-10-25T14:06:33.353Z"
   },
   {
    "duration": 621,
    "start_time": "2022-10-25T14:06:33.358Z"
   },
   {
    "duration": 16,
    "start_time": "2022-10-25T14:06:33.981Z"
   },
   {
    "duration": 22,
    "start_time": "2022-10-25T14:06:33.999Z"
   },
   {
    "duration": 38,
    "start_time": "2022-10-25T14:06:34.023Z"
   },
   {
    "duration": 11,
    "start_time": "2022-10-25T14:06:34.063Z"
   },
   {
    "duration": 91,
    "start_time": "2022-10-25T14:06:34.076Z"
   },
   {
    "duration": 117,
    "start_time": "2022-10-25T14:06:34.168Z"
   },
   {
    "duration": 20,
    "start_time": "2022-10-25T14:06:34.286Z"
   },
   {
    "duration": 13,
    "start_time": "2022-10-25T14:06:34.308Z"
   },
   {
    "duration": 17,
    "start_time": "2022-10-25T14:06:34.322Z"
   },
   {
    "duration": 20,
    "start_time": "2022-10-25T14:06:34.341Z"
   },
   {
    "duration": 33,
    "start_time": "2022-10-25T14:06:34.362Z"
   },
   {
    "duration": 11,
    "start_time": "2022-10-25T14:06:34.396Z"
   },
   {
    "duration": 20,
    "start_time": "2022-10-25T14:06:34.408Z"
   },
   {
    "duration": 13,
    "start_time": "2022-10-25T14:06:34.429Z"
   },
   {
    "duration": 32,
    "start_time": "2022-10-25T14:06:34.443Z"
   },
   {
    "duration": 19,
    "start_time": "2022-10-25T14:06:34.477Z"
   },
   {
    "duration": 12,
    "start_time": "2022-10-25T14:06:34.497Z"
   },
   {
    "duration": 33,
    "start_time": "2022-10-25T14:06:34.510Z"
   },
   {
    "duration": 11,
    "start_time": "2022-10-25T14:06:34.545Z"
   },
   {
    "duration": 25,
    "start_time": "2022-10-25T14:06:34.557Z"
   },
   {
    "duration": 237,
    "start_time": "2022-10-25T14:06:34.584Z"
   },
   {
    "duration": 4,
    "start_time": "2022-10-25T14:06:34.822Z"
   },
   {
    "duration": 249,
    "start_time": "2022-10-25T14:06:34.828Z"
   },
   {
    "duration": 11,
    "start_time": "2022-10-25T14:06:35.078Z"
   },
   {
    "duration": 258,
    "start_time": "2022-10-25T14:06:35.090Z"
   },
   {
    "duration": 4,
    "start_time": "2022-10-25T14:06:35.352Z"
   },
   {
    "duration": 269,
    "start_time": "2022-10-25T14:06:35.358Z"
   },
   {
    "duration": 236,
    "start_time": "2022-10-25T14:06:35.628Z"
   },
   {
    "duration": 11,
    "start_time": "2022-10-25T14:06:35.866Z"
   },
   {
    "duration": 232,
    "start_time": "2022-10-25T14:06:35.879Z"
   },
   {
    "duration": 10,
    "start_time": "2022-10-25T14:06:36.113Z"
   },
   {
    "duration": 15,
    "start_time": "2022-10-25T14:06:36.125Z"
   },
   {
    "duration": 9,
    "start_time": "2022-10-25T14:06:36.142Z"
   },
   {
    "duration": 30,
    "start_time": "2022-10-25T14:06:36.152Z"
   },
   {
    "duration": 29,
    "start_time": "2022-10-25T14:06:36.183Z"
   },
   {
    "duration": 21,
    "start_time": "2022-10-25T14:06:36.214Z"
   },
   {
    "duration": 16,
    "start_time": "2022-10-25T14:06:36.236Z"
   },
   {
    "duration": 21,
    "start_time": "2022-10-25T14:06:36.254Z"
   },
   {
    "duration": 20,
    "start_time": "2022-10-25T14:06:53.678Z"
   },
   {
    "duration": 3,
    "start_time": "2022-10-25T14:41:11.248Z"
   },
   {
    "duration": 616,
    "start_time": "2022-10-25T14:41:11.252Z"
   },
   {
    "duration": 20,
    "start_time": "2022-10-25T14:41:11.871Z"
   },
   {
    "duration": 21,
    "start_time": "2022-10-25T14:41:11.892Z"
   },
   {
    "duration": 27,
    "start_time": "2022-10-25T14:41:11.915Z"
   },
   {
    "duration": 13,
    "start_time": "2022-10-25T14:41:11.944Z"
   },
   {
    "duration": 91,
    "start_time": "2022-10-25T14:41:11.958Z"
   },
   {
    "duration": 113,
    "start_time": "2022-10-25T14:41:12.050Z"
   },
   {
    "duration": 21,
    "start_time": "2022-10-25T14:41:12.164Z"
   },
   {
    "duration": 5,
    "start_time": "2022-10-25T14:41:12.187Z"
   },
   {
    "duration": 11,
    "start_time": "2022-10-25T14:41:12.193Z"
   },
   {
    "duration": 12,
    "start_time": "2022-10-25T14:41:12.205Z"
   },
   {
    "duration": 7,
    "start_time": "2022-10-25T14:41:12.220Z"
   },
   {
    "duration": 14,
    "start_time": "2022-10-25T14:41:12.228Z"
   },
   {
    "duration": 13,
    "start_time": "2022-10-25T14:41:12.243Z"
   },
   {
    "duration": 12,
    "start_time": "2022-10-25T14:41:12.257Z"
   },
   {
    "duration": 18,
    "start_time": "2022-10-25T14:41:12.270Z"
   },
   {
    "duration": 18,
    "start_time": "2022-10-25T14:41:12.290Z"
   },
   {
    "duration": 17,
    "start_time": "2022-10-25T14:41:12.309Z"
   },
   {
    "duration": 239,
    "start_time": "2022-10-25T14:41:12.328Z"
   },
   {
    "duration": 8,
    "start_time": "2022-10-25T14:41:12.569Z"
   },
   {
    "duration": 260,
    "start_time": "2022-10-25T14:41:12.578Z"
   },
   {
    "duration": 12,
    "start_time": "2022-10-25T14:41:12.840Z"
   },
   {
    "duration": 257,
    "start_time": "2022-10-25T14:41:12.853Z"
   },
   {
    "duration": 5,
    "start_time": "2022-10-25T14:41:13.111Z"
   },
   {
    "duration": 260,
    "start_time": "2022-10-25T14:41:13.118Z"
   },
   {
    "duration": 227,
    "start_time": "2022-10-25T14:41:13.380Z"
   },
   {
    "duration": 5,
    "start_time": "2022-10-25T14:41:13.608Z"
   },
   {
    "duration": 252,
    "start_time": "2022-10-25T14:41:13.614Z"
   },
   {
    "duration": 13,
    "start_time": "2022-10-25T14:41:13.867Z"
   },
   {
    "duration": 10,
    "start_time": "2022-10-25T14:41:13.882Z"
   },
   {
    "duration": 4,
    "start_time": "2022-10-25T14:41:13.893Z"
   },
   {
    "duration": 14,
    "start_time": "2022-10-25T14:41:13.898Z"
   },
   {
    "duration": 3,
    "start_time": "2022-10-25T14:41:13.914Z"
   },
   {
    "duration": 12,
    "start_time": "2022-10-25T14:41:13.918Z"
   },
   {
    "duration": 4,
    "start_time": "2022-10-25T14:41:13.932Z"
   },
   {
    "duration": 41,
    "start_time": "2022-10-25T14:41:13.940Z"
   },
   {
    "duration": 16,
    "start_time": "2022-10-25T14:41:13.982Z"
   },
   {
    "duration": 26,
    "start_time": "2022-10-25T14:41:13.999Z"
   },
   {
    "duration": 29,
    "start_time": "2022-10-25T14:41:14.027Z"
   },
   {
    "duration": 45,
    "start_time": "2022-10-25T14:41:14.057Z"
   },
   {
    "duration": 15,
    "start_time": "2022-10-25T14:41:14.104Z"
   },
   {
    "duration": 15,
    "start_time": "2022-10-25T14:41:14.120Z"
   },
   {
    "duration": 2123,
    "start_time": "2022-10-25T14:41:14.137Z"
   },
   {
    "duration": 37,
    "start_time": "2022-10-25T14:41:16.262Z"
   },
   {
    "duration": 346,
    "start_time": "2022-10-25T14:41:16.301Z"
   },
   {
    "duration": 8,
    "start_time": "2022-10-25T14:41:16.649Z"
   },
   {
    "duration": 36,
    "start_time": "2022-10-25T14:41:16.658Z"
   },
   {
    "duration": 47,
    "start_time": "2022-10-25T14:41:16.695Z"
   },
   {
    "duration": 660,
    "start_time": "2022-10-25T14:41:16.744Z"
   },
   {
    "duration": 123,
    "start_time": "2022-10-25T14:41:17.407Z"
   },
   {
    "duration": 13,
    "start_time": "2022-10-25T14:41:17.532Z"
   },
   {
    "duration": 3,
    "start_time": "2022-10-25T14:41:17.546Z"
   },
   {
    "duration": 28,
    "start_time": "2022-10-25T14:41:17.551Z"
   },
   {
    "duration": 8,
    "start_time": "2022-10-25T14:41:17.581Z"
   },
   {
    "duration": 12,
    "start_time": "2022-10-25T14:41:17.591Z"
   },
   {
    "duration": 42,
    "start_time": "2022-10-25T14:41:17.604Z"
   },
   {
    "duration": 92,
    "start_time": "2022-10-25T14:41:17.650Z"
   },
   {
    "duration": 0,
    "start_time": "2022-10-25T14:41:17.744Z"
   },
   {
    "duration": 16,
    "start_time": "2022-10-25T14:41:44.612Z"
   },
   {
    "duration": 24,
    "start_time": "2022-10-25T14:41:55.559Z"
   },
   {
    "duration": 1281070,
    "start_time": "2022-10-25T15:55:21.322Z"
   },
   {
    "duration": 3,
    "start_time": "2022-10-25T16:27:13.995Z"
   },
   {
    "duration": 3,
    "start_time": "2022-10-25T16:27:25.493Z"
   },
   {
    "duration": 4,
    "start_time": "2022-10-25T16:28:32.442Z"
   },
   {
    "duration": 12,
    "start_time": "2022-10-25T16:50:04.963Z"
   },
   {
    "duration": 531074,
    "start_time": "2022-10-25T16:50:44.683Z"
   },
   {
    "duration": 3,
    "start_time": "2022-10-25T16:59:35.758Z"
   },
   {
    "duration": 24,
    "start_time": "2022-10-25T16:59:35.767Z"
   },
   {
    "duration": 3758260,
    "start_time": "2022-10-25T17:01:40.193Z"
   },
   {
    "duration": 3,
    "start_time": "2022-10-25T18:04:18.454Z"
   },
   {
    "duration": 23,
    "start_time": "2022-10-25T18:04:18.458Z"
   },
   {
    "duration": 4,
    "start_time": "2022-10-25T18:20:09.870Z"
   },
   {
    "duration": 2962171,
    "start_time": "2022-10-25T18:20:26.752Z"
   },
   {
    "duration": 4,
    "start_time": "2022-10-25T19:09:48.924Z"
   },
   {
    "duration": 10,
    "start_time": "2022-10-25T19:09:48.929Z"
   },
   {
    "duration": 1161,
    "start_time": "2022-10-25T19:24:30.452Z"
   },
   {
    "duration": 4,
    "start_time": "2022-10-25T19:24:59.433Z"
   },
   {
    "duration": 46462,
    "start_time": "2022-10-25T19:27:15.455Z"
   },
   {
    "duration": 4,
    "start_time": "2022-10-25T19:28:01.919Z"
   },
   {
    "duration": 1758,
    "start_time": "2022-10-26T08:38:39.950Z"
   },
   {
    "duration": 2441,
    "start_time": "2022-10-26T08:38:41.711Z"
   },
   {
    "duration": 23,
    "start_time": "2022-10-26T08:38:44.154Z"
   },
   {
    "duration": 26,
    "start_time": "2022-10-26T08:38:44.178Z"
   },
   {
    "duration": 17,
    "start_time": "2022-10-26T08:38:44.207Z"
   },
   {
    "duration": 20,
    "start_time": "2022-10-26T08:38:44.227Z"
   },
   {
    "duration": 127,
    "start_time": "2022-10-26T08:38:44.248Z"
   },
   {
    "duration": 139,
    "start_time": "2022-10-26T08:38:44.377Z"
   },
   {
    "duration": 34,
    "start_time": "2022-10-26T08:38:44.517Z"
   },
   {
    "duration": 6,
    "start_time": "2022-10-26T08:38:44.553Z"
   },
   {
    "duration": 6,
    "start_time": "2022-10-26T08:38:44.560Z"
   },
   {
    "duration": 4,
    "start_time": "2022-10-26T08:38:44.568Z"
   },
   {
    "duration": 8,
    "start_time": "2022-10-26T08:38:44.574Z"
   },
   {
    "duration": 57,
    "start_time": "2022-10-26T08:38:44.585Z"
   },
   {
    "duration": 17,
    "start_time": "2022-10-26T08:38:44.645Z"
   },
   {
    "duration": 13,
    "start_time": "2022-10-26T08:38:44.665Z"
   },
   {
    "duration": 328,
    "start_time": "2022-10-26T08:38:44.681Z"
   },
   {
    "duration": 12,
    "start_time": "2022-10-26T08:38:45.012Z"
   },
   {
    "duration": 305,
    "start_time": "2022-10-26T08:38:45.027Z"
   },
   {
    "duration": 14,
    "start_time": "2022-10-26T08:38:45.337Z"
   },
   {
    "duration": 316,
    "start_time": "2022-10-26T08:38:45.353Z"
   },
   {
    "duration": 5,
    "start_time": "2022-10-26T08:38:45.671Z"
   },
   {
    "duration": 302,
    "start_time": "2022-10-26T08:38:45.678Z"
   },
   {
    "duration": 313,
    "start_time": "2022-10-26T08:38:45.982Z"
   },
   {
    "duration": 5,
    "start_time": "2022-10-26T08:38:46.296Z"
   },
   {
    "duration": 311,
    "start_time": "2022-10-26T08:38:46.303Z"
   },
   {
    "duration": 20,
    "start_time": "2022-10-26T08:38:46.616Z"
   },
   {
    "duration": 14,
    "start_time": "2022-10-26T08:38:46.639Z"
   },
   {
    "duration": 5,
    "start_time": "2022-10-26T08:38:46.655Z"
   },
   {
    "duration": 13,
    "start_time": "2022-10-26T08:38:46.662Z"
   },
   {
    "duration": 6,
    "start_time": "2022-10-26T08:38:46.686Z"
   },
   {
    "duration": 38,
    "start_time": "2022-10-26T08:38:46.694Z"
   },
   {
    "duration": 6,
    "start_time": "2022-10-26T08:38:46.735Z"
   },
   {
    "duration": 24,
    "start_time": "2022-10-26T08:38:46.744Z"
   },
   {
    "duration": 17,
    "start_time": "2022-10-26T08:38:46.770Z"
   },
   {
    "duration": 42,
    "start_time": "2022-10-26T08:38:46.789Z"
   },
   {
    "duration": 14,
    "start_time": "2022-10-26T08:38:46.835Z"
   },
   {
    "duration": 7,
    "start_time": "2022-10-26T08:38:46.851Z"
   },
   {
    "duration": 11,
    "start_time": "2022-10-26T08:38:46.859Z"
   },
   {
    "duration": 7,
    "start_time": "2022-10-26T08:38:46.872Z"
   },
   {
    "duration": 2502,
    "start_time": "2022-10-26T08:38:46.883Z"
   },
   {
    "duration": 177,
    "start_time": "2022-10-26T08:38:49.387Z"
   },
   {
    "duration": 412,
    "start_time": "2022-10-26T08:38:49.565Z"
   },
   {
    "duration": 9,
    "start_time": "2022-10-26T08:38:49.978Z"
   },
   {
    "duration": 8,
    "start_time": "2022-10-26T08:38:49.989Z"
   },
   {
    "duration": 38,
    "start_time": "2022-10-26T08:38:49.999Z"
   },
   {
    "duration": 666,
    "start_time": "2022-10-26T08:38:50.040Z"
   },
   {
    "duration": 153,
    "start_time": "2022-10-26T08:38:50.707Z"
   },
   {
    "duration": 15,
    "start_time": "2022-10-26T08:38:50.862Z"
   },
   {
    "duration": 3,
    "start_time": "2022-10-26T08:38:50.878Z"
   },
   {
    "duration": 4,
    "start_time": "2022-10-26T08:38:50.883Z"
   },
   {
    "duration": 8,
    "start_time": "2022-10-26T08:38:50.888Z"
   },
   {
    "duration": 31,
    "start_time": "2022-10-26T08:38:50.897Z"
   },
   {
    "duration": 25,
    "start_time": "2022-10-26T08:38:50.931Z"
   },
   {
    "duration": 31,
    "start_time": "2022-10-26T08:38:50.958Z"
   },
   {
    "duration": 174,
    "start_time": "2022-10-26T08:41:06.048Z"
   },
   {
    "duration": 169,
    "start_time": "2022-10-26T08:41:31.144Z"
   },
   {
    "duration": 75,
    "start_time": "2022-10-26T08:42:08.575Z"
   },
   {
    "duration": 36,
    "start_time": "2022-10-26T08:42:19.244Z"
   },
   {
    "duration": 178,
    "start_time": "2022-10-26T08:42:25.799Z"
   },
   {
    "duration": 61,
    "start_time": "2022-10-26T08:42:53.055Z"
   },
   {
    "duration": 95,
    "start_time": "2022-10-26T08:43:01.548Z"
   },
   {
    "duration": 100,
    "start_time": "2022-10-26T08:43:56.305Z"
   },
   {
    "duration": 4,
    "start_time": "2022-10-26T08:44:01.198Z"
   },
   {
    "duration": 4,
    "start_time": "2022-10-26T08:44:05.979Z"
   },
   {
    "duration": 4,
    "start_time": "2022-10-26T08:44:12.140Z"
   },
   {
    "duration": 136,
    "start_time": "2022-10-26T08:44:51.294Z"
   },
   {
    "duration": 203,
    "start_time": "2022-10-26T08:44:59.851Z"
   },
   {
    "duration": 102,
    "start_time": "2022-10-26T08:45:11.112Z"
   },
   {
    "duration": 114,
    "start_time": "2022-10-26T09:51:11.100Z"
   },
   {
    "duration": 34,
    "start_time": "2022-10-26T09:51:41.452Z"
   },
   {
    "duration": 70,
    "start_time": "2022-10-26T09:51:57.444Z"
   },
   {
    "duration": 72,
    "start_time": "2022-10-26T09:52:25.749Z"
   },
   {
    "duration": 38,
    "start_time": "2022-10-26T09:53:12.741Z"
   },
   {
    "duration": 35,
    "start_time": "2022-10-26T09:53:43.233Z"
   },
   {
    "duration": 40,
    "start_time": "2022-10-26T09:53:47.432Z"
   },
   {
    "duration": 87,
    "start_time": "2022-10-26T09:54:22.034Z"
   },
   {
    "duration": 67,
    "start_time": "2022-10-26T09:54:36.181Z"
   },
   {
    "duration": 85,
    "start_time": "2022-10-26T09:54:40.541Z"
   },
   {
    "duration": 5,
    "start_time": "2022-10-26T09:54:59.580Z"
   },
   {
    "duration": 5,
    "start_time": "2022-10-26T09:55:05.764Z"
   },
   {
    "duration": 6,
    "start_time": "2022-10-26T09:55:20.186Z"
   },
   {
    "duration": 7,
    "start_time": "2022-10-26T09:55:27.895Z"
   },
   {
    "duration": 4,
    "start_time": "2022-10-26T09:55:44.111Z"
   },
   {
    "duration": 6,
    "start_time": "2022-10-26T09:56:20.384Z"
   },
   {
    "duration": 101,
    "start_time": "2022-10-26T09:56:35.930Z"
   },
   {
    "duration": 5,
    "start_time": "2022-10-26T09:56:57.363Z"
   },
   {
    "duration": 43,
    "start_time": "2022-10-26T09:57:27.389Z"
   },
   {
    "duration": 35,
    "start_time": "2022-10-26T09:58:06.806Z"
   },
   {
    "duration": 6,
    "start_time": "2022-10-26T09:58:11.002Z"
   },
   {
    "duration": 149,
    "start_time": "2022-10-26T09:59:20.531Z"
   },
   {
    "duration": 152,
    "start_time": "2022-10-26T10:00:04.667Z"
   },
   {
    "duration": 6,
    "start_time": "2022-10-26T10:00:06.230Z"
   },
   {
    "duration": 38,
    "start_time": "2022-10-26T10:00:08.533Z"
   },
   {
    "duration": 34,
    "start_time": "2022-10-26T10:00:46.482Z"
   },
   {
    "duration": 36,
    "start_time": "2022-10-26T10:00:47.136Z"
   },
   {
    "duration": 38,
    "start_time": "2022-10-26T10:28:59.915Z"
   },
   {
    "duration": 106,
    "start_time": "2022-10-26T10:29:00.459Z"
   },
   {
    "duration": 159,
    "start_time": "2022-10-26T10:33:23.474Z"
   },
   {
    "duration": 37,
    "start_time": "2022-10-26T10:33:23.897Z"
   },
   {
    "duration": 47,
    "start_time": "2022-10-26T10:33:24.274Z"
   },
   {
    "duration": 5,
    "start_time": "2022-10-26T10:33:53.229Z"
   },
   {
    "duration": 35,
    "start_time": "2022-10-26T10:37:04.213Z"
   },
   {
    "duration": 37,
    "start_time": "2022-10-26T10:37:53.660Z"
   },
   {
    "duration": 34,
    "start_time": "2022-10-26T10:38:20.108Z"
   },
   {
    "duration": 35,
    "start_time": "2022-10-26T10:38:28.477Z"
   },
   {
    "duration": 149,
    "start_time": "2022-10-26T11:09:58.062Z"
   },
   {
    "duration": 33,
    "start_time": "2022-10-26T11:10:27.300Z"
   },
   {
    "duration": 33,
    "start_time": "2022-10-26T11:10:28.356Z"
   },
   {
    "duration": 988,
    "start_time": "2022-10-26T12:21:49.554Z"
   },
   {
    "duration": 1098,
    "start_time": "2022-10-26T12:22:01.532Z"
   },
   {
    "duration": 94625,
    "start_time": "2022-10-26T12:23:31.828Z"
   },
   {
    "duration": 1654,
    "start_time": "2022-10-27T08:00:11.968Z"
   },
   {
    "duration": 4,
    "start_time": "2022-10-27T08:04:10.024Z"
   },
   {
    "duration": 3432,
    "start_time": "2022-10-27T08:04:11.612Z"
   },
   {
    "duration": 24,
    "start_time": "2022-10-27T08:04:15.047Z"
   },
   {
    "duration": 31,
    "start_time": "2022-10-27T08:04:15.073Z"
   },
   {
    "duration": 27,
    "start_time": "2022-10-27T08:04:15.106Z"
   },
   {
    "duration": 24,
    "start_time": "2022-10-27T08:04:15.134Z"
   },
   {
    "duration": 103,
    "start_time": "2022-10-27T08:04:40.683Z"
   },
   {
    "duration": 154,
    "start_time": "2022-10-27T08:04:41.388Z"
   },
   {
    "duration": 23,
    "start_time": "2022-10-27T08:04:42.027Z"
   },
   {
    "duration": 9,
    "start_time": "2022-10-27T08:04:46.186Z"
   },
   {
    "duration": 7,
    "start_time": "2022-10-27T08:04:54.468Z"
   },
   {
    "duration": 6,
    "start_time": "2022-10-27T08:04:55.066Z"
   },
   {
    "duration": 12,
    "start_time": "2022-10-27T08:05:07.324Z"
   },
   {
    "duration": 15,
    "start_time": "2022-10-27T08:05:20.254Z"
   },
   {
    "duration": 15,
    "start_time": "2022-10-27T08:05:20.817Z"
   },
   {
    "duration": 14,
    "start_time": "2022-10-27T08:05:21.451Z"
   },
   {
    "duration": 277,
    "start_time": "2022-10-27T08:05:22.230Z"
   },
   {
    "duration": 5,
    "start_time": "2022-10-27T08:05:24.790Z"
   },
   {
    "duration": 257,
    "start_time": "2022-10-27T08:05:25.735Z"
   },
   {
    "duration": 14,
    "start_time": "2022-10-27T08:05:26.990Z"
   },
   {
    "duration": 269,
    "start_time": "2022-10-27T08:05:27.967Z"
   },
   {
    "duration": 7,
    "start_time": "2022-10-27T08:05:29.217Z"
   },
   {
    "duration": 279,
    "start_time": "2022-10-27T08:05:30.300Z"
   },
   {
    "duration": 259,
    "start_time": "2022-10-27T08:05:34.292Z"
   },
   {
    "duration": 5,
    "start_time": "2022-10-27T08:05:35.149Z"
   },
   {
    "duration": 300,
    "start_time": "2022-10-27T08:05:35.688Z"
   },
   {
    "duration": 13,
    "start_time": "2022-10-27T08:05:36.949Z"
   },
   {
    "duration": 189,
    "start_time": "2022-10-27T08:05:41.732Z"
   },
   {
    "duration": 152,
    "start_time": "2022-10-27T08:06:08.533Z"
   },
   {
    "duration": 139,
    "start_time": "2022-10-27T08:06:26.973Z"
   },
   {
    "duration": 482,
    "start_time": "2022-10-27T08:18:12.690Z"
   },
   {
    "duration": 301,
    "start_time": "2022-10-27T08:18:30.565Z"
   },
   {
    "duration": 347,
    "start_time": "2022-10-27T08:18:43.267Z"
   },
   {
    "duration": 359,
    "start_time": "2022-10-27T08:19:18.670Z"
   },
   {
    "duration": 4,
    "start_time": "2022-10-27T08:19:28.071Z"
   },
   {
    "duration": 720,
    "start_time": "2022-10-27T08:19:28.092Z"
   },
   {
    "duration": 17,
    "start_time": "2022-10-27T08:19:28.814Z"
   },
   {
    "duration": 31,
    "start_time": "2022-10-27T08:19:28.833Z"
   },
   {
    "duration": 17,
    "start_time": "2022-10-27T08:19:28.866Z"
   },
   {
    "duration": 13,
    "start_time": "2022-10-27T08:19:28.885Z"
   },
   {
    "duration": 112,
    "start_time": "2022-10-27T08:19:28.900Z"
   },
   {
    "duration": 128,
    "start_time": "2022-10-27T08:19:29.014Z"
   },
   {
    "duration": 28,
    "start_time": "2022-10-27T08:19:29.144Z"
   },
   {
    "duration": 5,
    "start_time": "2022-10-27T08:19:29.173Z"
   },
   {
    "duration": 20,
    "start_time": "2022-10-27T08:19:29.180Z"
   },
   {
    "duration": 14,
    "start_time": "2022-10-27T08:19:29.201Z"
   },
   {
    "duration": 16,
    "start_time": "2022-10-27T08:19:29.216Z"
   },
   {
    "duration": 29,
    "start_time": "2022-10-27T08:19:29.234Z"
   },
   {
    "duration": 21,
    "start_time": "2022-10-27T08:19:29.266Z"
   },
   {
    "duration": 11,
    "start_time": "2022-10-27T08:19:29.289Z"
   },
   {
    "duration": 273,
    "start_time": "2022-10-27T08:19:29.302Z"
   },
   {
    "duration": 6,
    "start_time": "2022-10-27T08:19:29.577Z"
   },
   {
    "duration": 271,
    "start_time": "2022-10-27T08:19:29.584Z"
   },
   {
    "duration": 14,
    "start_time": "2022-10-27T08:19:29.856Z"
   },
   {
    "duration": 270,
    "start_time": "2022-10-27T08:19:29.872Z"
   },
   {
    "duration": 12,
    "start_time": "2022-10-27T08:19:30.144Z"
   },
   {
    "duration": 289,
    "start_time": "2022-10-27T08:19:30.158Z"
   },
   {
    "duration": 271,
    "start_time": "2022-10-27T08:19:30.454Z"
   },
   {
    "duration": 5,
    "start_time": "2022-10-27T08:19:30.727Z"
   },
   {
    "duration": 330,
    "start_time": "2022-10-27T08:19:30.734Z"
   },
   {
    "duration": 14,
    "start_time": "2022-10-27T08:19:31.066Z"
   },
   {
    "duration": 34,
    "start_time": "2022-10-27T08:19:31.082Z"
   },
   {
    "duration": 22,
    "start_time": "2022-10-27T08:19:31.118Z"
   },
   {
    "duration": 67,
    "start_time": "2022-10-27T08:19:31.141Z"
   },
   {
    "duration": 107,
    "start_time": "2022-10-27T08:19:31.210Z"
   },
   {
    "duration": 108,
    "start_time": "2022-10-27T08:19:31.320Z"
   },
   {
    "duration": 31,
    "start_time": "2022-10-27T08:19:31.431Z"
   },
   {
    "duration": 47,
    "start_time": "2022-10-27T08:19:31.464Z"
   },
   {
    "duration": 36,
    "start_time": "2022-10-27T08:19:31.513Z"
   },
   {
    "duration": 28,
    "start_time": "2022-10-27T08:19:31.551Z"
   },
   {
    "duration": 41,
    "start_time": "2022-10-27T08:19:31.581Z"
   },
   {
    "duration": 64,
    "start_time": "2022-10-27T08:19:31.625Z"
   },
   {
    "duration": 53,
    "start_time": "2022-10-27T08:19:31.692Z"
   },
   {
    "duration": 26,
    "start_time": "2022-10-27T08:19:31.748Z"
   },
   {
    "duration": 2395,
    "start_time": "2022-10-27T08:19:31.777Z"
   },
   {
    "duration": 187,
    "start_time": "2022-10-27T08:19:34.177Z"
   },
   {
    "duration": 361,
    "start_time": "2022-10-27T08:19:37.061Z"
   },
   {
    "duration": 3,
    "start_time": "2022-10-27T08:43:02.574Z"
   },
   {
    "duration": 111,
    "start_time": "2022-10-27T08:43:04.173Z"
   },
   {
    "duration": 6,
    "start_time": "2022-10-27T08:43:17.631Z"
   },
   {
    "duration": 668,
    "start_time": "2022-10-27T08:43:17.639Z"
   },
   {
    "duration": 18,
    "start_time": "2022-10-27T08:43:18.309Z"
   },
   {
    "duration": 35,
    "start_time": "2022-10-27T08:43:18.329Z"
   },
   {
    "duration": 34,
    "start_time": "2022-10-27T08:43:18.366Z"
   },
   {
    "duration": 17,
    "start_time": "2022-10-27T08:43:18.402Z"
   },
   {
    "duration": 103,
    "start_time": "2022-10-27T08:43:18.421Z"
   },
   {
    "duration": 141,
    "start_time": "2022-10-27T08:43:18.526Z"
   },
   {
    "duration": 25,
    "start_time": "2022-10-27T08:43:18.671Z"
   },
   {
    "duration": 5,
    "start_time": "2022-10-27T08:43:18.698Z"
   },
   {
    "duration": 13,
    "start_time": "2022-10-27T08:43:18.707Z"
   },
   {
    "duration": 27,
    "start_time": "2022-10-27T08:43:18.722Z"
   },
   {
    "duration": 17,
    "start_time": "2022-10-27T08:43:18.751Z"
   },
   {
    "duration": 26,
    "start_time": "2022-10-27T08:43:18.770Z"
   },
   {
    "duration": 17,
    "start_time": "2022-10-27T08:43:18.798Z"
   },
   {
    "duration": 10,
    "start_time": "2022-10-27T08:43:18.816Z"
   },
   {
    "duration": 280,
    "start_time": "2022-10-27T08:43:18.828Z"
   },
   {
    "duration": 7,
    "start_time": "2022-10-27T08:43:19.110Z"
   },
   {
    "duration": 296,
    "start_time": "2022-10-27T08:43:19.119Z"
   },
   {
    "duration": 13,
    "start_time": "2022-10-27T08:43:19.416Z"
   },
   {
    "duration": 272,
    "start_time": "2022-10-27T08:43:19.431Z"
   },
   {
    "duration": 5,
    "start_time": "2022-10-27T08:43:19.705Z"
   },
   {
    "duration": 267,
    "start_time": "2022-10-27T08:43:19.711Z"
   },
   {
    "duration": 276,
    "start_time": "2022-10-27T08:43:19.980Z"
   },
   {
    "duration": 5,
    "start_time": "2022-10-27T08:43:20.258Z"
   },
   {
    "duration": 272,
    "start_time": "2022-10-27T08:43:20.265Z"
   },
   {
    "duration": 19,
    "start_time": "2022-10-27T08:43:20.538Z"
   },
   {
    "duration": 11,
    "start_time": "2022-10-27T08:43:20.559Z"
   },
   {
    "duration": 33,
    "start_time": "2022-10-27T08:43:20.573Z"
   },
   {
    "duration": 30,
    "start_time": "2022-10-27T08:43:20.608Z"
   },
   {
    "duration": 10,
    "start_time": "2022-10-27T08:43:20.639Z"
   },
   {
    "duration": 11,
    "start_time": "2022-10-27T08:43:20.651Z"
   },
   {
    "duration": 23,
    "start_time": "2022-10-27T08:43:20.672Z"
   },
   {
    "duration": 33,
    "start_time": "2022-10-27T08:43:20.697Z"
   },
   {
    "duration": 17,
    "start_time": "2022-10-27T08:43:20.732Z"
   },
   {
    "duration": 5,
    "start_time": "2022-10-27T08:43:20.751Z"
   },
   {
    "duration": 17,
    "start_time": "2022-10-27T08:43:20.758Z"
   },
   {
    "duration": 19,
    "start_time": "2022-10-27T08:43:20.777Z"
   },
   {
    "duration": 46,
    "start_time": "2022-10-27T08:43:20.799Z"
   },
   {
    "duration": 30,
    "start_time": "2022-10-27T08:43:20.847Z"
   },
   {
    "duration": 2418,
    "start_time": "2022-10-27T08:43:20.878Z"
   },
   {
    "duration": 34,
    "start_time": "2022-10-27T08:43:23.298Z"
   },
   {
    "duration": 399,
    "start_time": "2022-10-27T08:43:23.334Z"
   },
   {
    "duration": 21,
    "start_time": "2022-10-27T08:43:23.735Z"
   },
   {
    "duration": 14,
    "start_time": "2022-10-27T08:43:23.758Z"
   },
   {
    "duration": 17,
    "start_time": "2022-10-27T08:43:23.774Z"
   },
   {
    "duration": 734,
    "start_time": "2022-10-27T08:43:23.793Z"
   },
   {
    "duration": 180,
    "start_time": "2022-10-27T08:43:24.529Z"
   },
   {
    "duration": 16,
    "start_time": "2022-10-27T08:43:24.711Z"
   },
   {
    "duration": 3,
    "start_time": "2022-10-27T08:43:24.729Z"
   },
   {
    "duration": 11,
    "start_time": "2022-10-27T08:43:24.734Z"
   },
   {
    "duration": 17,
    "start_time": "2022-10-27T08:43:24.748Z"
   },
   {
    "duration": 14,
    "start_time": "2022-10-27T08:43:24.767Z"
   },
   {
    "duration": 26,
    "start_time": "2022-10-27T08:43:24.784Z"
   },
   {
    "duration": 24,
    "start_time": "2022-10-27T08:43:24.812Z"
   },
   {
    "duration": 3,
    "start_time": "2022-10-27T08:43:41.366Z"
   },
   {
    "duration": 8,
    "start_time": "2022-10-27T08:43:41.707Z"
   },
   {
    "duration": 5,
    "start_time": "2022-10-27T08:44:03.447Z"
   },
   {
    "duration": 26,
    "start_time": "2022-10-27T08:45:31.645Z"
   },
   {
    "duration": 25,
    "start_time": "2022-10-27T08:45:56.910Z"
   },
   {
    "duration": 20,
    "start_time": "2022-10-27T08:46:46.892Z"
   },
   {
    "duration": 22,
    "start_time": "2022-10-27T08:46:47.290Z"
   },
   {
    "duration": 32,
    "start_time": "2022-10-27T08:47:08.292Z"
   },
   {
    "duration": 44,
    "start_time": "2022-10-27T08:47:19.627Z"
   },
   {
    "duration": 4,
    "start_time": "2022-10-27T08:48:05.140Z"
   },
   {
    "duration": 33,
    "start_time": "2022-10-27T08:50:39.970Z"
   },
   {
    "duration": 32,
    "start_time": "2022-10-27T08:50:40.262Z"
   },
   {
    "duration": 35,
    "start_time": "2022-10-27T08:50:45.061Z"
   },
   {
    "duration": 35,
    "start_time": "2022-10-27T08:50:48.580Z"
   },
   {
    "duration": 20,
    "start_time": "2022-10-27T08:51:45.660Z"
   },
   {
    "duration": 21,
    "start_time": "2022-10-27T08:51:45.990Z"
   },
   {
    "duration": 36,
    "start_time": "2022-10-27T08:52:26.708Z"
   },
   {
    "duration": 40,
    "start_time": "2022-10-27T08:52:33.141Z"
   },
   {
    "duration": 20,
    "start_time": "2022-10-27T08:52:49.642Z"
   },
   {
    "duration": 36,
    "start_time": "2022-10-27T08:52:55.390Z"
   },
   {
    "duration": 19,
    "start_time": "2022-10-27T08:53:02.262Z"
   },
   {
    "duration": 21,
    "start_time": "2022-10-27T08:53:02.610Z"
   },
   {
    "duration": 36,
    "start_time": "2022-10-27T08:53:06.339Z"
   },
   {
    "duration": 36,
    "start_time": "2022-10-27T08:53:08.948Z"
   }
  ],
  "kernelspec": {
   "display_name": "Python 3 (ipykernel)",
   "language": "python",
   "name": "python3"
  },
  "language_info": {
   "codemirror_mode": {
    "name": "ipython",
    "version": 3
   },
   "file_extension": ".py",
   "mimetype": "text/x-python",
   "name": "python",
   "nbconvert_exporter": "python",
   "pygments_lexer": "ipython3",
   "version": "3.9.7"
  },
  "toc": {
   "base_numbering": 1,
   "nav_menu": {},
   "number_sections": true,
   "sideBar": true,
   "skip_h1_title": true,
   "title_cell": "Содержание",
   "title_sidebar": "Contents",
   "toc_cell": true,
   "toc_position": {
    "height": "calc(100% - 180px)",
    "left": "10px",
    "top": "150px",
    "width": "304px"
   },
   "toc_section_display": true,
   "toc_window_display": false
  }
 },
 "nbformat": 4,
 "nbformat_minor": 2
}
